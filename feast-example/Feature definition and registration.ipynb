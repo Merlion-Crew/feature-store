{
  "cells": [
    {
      "cell_type": "markdown",
      "metadata": {
        "application/vnd.databricks.v1+cell": {
          "inputWidgets": {},
          "nuid": "1480182e-afb1-4e1e-b393-c50a663e2343",
          "showTitle": false,
          "title": ""
        }
      },
      "source": [
        "d\n",
        "# Feature Definition and Registration\n",
        "This notebook has all **Feature Definitions and Feature Registrations** pertaining to the Home Credit Risk Default usecase"
      ]
    },
    {
      "cell_type": "code",
      "execution_count": 19,
      "metadata": {},
      "outputs": [
        {
          "name": "stdout",
          "output_type": "stream",
          "text": [
            "Requirement already satisfied: feast-azure-provider in /anaconda/envs/azureml_py38/lib/python3.8/site-packages (0.3.0)\n",
            "Requirement already satisfied: azure-identity>=1.6.1 in /anaconda/envs/azureml_py38/lib/python3.8/site-packages (from feast-azure-provider) (1.7.0)\n",
            "Requirement already satisfied: dill==0.3.4 in /anaconda/envs/azureml_py38/lib/python3.8/site-packages (from feast-azure-provider) (0.3.4)\n",
            "Requirement already satisfied: feast[redis]==0.18.1 in /anaconda/envs/azureml_py38/lib/python3.8/site-packages (from feast-azure-provider) (0.18.1)\n",
            "Requirement already satisfied: SQLAlchemy>=1.4.19 in /anaconda/envs/azureml_py38/lib/python3.8/site-packages (from feast-azure-provider) (1.4.31)\n",
            "Requirement already satisfied: azure-storage-blob>=0.37.0 in /anaconda/envs/azureml_py38/lib/python3.8/site-packages (from feast-azure-provider) (12.9.0)\n",
            "Requirement already satisfied: pyodbc>=4.0.30 in /anaconda/envs/azureml_py38/lib/python3.8/site-packages (from feast-azure-provider) (4.0.32)\n",
            "Requirement already satisfied: six>=1.12.0 in /anaconda/envs/azureml_py38/lib/python3.8/site-packages (from azure-identity>=1.6.1->feast-azure-provider) (1.16.0)\n",
            "Requirement already satisfied: msal<2.0.0,>=1.12.0 in /anaconda/envs/azureml_py38/lib/python3.8/site-packages (from azure-identity>=1.6.1->feast-azure-provider) (1.16.0)\n",
            "Requirement already satisfied: azure-core<2.0.0,>=1.11.0 in /anaconda/envs/azureml_py38/lib/python3.8/site-packages (from azure-identity>=1.6.1->feast-azure-provider) (1.21.1)\n",
            "Requirement already satisfied: msal-extensions~=0.3.0 in /anaconda/envs/azureml_py38/lib/python3.8/site-packages (from azure-identity>=1.6.1->feast-azure-provider) (0.3.1)\n",
            "Requirement already satisfied: cryptography>=2.5 in /anaconda/envs/azureml_py38/lib/python3.8/site-packages (from azure-identity>=1.6.1->feast-azure-provider) (36.0.1)\n",
            "Requirement already satisfied: proto-plus<1.19.7 in /anaconda/envs/azureml_py38/lib/python3.8/site-packages (from feast[redis]==0.18.1->feast-azure-provider) (1.19.6)\n",
            "Requirement already satisfied: colorama>=0.3.9 in /anaconda/envs/azureml_py38/lib/python3.8/site-packages (from feast[redis]==0.18.1->feast-azure-provider) (0.4.4)\n",
            "Requirement already satisfied: PyYAML>=5.4.* in /anaconda/envs/azureml_py38/lib/python3.8/site-packages (from feast[redis]==0.18.1->feast-azure-provider) (6.0)\n",
            "Requirement already satisfied: uvicorn[standard]>=0.14.0 in /anaconda/envs/azureml_py38/lib/python3.8/site-packages (from feast[redis]==0.18.1->feast-azure-provider) (0.17.4)\n",
            "Requirement already satisfied: fastavro>=1.1.0 in /anaconda/envs/azureml_py38/lib/python3.8/site-packages (from feast[redis]==0.18.1->feast-azure-provider) (1.4.10)\n",
            "Requirement already satisfied: tenacity>=7.* in /anaconda/envs/azureml_py38/lib/python3.8/site-packages (from feast[redis]==0.18.1->feast-azure-provider) (8.0.1)\n",
            "Requirement already satisfied: protobuf>=3.10 in /anaconda/envs/azureml_py38/lib/python3.8/site-packages (from feast[redis]==0.18.1->feast-azure-provider) (3.19.3)\n",
            "Requirement already satisfied: google-api-core>=1.23.0 in /anaconda/envs/azureml_py38/lib/python3.8/site-packages (from feast[redis]==0.18.1->feast-azure-provider) (2.5.0)\n",
            "Requirement already satisfied: googleapis-common-protos==1.52.* in /anaconda/envs/azureml_py38/lib/python3.8/site-packages (from feast[redis]==0.18.1->feast-azure-provider) (1.52.0)\n",
            "Requirement already satisfied: tensorflow-metadata<2.0.0,>=1.0.0 in /anaconda/envs/azureml_py38/lib/python3.8/site-packages (from feast[redis]==0.18.1->feast-azure-provider) (1.7.0)\n",
            "Requirement already satisfied: mmh3 in /anaconda/envs/azureml_py38/lib/python3.8/site-packages (from feast[redis]==0.18.1->feast-azure-provider) (3.0.0)\n",
            "Requirement already satisfied: toml==0.10.* in /anaconda/envs/azureml_py38/lib/python3.8/site-packages (from feast[redis]==0.18.1->feast-azure-provider) (0.10.2)\n",
            "Requirement already satisfied: tqdm==4.* in /anaconda/envs/azureml_py38/lib/python3.8/site-packages (from feast[redis]==0.18.1->feast-azure-provider) (4.62.3)\n",
            "Requirement already satisfied: grpcio>=1.34.0 in /anaconda/envs/azureml_py38/lib/python3.8/site-packages (from feast[redis]==0.18.1->feast-azure-provider) (1.43.0)\n",
            "Requirement already satisfied: tabulate==0.8.* in /anaconda/envs/azureml_py38/lib/python3.8/site-packages (from feast[redis]==0.18.1->feast-azure-provider) (0.8.9)\n",
            "Requirement already satisfied: jsonschema in /anaconda/envs/azureml_py38/lib/python3.8/site-packages (from feast[redis]==0.18.1->feast-azure-provider) (3.2.0)\n",
            "Requirement already satisfied: Click==8.* in /anaconda/envs/azureml_py38/lib/python3.8/site-packages (from feast[redis]==0.18.1->feast-azure-provider) (8.0.3)\n",
            "Requirement already satisfied: grpcio-reflection>=1.34.0 in /anaconda/envs/azureml_py38/lib/python3.8/site-packages (from feast[redis]==0.18.1->feast-azure-provider) (1.45.0)\n",
            "Requirement already satisfied: Jinja2>=2.0.0 in /anaconda/envs/azureml_py38/lib/python3.8/site-packages (from feast[redis]==0.18.1->feast-azure-provider) (2.11.2)\n",
            "Requirement already satisfied: pyarrow>=4.0.0 in /anaconda/envs/azureml_py38/lib/python3.8/site-packages (from feast[redis]==0.18.1->feast-azure-provider) (6.0.1)\n",
            "Requirement already satisfied: pandas>=1.0.0 in /anaconda/envs/azureml_py38/lib/python3.8/site-packages (from feast[redis]==0.18.1->feast-azure-provider) (1.4.1)\n",
            "Requirement already satisfied: pandavro==1.5.* in /anaconda/envs/azureml_py38/lib/python3.8/site-packages (from feast[redis]==0.18.1->feast-azure-provider) (1.5.2)\n",
            "Requirement already satisfied: fastapi>=0.68.0 in /anaconda/envs/azureml_py38/lib/python3.8/site-packages (from feast[redis]==0.18.1->feast-azure-provider) (0.73.0)\n",
            "Requirement already satisfied: pydantic>=1.0.0 in /anaconda/envs/azureml_py38/lib/python3.8/site-packages (from feast[redis]==0.18.1->feast-azure-provider) (1.9.0)\n",
            "Requirement already satisfied: redis>=4.1.0; extra == \"redis\" in /anaconda/envs/azureml_py38/lib/python3.8/site-packages (from feast[redis]==0.18.1->feast-azure-provider) (4.1.3)\n",
            "Requirement already satisfied: hiredis>=2.0.0; extra == \"redis\" in /anaconda/envs/azureml_py38/lib/python3.8/site-packages (from feast[redis]==0.18.1->feast-azure-provider) (2.0.0)\n",
            "Requirement already satisfied: greenlet!=0.4.17; python_version >= \"3\" and (platform_machine == \"aarch64\" or (platform_machine == \"ppc64le\" or (platform_machine == \"x86_64\" or (platform_machine == \"amd64\" or (platform_machine == \"AMD64\" or (platform_machine == \"win32\" or platform_machine == \"WIN32\")))))) in /anaconda/envs/azureml_py38/lib/python3.8/site-packages (from SQLAlchemy>=1.4.19->feast-azure-provider) (1.1.2)\n",
            "Requirement already satisfied: msrest>=0.6.21 in /anaconda/envs/azureml_py38/lib/python3.8/site-packages (from azure-storage-blob>=0.37.0->feast-azure-provider) (0.6.21)\n",
            "Requirement already satisfied: requests<3,>=2.0.0 in /anaconda/envs/azureml_py38/lib/python3.8/site-packages (from msal<2.0.0,>=1.12.0->azure-identity>=1.6.1->feast-azure-provider) (2.27.1)\n",
            "Requirement already satisfied: PyJWT[crypto]<3,>=1.0.0 in /anaconda/envs/azureml_py38/lib/python3.8/site-packages (from msal<2.0.0,>=1.12.0->azure-identity>=1.6.1->feast-azure-provider) (2.3.0)\n",
            "Requirement already satisfied: portalocker<3,>=1.0; python_version >= \"3.5\" and platform_system != \"Windows\" in /anaconda/envs/azureml_py38/lib/python3.8/site-packages (from msal-extensions~=0.3.0->azure-identity>=1.6.1->feast-azure-provider) (2.3.2)\n",
            "Requirement already satisfied: cffi>=1.12 in /anaconda/envs/azureml_py38/lib/python3.8/site-packages (from cryptography>=2.5->azure-identity>=1.6.1->feast-azure-provider) (1.15.0)\n",
            "Requirement already satisfied: asgiref>=3.4.0 in /anaconda/envs/azureml_py38/lib/python3.8/site-packages (from uvicorn[standard]>=0.14.0->feast[redis]==0.18.1->feast-azure-provider) (3.5.0)\n",
            "Requirement already satisfied: h11>=0.8 in /anaconda/envs/azureml_py38/lib/python3.8/site-packages (from uvicorn[standard]>=0.14.0->feast[redis]==0.18.1->feast-azure-provider) (0.13.0)\n",
            "Requirement already satisfied: websockets>=10.0; extra == \"standard\" in /anaconda/envs/azureml_py38/lib/python3.8/site-packages (from uvicorn[standard]>=0.14.0->feast[redis]==0.18.1->feast-azure-provider) (10.2)\n",
            "Requirement already satisfied: uvloop!=0.15.0,!=0.15.1,>=0.14.0; (sys_platform != \"win32\" and (sys_platform != \"cygwin\" and platform_python_implementation != \"PyPy\")) and extra == \"standard\" in /anaconda/envs/azureml_py38/lib/python3.8/site-packages (from uvicorn[standard]>=0.14.0->feast[redis]==0.18.1->feast-azure-provider) (0.16.0)\n",
            "Requirement already satisfied: watchgod>=0.6; extra == \"standard\" in /anaconda/envs/azureml_py38/lib/python3.8/site-packages (from uvicorn[standard]>=0.14.0->feast[redis]==0.18.1->feast-azure-provider) (0.8.1)\n",
            "Requirement already satisfied: httptools<0.4.0,>=0.2.0; extra == \"standard\" in /anaconda/envs/azureml_py38/lib/python3.8/site-packages (from uvicorn[standard]>=0.14.0->feast[redis]==0.18.1->feast-azure-provider) (0.3.0)\n",
            "Requirement already satisfied: python-dotenv>=0.13; extra == \"standard\" in /anaconda/envs/azureml_py38/lib/python3.8/site-packages (from uvicorn[standard]>=0.14.0->feast[redis]==0.18.1->feast-azure-provider) (0.20.0)\n",
            "Requirement already satisfied: google-auth<3.0dev,>=1.25.0 in /anaconda/envs/azureml_py38/lib/python3.8/site-packages (from google-api-core>=1.23.0->feast[redis]==0.18.1->feast-azure-provider) (2.6.0)\n",
            "Requirement already satisfied: absl-py<2.0.0,>=0.9 in /anaconda/envs/azureml_py38/lib/python3.8/site-packages (from tensorflow-metadata<2.0.0,>=1.0.0->feast[redis]==0.18.1->feast-azure-provider) (0.15.0)\n",
            "Requirement already satisfied: attrs>=17.4.0 in /anaconda/envs/azureml_py38/lib/python3.8/site-packages (from jsonschema->feast[redis]==0.18.1->feast-azure-provider) (21.4.0)\n",
            "Requirement already satisfied: setuptools in /anaconda/envs/azureml_py38/lib/python3.8/site-packages (from jsonschema->feast[redis]==0.18.1->feast-azure-provider) (50.3.0)\n",
            "Requirement already satisfied: pyrsistent>=0.14.0 in /anaconda/envs/azureml_py38/lib/python3.8/site-packages (from jsonschema->feast[redis]==0.18.1->feast-azure-provider) (0.18.0)\n",
            "Requirement already satisfied: MarkupSafe>=0.23 in /anaconda/envs/azureml_py38/lib/python3.8/site-packages (from Jinja2>=2.0.0->feast[redis]==0.18.1->feast-azure-provider) (2.0.1)\n",
            "Requirement already satisfied: numpy>=1.16.6 in /anaconda/envs/azureml_py38/lib/python3.8/site-packages (from pyarrow>=4.0.0->feast[redis]==0.18.1->feast-azure-provider) (1.22.2)\n",
            "Requirement already satisfied: pytz>=2020.1 in /anaconda/envs/azureml_py38/lib/python3.8/site-packages (from pandas>=1.0.0->feast[redis]==0.18.1->feast-azure-provider) (2021.3)\n",
            "Requirement already satisfied: python-dateutil>=2.8.1 in /anaconda/envs/azureml_py38/lib/python3.8/site-packages (from pandas>=1.0.0->feast[redis]==0.18.1->feast-azure-provider) (2.8.2)\n",
            "Requirement already satisfied: starlette==0.17.1 in /anaconda/envs/azureml_py38/lib/python3.8/site-packages (from fastapi>=0.68.0->feast[redis]==0.18.1->feast-azure-provider) (0.17.1)\n",
            "Requirement already satisfied: typing-extensions>=3.7.4.3 in /anaconda/envs/azureml_py38/lib/python3.8/site-packages (from pydantic>=1.0.0->feast[redis]==0.18.1->feast-azure-provider) (4.0.1)\n",
            "Requirement already satisfied: deprecated>=1.2.3 in /anaconda/envs/azureml_py38/lib/python3.8/site-packages (from redis>=4.1.0; extra == \"redis\"->feast[redis]==0.18.1->feast-azure-provider) (1.2.13)\n",
            "Requirement already satisfied: packaging>=20.4 in /anaconda/envs/azureml_py38/lib/python3.8/site-packages (from redis>=4.1.0; extra == \"redis\"->feast[redis]==0.18.1->feast-azure-provider) (21.3)\n",
            "Requirement already satisfied: requests-oauthlib>=0.5.0 in /anaconda/envs/azureml_py38/lib/python3.8/site-packages (from msrest>=0.6.21->azure-storage-blob>=0.37.0->feast-azure-provider) (1.3.0)\n",
            "Requirement already satisfied: isodate>=0.6.0 in /anaconda/envs/azureml_py38/lib/python3.8/site-packages (from msrest>=0.6.21->azure-storage-blob>=0.37.0->feast-azure-provider) (0.6.1)\n",
            "Requirement already satisfied: certifi>=2017.4.17 in /anaconda/envs/azureml_py38/lib/python3.8/site-packages (from msrest>=0.6.21->azure-storage-blob>=0.37.0->feast-azure-provider) (2021.10.8)\n",
            "Requirement already satisfied: charset-normalizer~=2.0.0; python_version >= \"3\" in /anaconda/envs/azureml_py38/lib/python3.8/site-packages (from requests<3,>=2.0.0->msal<2.0.0,>=1.12.0->azure-identity>=1.6.1->feast-azure-provider) (2.0.10)\n",
            "Requirement already satisfied: idna<4,>=2.5; python_version >= \"3\" in /anaconda/envs/azureml_py38/lib/python3.8/site-packages (from requests<3,>=2.0.0->msal<2.0.0,>=1.12.0->azure-identity>=1.6.1->feast-azure-provider) (3.3)\n",
            "Requirement already satisfied: urllib3<1.27,>=1.21.1 in /anaconda/envs/azureml_py38/lib/python3.8/site-packages (from requests<3,>=2.0.0->msal<2.0.0,>=1.12.0->azure-identity>=1.6.1->feast-azure-provider) (1.26.7)\n",
            "Requirement already satisfied: pycparser in /anaconda/envs/azureml_py38/lib/python3.8/site-packages (from cffi>=1.12->cryptography>=2.5->azure-identity>=1.6.1->feast-azure-provider) (2.21)\n",
            "Requirement already satisfied: anyio<4,>=3.0.0 in /anaconda/envs/azureml_py38/lib/python3.8/site-packages (from watchgod>=0.6; extra == \"standard\"->uvicorn[standard]>=0.14.0->feast[redis]==0.18.1->feast-azure-provider) (3.5.0)\n",
            "Requirement already satisfied: pyasn1-modules>=0.2.1 in /anaconda/envs/azureml_py38/lib/python3.8/site-packages (from google-auth<3.0dev,>=1.25.0->google-api-core>=1.23.0->feast[redis]==0.18.1->feast-azure-provider) (0.2.8)\n",
            "Requirement already satisfied: cachetools<6.0,>=2.0.0 in /anaconda/envs/azureml_py38/lib/python3.8/site-packages (from google-auth<3.0dev,>=1.25.0->google-api-core>=1.23.0->feast[redis]==0.18.1->feast-azure-provider) (5.0.0)\n",
            "Requirement already satisfied: rsa<5,>=3.1.4; python_version >= \"3.6\" in /anaconda/envs/azureml_py38/lib/python3.8/site-packages (from google-auth<3.0dev,>=1.25.0->google-api-core>=1.23.0->feast[redis]==0.18.1->feast-azure-provider) (4.8)\n",
            "Requirement already satisfied: wrapt<2,>=1.10 in /anaconda/envs/azureml_py38/lib/python3.8/site-packages (from deprecated>=1.2.3->redis>=4.1.0; extra == \"redis\"->feast[redis]==0.18.1->feast-azure-provider) (1.12.1)\n",
            "Requirement already satisfied: pyparsing!=3.0.5,>=2.0.2 in /anaconda/envs/azureml_py38/lib/python3.8/site-packages (from packaging>=20.4->redis>=4.1.0; extra == \"redis\"->feast[redis]==0.18.1->feast-azure-provider) (3.0.6)\n",
            "Requirement already satisfied: oauthlib>=3.0.0 in /anaconda/envs/azureml_py38/lib/python3.8/site-packages (from requests-oauthlib>=0.5.0->msrest>=0.6.21->azure-storage-blob>=0.37.0->feast-azure-provider) (3.1.1)\n",
            "Requirement already satisfied: sniffio>=1.1 in /anaconda/envs/azureml_py38/lib/python3.8/site-packages (from anyio<4,>=3.0.0->watchgod>=0.6; extra == \"standard\"->uvicorn[standard]>=0.14.0->feast[redis]==0.18.1->feast-azure-provider) (1.2.0)\n",
            "Requirement already satisfied: pyasn1<0.5.0,>=0.4.6 in /anaconda/envs/azureml_py38/lib/python3.8/site-packages (from pyasn1-modules>=0.2.1->google-auth<3.0dev,>=1.25.0->google-api-core>=1.23.0->feast[redis]==0.18.1->feast-azure-provider) (0.4.8)\n",
            "Note: you may need to restart the kernel to use updated packages.\n",
            "Requirement already satisfied: azure-cli in /anaconda/envs/azureml_py38/lib/python3.8/site-packages (2.33.0)\n",
            "Requirement already satisfied: azure-mgmt-dns~=8.0.0 in /anaconda/envs/azureml_py38/lib/python3.8/site-packages (from azure-cli) (8.0.0)\n",
            "Requirement already satisfied: fabric~=2.4 in /anaconda/envs/azureml_py38/lib/python3.8/site-packages (from azure-cli) (2.6.0)\n",
            "Requirement already satisfied: azure-mgmt-relay~=0.1.0 in /anaconda/envs/azureml_py38/lib/python3.8/site-packages (from azure-cli) (0.1.0)\n",
            "Requirement already satisfied: azure-identity in /anaconda/envs/azureml_py38/lib/python3.8/site-packages (from azure-cli) (1.7.0)\n",
            "Requirement already satisfied: azure-mgmt-redis~=13.1.0 in /anaconda/envs/azureml_py38/lib/python3.8/site-packages (from azure-cli) (13.1.0)\n",
            "Requirement already satisfied: azure-mgmt-authorization~=0.61.0 in /anaconda/envs/azureml_py38/lib/python3.8/site-packages (from azure-cli) (0.61.0)\n",
            "Requirement already satisfied: azure-mgmt-managementgroups~=0.1 in /anaconda/envs/azureml_py38/lib/python3.8/site-packages (from azure-cli) (0.2.0)\n",
            "Requirement already satisfied: azure-datalake-store~=0.0.49 in /anaconda/envs/azureml_py38/lib/python3.8/site-packages (from azure-cli) (0.0.52)\n",
            "Requirement already satisfied: azure-mgmt-keyvault==9.3.0 in /anaconda/envs/azureml_py38/lib/python3.8/site-packages (from azure-cli) (9.3.0)\n",
            "Requirement already satisfied: azure-mgmt-netapp~=6.0.1 in /anaconda/envs/azureml_py38/lib/python3.8/site-packages (from azure-cli) (6.0.1)\n",
            "Requirement already satisfied: azure-mgmt-applicationinsights~=1.0.0 in /anaconda/envs/azureml_py38/lib/python3.8/site-packages (from azure-cli) (1.0.0)\n",
            "Requirement already satisfied: azure-mgmt-resource==20.0.0 in /anaconda/envs/azureml_py38/lib/python3.8/site-packages (from azure-cli) (20.0.0)\n",
            "Requirement already satisfied: azure-mgmt-security~=2.0.0b1 in /anaconda/envs/azureml_py38/lib/python3.8/site-packages (from azure-cli) (2.0.0b1)\n",
            "Requirement already satisfied: azure-mgmt-datalake-analytics~=0.2.1 in /anaconda/envs/azureml_py38/lib/python3.8/site-packages (from azure-cli) (0.2.1)\n",
            "Requirement already satisfied: azure-mgmt-iothubprovisioningservices~=1.0.0 in /anaconda/envs/azureml_py38/lib/python3.8/site-packages (from azure-cli) (1.0.0)\n",
            "Requirement already satisfied: azure-mgmt-trafficmanager~=1.0.0 in /anaconda/envs/azureml_py38/lib/python3.8/site-packages (from azure-cli) (1.0.0)\n",
            "Requirement already satisfied: azure-mgmt-storage~=19.0.0 in /anaconda/envs/azureml_py38/lib/python3.8/site-packages (from azure-cli) (19.0.0)\n",
            "Requirement already satisfied: azure-keyvault-keys==4.5.0b4 in /anaconda/envs/azureml_py38/lib/python3.8/site-packages (from azure-cli) (4.5.0b4)\n",
            "Requirement already satisfied: azure-mgmt-batchai~=7.0.0b1 in /anaconda/envs/azureml_py38/lib/python3.8/site-packages (from azure-cli) (7.0.0b1)\n",
            "Requirement already satisfied: azure-synapse-spark~=0.2.0 in /anaconda/envs/azureml_py38/lib/python3.8/site-packages (from azure-cli) (0.2.0)\n",
            "Requirement already satisfied: azure-mgmt-cognitiveservices~=13.0.0 in /anaconda/envs/azureml_py38/lib/python3.8/site-packages (from azure-cli) (13.0.0)\n",
            "Requirement already satisfied: xmltodict~=0.12 in /anaconda/envs/azureml_py38/lib/python3.8/site-packages (from azure-cli) (0.12.0)\n",
            "Requirement already satisfied: azure-synapse-accesscontrol~=0.5.0 in /anaconda/envs/azureml_py38/lib/python3.8/site-packages (from azure-cli) (0.5.0)\n",
            "Requirement already satisfied: azure-mgmt-recoveryservicesbackup~=4.0.0 in /anaconda/envs/azureml_py38/lib/python3.8/site-packages (from azure-cli) (4.0.0)\n",
            "Requirement already satisfied: azure-keyvault-administration==4.0.0b3 in /anaconda/envs/azureml_py38/lib/python3.8/site-packages (from azure-cli) (4.0.0b3)\n",
            "Requirement already satisfied: azure-mgmt-containerservice~=16.4.0 in /anaconda/envs/azureml_py38/lib/python3.8/site-packages (from azure-cli) (16.4.0)\n",
            "Requirement already satisfied: azure-mgmt-maps~=2.0.0 in /anaconda/envs/azureml_py38/lib/python3.8/site-packages (from azure-cli) (2.0.0)\n",
            "Requirement already satisfied: packaging<22.0,>=20.9 in /anaconda/envs/azureml_py38/lib/python3.8/site-packages (from azure-cli) (21.3)\n",
            "Requirement already satisfied: azure-mgmt-eventgrid==9.0.0 in /anaconda/envs/azureml_py38/lib/python3.8/site-packages (from azure-cli) (9.0.0)\n",
            "Requirement already satisfied: websocket-client~=0.56.0 in /anaconda/envs/azureml_py38/lib/python3.8/site-packages (from azure-cli) (0.56.0)\n",
            "Requirement already satisfied: azure-mgmt-devtestlabs~=4.0 in /anaconda/envs/azureml_py38/lib/python3.8/site-packages (from azure-cli) (4.0.0)\n",
            "Requirement already satisfied: azure-mgmt-reservations==0.6.0 in /anaconda/envs/azureml_py38/lib/python3.8/site-packages (from azure-cli) (0.6.0)\n",
            "Requirement already satisfied: azure-mgmt-advisor==9.0.0 in /anaconda/envs/azureml_py38/lib/python3.8/site-packages (from azure-cli) (9.0.0)\n",
            "Requirement already satisfied: azure-mgmt-containerregistry==8.2.0 in /anaconda/envs/azureml_py38/lib/python3.8/site-packages (from azure-cli) (8.2.0)\n",
            "Requirement already satisfied: azure-mgmt-apimanagement~=0.2.0 in /anaconda/envs/azureml_py38/lib/python3.8/site-packages (from azure-cli) (0.2.0)\n",
            "Requirement already satisfied: azure-synapse-managedprivateendpoints~=0.3.0 in /anaconda/envs/azureml_py38/lib/python3.8/site-packages (from azure-cli) (0.3.0)\n",
            "Requirement already satisfied: azure-cli-core==2.33.0 in /anaconda/envs/azureml_py38/lib/python3.8/site-packages (from azure-cli) (2.33.0)\n",
            "Requirement already satisfied: azure-mgmt-search~=8.0 in /anaconda/envs/azureml_py38/lib/python3.8/site-packages (from azure-cli) (8.0.0)\n",
            "Requirement already satisfied: azure-mgmt-privatedns~=1.0.0 in /anaconda/envs/azureml_py38/lib/python3.8/site-packages (from azure-cli) (1.0.0)\n",
            "Requirement already satisfied: azure-mgmt-sql~=3.0.1 in /anaconda/envs/azureml_py38/lib/python3.8/site-packages (from azure-cli) (3.0.1)\n",
            "Requirement already satisfied: sshtunnel~=0.1.4 in /anaconda/envs/azureml_py38/lib/python3.8/site-packages (from azure-cli) (0.1.5)\n",
            "Requirement already satisfied: azure-mgmt-batch~=16.0.0 in /anaconda/envs/azureml_py38/lib/python3.8/site-packages (from azure-cli) (16.0.0)\n",
            "Requirement already satisfied: azure-mgmt-servicefabric~=1.0.0 in /anaconda/envs/azureml_py38/lib/python3.8/site-packages (from azure-cli) (1.0.0)\n",
            "Requirement already satisfied: azure-mgmt-compute~=23.1.0 in /anaconda/envs/azureml_py38/lib/python3.8/site-packages (from azure-cli) (23.1.0)\n",
            "Requirement already satisfied: azure-mgmt-managedservices~=1.0 in /anaconda/envs/azureml_py38/lib/python3.8/site-packages (from azure-cli) (1.0.0)\n",
            "Requirement already satisfied: azure-mgmt-recoveryservices~=2.0.0 in /anaconda/envs/azureml_py38/lib/python3.8/site-packages (from azure-cli) (2.0.0)\n",
            "Requirement already satisfied: semver==2.13.0 in /anaconda/envs/azureml_py38/lib/python3.8/site-packages (from azure-cli) (2.13.0)\n",
            "Requirement already satisfied: javaproperties~=0.5.1 in /anaconda/envs/azureml_py38/lib/python3.8/site-packages (from azure-cli) (0.5.2)\n",
            "Requirement already satisfied: azure-mgmt-signalr~=1.0.0b2 in /anaconda/envs/azureml_py38/lib/python3.8/site-packages (from azure-cli) (1.0.0)\n",
            "Requirement already satisfied: azure-mgmt-marketplaceordering==1.1.0 in /anaconda/envs/azureml_py38/lib/python3.8/site-packages (from azure-cli) (1.1.0)\n",
            "Requirement already satisfied: azure-storage-common~=1.4 in /anaconda/envs/azureml_py38/lib/python3.8/site-packages (from azure-cli) (1.4.2)\n",
            "Requirement already satisfied: azure-graphrbac~=0.60.0 in /anaconda/envs/azureml_py38/lib/python3.8/site-packages (from azure-cli) (0.60.0)\n",
            "Requirement already satisfied: azure-appconfiguration~=1.1.1 in /anaconda/envs/azureml_py38/lib/python3.8/site-packages (from azure-cli) (1.1.1)\n",
            "Requirement already satisfied: azure-mgmt-botservice~=0.3.0 in /anaconda/envs/azureml_py38/lib/python3.8/site-packages (from azure-cli) (0.3.0)\n",
            "Requirement already satisfied: colorama~=0.4.4 in /anaconda/envs/azureml_py38/lib/python3.8/site-packages (from azure-cli) (0.4.4)\n",
            "Requirement already satisfied: azure-mgmt-rdbms~=10.0.0 in /anaconda/envs/azureml_py38/lib/python3.8/site-packages (from azure-cli) (10.0.0)\n",
            "Requirement already satisfied: azure-mgmt-billing==6.0.0 in /anaconda/envs/azureml_py38/lib/python3.8/site-packages (from azure-cli) (6.0.0)\n",
            "Requirement already satisfied: azure-mgmt-monitor~=3.0.0 in /anaconda/envs/azureml_py38/lib/python3.8/site-packages (from azure-cli) (3.0.0)\n",
            "Requirement already satisfied: azure-mgmt-synapse~=2.1.0b2 in /anaconda/envs/azureml_py38/lib/python3.8/site-packages (from azure-cli) (2.1.0b4)\n",
            "Requirement already satisfied: azure-multiapi-storage~=0.7.0 in /anaconda/envs/azureml_py38/lib/python3.8/site-packages (from azure-cli) (0.7.0)\n",
            "Requirement already satisfied: PyGithub~=1.38 in /anaconda/envs/azureml_py38/lib/python3.8/site-packages (from azure-cli) (1.55)\n",
            "Requirement already satisfied: azure-mgmt-servicefabricmanagedclusters~=1.0.0 in /anaconda/envs/azureml_py38/lib/python3.8/site-packages (from azure-cli) (1.0.0)\n",
            "Requirement already satisfied: PyNaCl~=1.4.0 in /anaconda/envs/azureml_py38/lib/python3.8/site-packages (from azure-cli) (1.4.0)\n",
            "Requirement already satisfied: azure-cosmos>=3.0.2,~=3.0 in /anaconda/envs/azureml_py38/lib/python3.8/site-packages (from azure-cli) (3.2.0)\n",
            "Requirement already satisfied: azure-mgmt-media~=7.0 in /anaconda/envs/azureml_py38/lib/python3.8/site-packages (from azure-cli) (7.0.0)\n",
            "Requirement already satisfied: azure-mgmt-eventhub~=9.1.0 in /anaconda/envs/azureml_py38/lib/python3.8/site-packages (from azure-cli) (9.1.0)\n",
            "Requirement already satisfied: azure-mgmt-redhatopenshift==1.0.0 in /anaconda/envs/azureml_py38/lib/python3.8/site-packages (from azure-cli) (1.0.0)\n",
            "Requirement already satisfied: distro in /anaconda/envs/azureml_py38/lib/python3.8/site-packages (from azure-cli) (1.6.0)\n",
            "Requirement already satisfied: azure-mgmt-databoxedge~=1.0.0 in /anaconda/envs/azureml_py38/lib/python3.8/site-packages (from azure-cli) (1.0.0)\n",
            "Requirement already satisfied: azure-mgmt-iothub==2.1.0 in /anaconda/envs/azureml_py38/lib/python3.8/site-packages (from azure-cli) (2.1.0)\n",
            "Requirement already satisfied: six>=1.10.0 in /anaconda/envs/azureml_py38/lib/python3.8/site-packages (from azure-cli) (1.16.0)\n",
            "Requirement already satisfied: scp~=0.13.2 in /anaconda/envs/azureml_py38/lib/python3.8/site-packages (from azure-cli) (0.13.6)\n",
            "Requirement already satisfied: azure-mgmt-cdn==11.0.0 in /anaconda/envs/azureml_py38/lib/python3.8/site-packages (from azure-cli) (11.0.0)\n",
            "Requirement already satisfied: azure-mgmt-servicebus~=6.0.0 in /anaconda/envs/azureml_py38/lib/python3.8/site-packages (from azure-cli) (6.0.0)\n",
            "Requirement already satisfied: azure-mgmt-consumption~=2.0 in /anaconda/envs/azureml_py38/lib/python3.8/site-packages (from azure-cli) (2.0.0)\n",
            "Requirement already satisfied: azure-mgmt-network~=19.3.0 in /anaconda/envs/azureml_py38/lib/python3.8/site-packages (from azure-cli) (19.3.0)\n",
            "Requirement already satisfied: azure-mgmt-datamigration~=10.0.0 in /anaconda/envs/azureml_py38/lib/python3.8/site-packages (from azure-cli) (10.0.0)\n",
            "Requirement already satisfied: azure-mgmt-imagebuilder~=1.0.0 in /anaconda/envs/azureml_py38/lib/python3.8/site-packages (from azure-cli) (1.0.0)\n",
            "Requirement already satisfied: azure-keyvault~=1.1.0 in /anaconda/envs/azureml_py38/lib/python3.8/site-packages (from azure-cli) (1.1.0)\n",
            "Requirement already satisfied: azure-mgmt-extendedlocation~=1.0.0b2 in /anaconda/envs/azureml_py38/lib/python3.8/site-packages (from azure-cli) (1.0.0)\n",
            "Requirement already satisfied: antlr4-python3-runtime~=4.7.2 in /anaconda/envs/azureml_py38/lib/python3.8/site-packages (from azure-cli) (4.7.2)\n",
            "Requirement already satisfied: azure-batch~=11.0.0 in /anaconda/envs/azureml_py38/lib/python3.8/site-packages (from azure-cli) (11.0.0)\n",
            "Requirement already satisfied: azure-mgmt-policyinsights~=1.0.0 in /anaconda/envs/azureml_py38/lib/python3.8/site-packages (from azure-cli) (1.0.0)\n",
            "Requirement already satisfied: azure-mgmt-containerinstance~=9.1.0 in /anaconda/envs/azureml_py38/lib/python3.8/site-packages (from azure-cli) (9.1.0)\n",
            "Requirement already satisfied: jsondiff~=1.3.0 in /anaconda/envs/azureml_py38/lib/python3.8/site-packages (from azure-cli) (1.3.1)\n",
            "Requirement already satisfied: urllib3[secure] in /anaconda/envs/azureml_py38/lib/python3.8/site-packages (from azure-cli) (1.26.7)\n",
            "Requirement already satisfied: azure-mgmt-datalake-store~=0.5.0 in /anaconda/envs/azureml_py38/lib/python3.8/site-packages (from azure-cli) (0.5.0)\n",
            "Requirement already satisfied: chardet~=3.0.4 in /anaconda/envs/azureml_py38/lib/python3.8/site-packages (from azure-cli) (3.0.4)\n",
            "Requirement already satisfied: azure-mgmt-appconfiguration~=2.0.0 in /anaconda/envs/azureml_py38/lib/python3.8/site-packages (from azure-cli) (2.0.0)\n",
            "Requirement already satisfied: azure-mgmt-loganalytics~=12.0.0 in /anaconda/envs/azureml_py38/lib/python3.8/site-packages (from azure-cli) (12.0.0)\n",
            "Requirement already satisfied: azure-mgmt-sqlvirtualmachine~=1.0.0b1 in /anaconda/envs/azureml_py38/lib/python3.8/site-packages (from azure-cli) (1.0.0b1)\n",
            "Requirement already satisfied: azure-loganalytics~=0.1.0 in /anaconda/envs/azureml_py38/lib/python3.8/site-packages (from azure-cli) (0.1.1)\n",
            "Requirement already satisfied: azure-mgmt-kusto~=0.3.0 in /anaconda/envs/azureml_py38/lib/python3.8/site-packages (from azure-cli) (0.3.0)\n",
            "Requirement already satisfied: azure-mgmt-cosmosdb~=7.0.0b2 in /anaconda/envs/azureml_py38/lib/python3.8/site-packages (from azure-cli) (7.0.0b2)\n",
            "Requirement already satisfied: azure-mgmt-msi~=0.2 in /anaconda/envs/azureml_py38/lib/python3.8/site-packages (from azure-cli) (0.2.0)\n",
            "Requirement already satisfied: azure-mgmt-web~=4.0.0 in /anaconda/envs/azureml_py38/lib/python3.8/site-packages (from azure-cli) (4.0.0)\n",
            "Requirement already satisfied: azure-synapse-artifacts~=0.10.0 in /anaconda/envs/azureml_py38/lib/python3.8/site-packages (from azure-cli) (0.10.0)\n",
            "Requirement already satisfied: azure-mgmt-servicelinker==1.0.0b1 in /anaconda/envs/azureml_py38/lib/python3.8/site-packages (from azure-cli) (1.0.0b1)\n",
            "Requirement already satisfied: azure-mgmt-hdinsight~=9.0.0 in /anaconda/envs/azureml_py38/lib/python3.8/site-packages (from azure-cli) (9.0.0)\n",
            "Requirement already satisfied: azure-mgmt-deploymentmanager~=0.2.0 in /anaconda/envs/azureml_py38/lib/python3.8/site-packages (from azure-cli) (0.2.0)\n",
            "Requirement already satisfied: azure-mgmt-iotcentral~=9.0.0 in /anaconda/envs/azureml_py38/lib/python3.8/site-packages (from azure-cli) (9.0.0)\n",
            "Requirement already satisfied: msrest>=0.6.21 in /anaconda/envs/azureml_py38/lib/python3.8/site-packages (from azure-mgmt-dns~=8.0.0->azure-cli) (0.6.21)\n",
            "Requirement already satisfied: azure-common~=1.1 in /anaconda/envs/azureml_py38/lib/python3.8/site-packages (from azure-mgmt-dns~=8.0.0->azure-cli) (1.1.27)\n",
            "Requirement already satisfied: azure-mgmt-core<2.0.0,>=1.2.0 in /anaconda/envs/azureml_py38/lib/python3.8/site-packages (from azure-mgmt-dns~=8.0.0->azure-cli) (1.3.0)\n",
            "Requirement already satisfied: pathlib2 in /anaconda/envs/azureml_py38/lib/python3.8/site-packages (from fabric~=2.4->azure-cli) (2.3.7)\n",
            "Requirement already satisfied: paramiko>=2.4 in /anaconda/envs/azureml_py38/lib/python3.8/site-packages (from fabric~=2.4->azure-cli) (2.9.2)\n",
            "Requirement already satisfied: invoke<2.0,>=1.3 in /anaconda/envs/azureml_py38/lib/python3.8/site-packages (from fabric~=2.4->azure-cli) (1.6.0)\n",
            "Requirement already satisfied: msrestazure<2.0.0,>=0.4.20 in /anaconda/envs/azureml_py38/lib/python3.8/site-packages (from azure-mgmt-relay~=0.1.0->azure-cli) (0.6.4)\n",
            "Requirement already satisfied: azure-mgmt-nspkg>=2.0.0 in /anaconda/envs/azureml_py38/lib/python3.8/site-packages (from azure-mgmt-relay~=0.1.0->azure-cli) (3.0.2)\n",
            "Requirement already satisfied: cryptography>=2.5 in /anaconda/envs/azureml_py38/lib/python3.8/site-packages (from azure-identity->azure-cli) (36.0.1)\n",
            "Requirement already satisfied: azure-core<2.0.0,>=1.11.0 in /anaconda/envs/azureml_py38/lib/python3.8/site-packages (from azure-identity->azure-cli) (1.21.1)\n",
            "Requirement already satisfied: msal<2.0.0,>=1.12.0 in /anaconda/envs/azureml_py38/lib/python3.8/site-packages (from azure-identity->azure-cli) (1.16.0)\n",
            "Requirement already satisfied: msal-extensions~=0.3.0 in /anaconda/envs/azureml_py38/lib/python3.8/site-packages (from azure-identity->azure-cli) (0.3.1)\n",
            "Requirement already satisfied: requests>=2.20.0 in /anaconda/envs/azureml_py38/lib/python3.8/site-packages (from azure-datalake-store~=0.0.49->azure-cli) (2.27.1)\n",
            "Requirement already satisfied: cffi in /anaconda/envs/azureml_py38/lib/python3.8/site-packages (from azure-datalake-store~=0.0.49->azure-cli) (1.15.0)\n",
            "Requirement already satisfied: adal>=0.4.2 in /anaconda/envs/azureml_py38/lib/python3.8/site-packages (from azure-datalake-store~=0.0.49->azure-cli) (1.2.7)\n",
            "Requirement already satisfied: azure-mgmt-datalake-nspkg>=2.0.0 in /anaconda/envs/azureml_py38/lib/python3.8/site-packages (from azure-mgmt-datalake-analytics~=0.2.1->azure-cli) (3.0.1)\n",
            "Requirement already satisfied: pyparsing!=3.0.5,>=2.0.2 in /anaconda/envs/azureml_py38/lib/python3.8/site-packages (from packaging<22.0,>=20.9->azure-cli) (3.0.6)\n",
            "Requirement already satisfied: pkginfo>=1.5.0.1 in /anaconda/envs/azureml_py38/lib/python3.8/site-packages (from azure-cli-core==2.33.0->azure-cli) (1.8.2)\n",
            "Requirement already satisfied: azure-cli-telemetry==1.0.6.* in /anaconda/envs/azureml_py38/lib/python3.8/site-packages (from azure-cli-core==2.33.0->azure-cli) (1.0.6)\n",
            "Requirement already satisfied: psutil~=5.9 in /anaconda/envs/azureml_py38/lib/python3.8/site-packages (from azure-cli-core==2.33.0->azure-cli) (5.9.0)\n",
            "Requirement already satisfied: argcomplete~=1.8 in /anaconda/envs/azureml_py38/lib/python3.8/site-packages (from azure-cli-core==2.33.0->azure-cli) (1.12.3)\n",
            "Requirement already satisfied: humanfriendly~=10.0 in /anaconda/envs/azureml_py38/lib/python3.8/site-packages (from azure-cli-core==2.33.0->azure-cli) (10.0)\n",
            "Requirement already satisfied: pyopenssl>=17.1.0 in /anaconda/envs/azureml_py38/lib/python3.8/site-packages (from azure-cli-core==2.33.0->azure-cli) (21.0.0)\n",
            "Requirement already satisfied: jmespath in /anaconda/envs/azureml_py38/lib/python3.8/site-packages (from azure-cli-core==2.33.0->azure-cli) (0.10.0)\n",
            "Requirement already satisfied: knack~=0.9.0 in /anaconda/envs/azureml_py38/lib/python3.8/site-packages (from azure-cli-core==2.33.0->azure-cli) (0.9.0)\n",
            "Requirement already satisfied: PyJWT>=2.1.0 in /anaconda/envs/azureml_py38/lib/python3.8/site-packages (from azure-cli-core==2.33.0->azure-cli) (2.3.0)\n",
            "Requirement already satisfied: python-dateutil in /anaconda/envs/azureml_py38/lib/python3.8/site-packages (from azure-storage-common~=1.4->azure-cli) (2.8.2)\n",
            "Requirement already satisfied: deprecated in /anaconda/envs/azureml_py38/lib/python3.8/site-packages (from PyGithub~=1.38->azure-cli) (1.2.13)\n",
            "Requirement already satisfied: azure-nspkg>=2.0.0 in /anaconda/envs/azureml_py38/lib/python3.8/site-packages (from azure-keyvault~=1.1.0->azure-cli) (3.0.2)\n",
            "Requirement already satisfied: idna>=2.0.0; extra == \"secure\" in /anaconda/envs/azureml_py38/lib/python3.8/site-packages (from urllib3[secure]->azure-cli) (3.3)\n",
            "Requirement already satisfied: certifi; extra == \"secure\" in /anaconda/envs/azureml_py38/lib/python3.8/site-packages (from urllib3[secure]->azure-cli) (2021.10.8)\n",
            "Requirement already satisfied: requests-oauthlib>=0.5.0 in /anaconda/envs/azureml_py38/lib/python3.8/site-packages (from msrest>=0.6.21->azure-mgmt-dns~=8.0.0->azure-cli) (1.3.0)\n",
            "Requirement already satisfied: isodate>=0.6.0 in /anaconda/envs/azureml_py38/lib/python3.8/site-packages (from msrest>=0.6.21->azure-mgmt-dns~=8.0.0->azure-cli) (0.6.1)\n",
            "Requirement already satisfied: bcrypt>=3.1.3 in /anaconda/envs/azureml_py38/lib/python3.8/site-packages (from paramiko>=2.4->fabric~=2.4->azure-cli) (3.2.0)\n",
            "Requirement already satisfied: portalocker<3,>=1.0; python_version >= \"3.5\" and platform_system != \"Windows\" in /anaconda/envs/azureml_py38/lib/python3.8/site-packages (from msal-extensions~=0.3.0->azure-identity->azure-cli) (2.3.2)\n",
            "Requirement already satisfied: charset-normalizer~=2.0.0; python_version >= \"3\" in /anaconda/envs/azureml_py38/lib/python3.8/site-packages (from requests>=2.20.0->azure-datalake-store~=0.0.49->azure-cli) (2.0.10)\n",
            "Requirement already satisfied: pycparser in /anaconda/envs/azureml_py38/lib/python3.8/site-packages (from cffi->azure-datalake-store~=0.0.49->azure-cli) (2.21)\n",
            "Requirement already satisfied: applicationinsights<0.12,>=0.11.1 in /anaconda/envs/azureml_py38/lib/python3.8/site-packages (from azure-cli-telemetry==1.0.6.*->azure-cli-core==2.33.0->azure-cli) (0.11.10)\n",
            "Requirement already satisfied: tabulate in /anaconda/envs/azureml_py38/lib/python3.8/site-packages (from knack~=0.9.0->azure-cli-core==2.33.0->azure-cli) (0.8.9)\n",
            "Requirement already satisfied: pygments in /anaconda/envs/azureml_py38/lib/python3.8/site-packages (from knack~=0.9.0->azure-cli-core==2.33.0->azure-cli) (2.11.2)\n",
            "Requirement already satisfied: pyyaml in /anaconda/envs/azureml_py38/lib/python3.8/site-packages (from knack~=0.9.0->azure-cli-core==2.33.0->azure-cli) (6.0)\n",
            "Requirement already satisfied: wrapt<2,>=1.10 in /anaconda/envs/azureml_py38/lib/python3.8/site-packages (from deprecated->PyGithub~=1.38->azure-cli) (1.12.1)\n",
            "Requirement already satisfied: oauthlib>=3.0.0 in /anaconda/envs/azureml_py38/lib/python3.8/site-packages (from requests-oauthlib>=0.5.0->msrest>=0.6.21->azure-mgmt-dns~=8.0.0->azure-cli) (3.1.1)\n",
            "Note: you may need to restart the kernel to use updated packages.\n",
            "Requirement already satisfied: snowflake-connector-python==2.7.4 in /anaconda/envs/azureml_py38/lib/python3.8/site-packages (2.7.4)\n",
            "Requirement already satisfied: asn1crypto<2.0.0,>0.24.0 in /anaconda/envs/azureml_py38/lib/python3.8/site-packages (from snowflake-connector-python==2.7.4) (1.5.1)\n",
            "Requirement already satisfied: certifi>=2017.4.17 in /anaconda/envs/azureml_py38/lib/python3.8/site-packages (from snowflake-connector-python==2.7.4) (2021.10.8)\n",
            "Requirement already satisfied: pyjwt<3.0.0 in /anaconda/envs/azureml_py38/lib/python3.8/site-packages (from snowflake-connector-python==2.7.4) (2.3.0)\n",
            "Requirement already satisfied: charset-normalizer~=2.0.0 in /anaconda/envs/azureml_py38/lib/python3.8/site-packages (from snowflake-connector-python==2.7.4) (2.0.10)\n",
            "Requirement already satisfied: oscrypto<2.0.0 in /anaconda/envs/azureml_py38/lib/python3.8/site-packages (from snowflake-connector-python==2.7.4) (1.3.0)\n",
            "Requirement already satisfied: pycryptodomex!=3.5.0,<4.0.0,>=3.2 in /anaconda/envs/azureml_py38/lib/python3.8/site-packages (from snowflake-connector-python==2.7.4) (3.14.1)\n",
            "Requirement already satisfied: pytz in /anaconda/envs/azureml_py38/lib/python3.8/site-packages (from snowflake-connector-python==2.7.4) (2021.3)\n",
            "Requirement already satisfied: setuptools>34.0.0 in /anaconda/envs/azureml_py38/lib/python3.8/site-packages (from snowflake-connector-python==2.7.4) (50.3.0)\n",
            "Requirement already satisfied: pyOpenSSL<22.0.0,>=16.2.0 in /anaconda/envs/azureml_py38/lib/python3.8/site-packages (from snowflake-connector-python==2.7.4) (21.0.0)\n",
            "Requirement already satisfied: cryptography<37.0.0,>=3.1.0 in /anaconda/envs/azureml_py38/lib/python3.8/site-packages (from snowflake-connector-python==2.7.4) (36.0.1)\n",
            "Requirement already satisfied: requests<3.0.0 in /anaconda/envs/azureml_py38/lib/python3.8/site-packages (from snowflake-connector-python==2.7.4) (2.27.1)\n",
            "Requirement already satisfied: idna<4,>=2.5 in /anaconda/envs/azureml_py38/lib/python3.8/site-packages (from snowflake-connector-python==2.7.4) (3.3)\n",
            "Requirement already satisfied: cffi<2.0.0,>=1.9 in /anaconda/envs/azureml_py38/lib/python3.8/site-packages (from snowflake-connector-python==2.7.4) (1.15.0)\n",
            "Requirement already satisfied: six>=1.5.2 in /anaconda/envs/azureml_py38/lib/python3.8/site-packages (from pyOpenSSL<22.0.0,>=16.2.0->snowflake-connector-python==2.7.4) (1.16.0)\n",
            "Requirement already satisfied: urllib3<1.27,>=1.21.1 in /anaconda/envs/azureml_py38/lib/python3.8/site-packages (from requests<3.0.0->snowflake-connector-python==2.7.4) (1.26.7)\n",
            "Requirement already satisfied: pycparser in /anaconda/envs/azureml_py38/lib/python3.8/site-packages (from cffi<2.0.0,>=1.9->snowflake-connector-python==2.7.4) (2.21)\n",
            "Note: you may need to restart the kernel to use updated packages.\n",
            "Requirement already satisfied: pyarrow==6.0.1 in /anaconda/envs/azureml_py38/lib/python3.8/site-packages (6.0.1)\n",
            "Requirement already satisfied: numpy>=1.16.6 in /anaconda/envs/azureml_py38/lib/python3.8/site-packages (from pyarrow==6.0.1) (1.22.2)\n",
            "Note: you may need to restart the kernel to use updated packages.\n",
            "Requirement already satisfied: lightgbm in /anaconda/envs/azureml_py38/lib/python3.8/site-packages (2.3.0)\n",
            "Requirement already satisfied: scikit-learn in /anaconda/envs/azureml_py38/lib/python3.8/site-packages (from lightgbm) (0.24.2)\n",
            "Requirement already satisfied: scipy in /anaconda/envs/azureml_py38/lib/python3.8/site-packages (from lightgbm) (1.5.2)\n",
            "Requirement already satisfied: numpy in /anaconda/envs/azureml_py38/lib/python3.8/site-packages (from lightgbm) (1.22.2)\n",
            "Requirement already satisfied: threadpoolctl>=2.0.0 in /anaconda/envs/azureml_py38/lib/python3.8/site-packages (from scikit-learn->lightgbm) (2.1.0)\n",
            "Requirement already satisfied: joblib>=0.11 in /anaconda/envs/azureml_py38/lib/python3.8/site-packages (from scikit-learn->lightgbm) (0.14.1)\n",
            "Note: you may need to restart the kernel to use updated packages.\n",
            "Requirement already satisfied: mlflow in /anaconda/envs/azureml_py38/lib/python3.8/site-packages (1.23.1)\n",
            "Requirement already satisfied: requests>=2.17.3 in /anaconda/envs/azureml_py38/lib/python3.8/site-packages (from mlflow) (2.27.1)\n",
            "Requirement already satisfied: Flask in /anaconda/envs/azureml_py38/lib/python3.8/site-packages (from mlflow) (1.0.3)\n",
            "Requirement already satisfied: click>=7.0 in /anaconda/envs/azureml_py38/lib/python3.8/site-packages (from mlflow) (8.0.3)\n",
            "Requirement already satisfied: scipy in /anaconda/envs/azureml_py38/lib/python3.8/site-packages (from mlflow) (1.5.2)\n",
            "Requirement already satisfied: docker>=4.0.0 in /anaconda/envs/azureml_py38/lib/python3.8/site-packages (from mlflow) (5.0.3)\n",
            "Requirement already satisfied: databricks-cli>=0.8.7 in /anaconda/envs/azureml_py38/lib/python3.8/site-packages (from mlflow) (0.16.2)\n",
            "Requirement already satisfied: gitpython>=2.1.0 in /anaconda/envs/azureml_py38/lib/python3.8/site-packages (from mlflow) (3.1.26)\n",
            "Requirement already satisfied: pytz in /anaconda/envs/azureml_py38/lib/python3.8/site-packages (from mlflow) (2021.3)\n",
            "Requirement already satisfied: cloudpickle in /anaconda/envs/azureml_py38/lib/python3.8/site-packages (from mlflow) (2.0.0)\n",
            "Requirement already satisfied: protobuf>=3.7.0 in /anaconda/envs/azureml_py38/lib/python3.8/site-packages (from mlflow) (3.19.3)\n",
            "Requirement already satisfied: pandas in /anaconda/envs/azureml_py38/lib/python3.8/site-packages (from mlflow) (1.4.1)\n",
            "Requirement already satisfied: sqlalchemy in /anaconda/envs/azureml_py38/lib/python3.8/site-packages (from mlflow) (1.4.31)\n",
            "Requirement already satisfied: prometheus-flask-exporter in /anaconda/envs/azureml_py38/lib/python3.8/site-packages (from mlflow) (0.18.7)\n",
            "Requirement already satisfied: pyyaml>=5.1 in /anaconda/envs/azureml_py38/lib/python3.8/site-packages (from mlflow) (6.0)\n",
            "Requirement already satisfied: packaging in /anaconda/envs/azureml_py38/lib/python3.8/site-packages (from mlflow) (21.3)\n",
            "Requirement already satisfied: numpy in /anaconda/envs/azureml_py38/lib/python3.8/site-packages (from mlflow) (1.22.2)\n",
            "Requirement already satisfied: entrypoints in /anaconda/envs/azureml_py38/lib/python3.8/site-packages (from mlflow) (0.3)\n",
            "Requirement already satisfied: gunicorn; platform_system != \"Windows\" in /anaconda/envs/azureml_py38/lib/python3.8/site-packages (from mlflow) (20.1.0)\n",
            "Requirement already satisfied: importlib-metadata!=4.7.0,>=3.7.0 in /anaconda/envs/azureml_py38/lib/python3.8/site-packages (from mlflow) (4.10.1)\n",
            "Requirement already satisfied: sqlparse>=0.3.1 in /anaconda/envs/azureml_py38/lib/python3.8/site-packages (from mlflow) (0.4.2)\n",
            "Requirement already satisfied: alembic in /anaconda/envs/azureml_py38/lib/python3.8/site-packages (from mlflow) (1.7.6)\n",
            "Requirement already satisfied: querystring-parser in /anaconda/envs/azureml_py38/lib/python3.8/site-packages (from mlflow) (1.2.4)\n",
            "Requirement already satisfied: charset-normalizer~=2.0.0; python_version >= \"3\" in /anaconda/envs/azureml_py38/lib/python3.8/site-packages (from requests>=2.17.3->mlflow) (2.0.10)\n",
            "Requirement already satisfied: certifi>=2017.4.17 in /anaconda/envs/azureml_py38/lib/python3.8/site-packages (from requests>=2.17.3->mlflow) (2021.10.8)\n",
            "Requirement already satisfied: urllib3<1.27,>=1.21.1 in /anaconda/envs/azureml_py38/lib/python3.8/site-packages (from requests>=2.17.3->mlflow) (1.26.7)\n",
            "Requirement already satisfied: idna<4,>=2.5; python_version >= \"3\" in /anaconda/envs/azureml_py38/lib/python3.8/site-packages (from requests>=2.17.3->mlflow) (3.3)\n",
            "Requirement already satisfied: Jinja2>=2.10 in /anaconda/envs/azureml_py38/lib/python3.8/site-packages (from Flask->mlflow) (2.11.2)\n",
            "Requirement already satisfied: itsdangerous>=0.24 in /anaconda/envs/azureml_py38/lib/python3.8/site-packages (from Flask->mlflow) (2.0.1)\n",
            "Requirement already satisfied: Werkzeug>=0.14 in /anaconda/envs/azureml_py38/lib/python3.8/site-packages (from Flask->mlflow) (2.0.2)\n",
            "Requirement already satisfied: websocket-client>=0.32.0 in /anaconda/envs/azureml_py38/lib/python3.8/site-packages (from docker>=4.0.0->mlflow) (0.56.0)\n",
            "Requirement already satisfied: six>=1.10.0 in /anaconda/envs/azureml_py38/lib/python3.8/site-packages (from databricks-cli>=0.8.7->mlflow) (1.16.0)\n",
            "Requirement already satisfied: tabulate>=0.7.7 in /anaconda/envs/azureml_py38/lib/python3.8/site-packages (from databricks-cli>=0.8.7->mlflow) (0.8.9)\n",
            "Requirement already satisfied: gitdb<5,>=4.0.1 in /anaconda/envs/azureml_py38/lib/python3.8/site-packages (from gitpython>=2.1.0->mlflow) (4.0.9)\n",
            "Requirement already satisfied: python-dateutil>=2.8.1 in /anaconda/envs/azureml_py38/lib/python3.8/site-packages (from pandas->mlflow) (2.8.2)\n",
            "Requirement already satisfied: greenlet!=0.4.17; python_version >= \"3\" and (platform_machine == \"aarch64\" or (platform_machine == \"ppc64le\" or (platform_machine == \"x86_64\" or (platform_machine == \"amd64\" or (platform_machine == \"AMD64\" or (platform_machine == \"win32\" or platform_machine == \"WIN32\")))))) in /anaconda/envs/azureml_py38/lib/python3.8/site-packages (from sqlalchemy->mlflow) (1.1.2)\n",
            "Requirement already satisfied: prometheus-client in /anaconda/envs/azureml_py38/lib/python3.8/site-packages (from prometheus-flask-exporter->mlflow) (0.12.0)\n",
            "Requirement already satisfied: pyparsing!=3.0.5,>=2.0.2 in /anaconda/envs/azureml_py38/lib/python3.8/site-packages (from packaging->mlflow) (3.0.6)\n",
            "Requirement already satisfied: setuptools>=3.0 in /anaconda/envs/azureml_py38/lib/python3.8/site-packages (from gunicorn; platform_system != \"Windows\"->mlflow) (50.3.0)\n",
            "Requirement already satisfied: zipp>=0.5 in /anaconda/envs/azureml_py38/lib/python3.8/site-packages (from importlib-metadata!=4.7.0,>=3.7.0->mlflow) (3.7.0)\n",
            "Requirement already satisfied: Mako in /anaconda/envs/azureml_py38/lib/python3.8/site-packages (from alembic->mlflow) (1.1.6)\n",
            "Requirement already satisfied: importlib-resources; python_version < \"3.9\" in /anaconda/envs/azureml_py38/lib/python3.8/site-packages (from alembic->mlflow) (5.4.0)\n",
            "Requirement already satisfied: MarkupSafe>=0.23 in /anaconda/envs/azureml_py38/lib/python3.8/site-packages (from Jinja2>=2.10->Flask->mlflow) (2.0.1)\n",
            "Requirement already satisfied: smmap<6,>=3.0.1 in /anaconda/envs/azureml_py38/lib/python3.8/site-packages (from gitdb<5,>=4.0.1->gitpython>=2.1.0->mlflow) (5.0.0)\n",
            "Note: you may need to restart the kernel to use updated packages.\n",
            "Requirement already satisfied: pyarrow==6.0.1 in /anaconda/envs/azureml_py38/lib/python3.8/site-packages (6.0.1)\n",
            "Requirement already satisfied: numpy>=1.16.6 in /anaconda/envs/azureml_py38/lib/python3.8/site-packages (from pyarrow==6.0.1) (1.22.2)\n",
            "Note: you may need to restart the kernel to use updated packages.\n"
          ]
        }
      ],
      "source": [
        "%pip install feast-azure-provider\n",
        "%pip install azure-cli\n",
        "%pip install snowflake-connector-python==2.7.4\n",
        "%pip install pyarrow==6.0.1\n",
        "%pip install lightgbm\n",
        "%pip install mlflow\n",
        "%pip install pyarrow==6.0.1\n"
      ]
    },
    {
      "cell_type": "markdown",
      "metadata": {
        "application/vnd.databricks.v1+cell": {
          "inputWidgets": {},
          "nuid": "f1c58fad-82ff-4017-a698-ce4d60e5177c",
          "showTitle": false,
          "title": ""
        }
      },
      "source": [
        "#### Set Environment Variables\n",
        "\n",
        "Fetch the application service principal secret from Azure Key Vault and set the secret as an environment variable.\n",
        "\n",
        "This is used by feast during the feature registration to Azure Blob Container"
      ]
    },
    {
      "cell_type": "code",
      "execution_count": 1,
      "metadata": {},
      "outputs": [],
      "source": [
        "from azureml.core import Workspace\n",
        "from azureml.core import Keyvault\n",
        "import os\n",
        "ws = Workspace.from_config()\n",
        "keyvault = ws.get_default_keyvault()"
      ]
    },
    {
      "cell_type": "code",
      "execution_count": 2,
      "metadata": {
        "application/vnd.databricks.v1+cell": {
          "inputWidgets": {},
          "nuid": "2c1065f6-716e-4674-b243-07ec4bd8b517",
          "showTitle": false,
          "title": ""
        }
      },
      "outputs": [],
      "source": [
        "import os\n",
        "os.environ[\"REGISTRY_BLOB_KEY\"] = keyvault.get_secret(\"registrytoken\")"
      ]
    },
    {
      "cell_type": "markdown",
      "metadata": {
        "application/vnd.databricks.v1+cell": {
          "inputWidgets": {},
          "nuid": "8a6184d6-b9e3-4e81-b468-29a800f479c5",
          "showTitle": false,
          "title": ""
        }
      },
      "source": [
        "#### Entity, Features, Feature View and Feature Service Definition\n",
        "\n",
        "For the \"Home Credit Risk Default\" modeling usecase,\n",
        "- use Snowflake tables as source of feature values\n",
        "- register entity, feature views and feature service\n",
        "\n",
        "The Feast Infrastructure Configuration (yaml) file is stored in /tmp folder to run the feast registry. Following successful feast registry, registry.db file can be found in blob storage container as specified in yaml file"
      ]
    },
    {
      "cell_type": "code",
      "execution_count": 3,
      "metadata": {
        "application/vnd.databricks.v1+cell": {
          "inputWidgets": {},
          "nuid": "99f31644-47f7-4d9a-b9e8-714448dc97e0",
          "showTitle": false,
          "title": ""
        }
      },
      "outputs": [],
      "source": [
        "#Configuration\n",
        "repo_path = \"/tmp\" #Feast Feature Repo Path\n",
        "if not os.path.exists(repo_path):\n",
        "    os.makedirs(repo_path)"
      ]
    },
    {
      "cell_type": "code",
      "execution_count": 4,
      "metadata": {
        "application/vnd.databricks.v1+cell": {
          "inputWidgets": {},
          "nuid": "952f42f5-7e2d-4593-9a95-fc14929e9fce",
          "showTitle": false,
          "title": ""
        }
      },
      "outputs": [],
      "source": [
        "path = \"<REGISTRY_BLOB_STORAGE>\" # https://<STORAGE_NAME>.blob.core.windows.net/featurestore/registry.db\"\n",
        "account = \"feast-dev\"\n",
        "sf_feature_store_config=\"\"\"\n",
        "project: eh_credit_01\n",
        "registry: \n",
        "    registry_store_type: feast_azure_provider.registry_store.AzBlobRegistryStore\n",
        "    path: {}   \n",
        "provider: feast_azure_provider.azure_provider.AzureProvider\n",
        "offline_store:\n",
        "    type: snowflake.offline\n",
        "    account: {}\n",
        "    user: evan_hou\n",
        "    password: {}\n",
        "    role: DSA_USER_ROLE\n",
        "    warehouse: COMMON_WH\n",
        "    database: TEST\n",
        "online_store:\n",
        "    type: sqlite\n",
        "    path: data/online.db\n",
        "\"\"\".format(path, account, keyvault.get_secret(\"sfaccesskey1\"))"
      ]
    },
    {
      "cell_type": "code",
      "execution_count": 5,
      "metadata": {
        "application/vnd.databricks.v1+cell": {
          "inputWidgets": {},
          "nuid": "c8059a19-f08d-4162-9a13-791bb509a985",
          "showTitle": false,
          "title": ""
        }
      },
      "outputs": [],
      "source": [
        "with open(repo_path+'/feature_store.yaml', 'w') as f:\n",
        "    lines = f.write(sf_feature_store_config)"
      ]
    },
    {
      "cell_type": "markdown",
      "metadata": {
        "application/vnd.databricks.v1+cell": {
          "inputWidgets": {},
          "nuid": "128e7561-0f26-40bf-bff8-7e39cbe6629e",
          "showTitle": false,
          "title": ""
        }
      },
      "source": [
        "#### Feast apply to registry the feature views and services\n",
        "\n",
        "Registry.db file can be found in blob storage container"
      ]
    },
    {
      "cell_type": "code",
      "execution_count": 6,
      "metadata": {
        "application/vnd.databricks.v1+cell": {
          "inputWidgets": {},
          "nuid": "44711b6c-c36c-4392-a146-41c3196b3af7",
          "showTitle": false,
          "title": ""
        }
      },
      "outputs": [
        {
          "name": "stdout",
          "output_type": "stream",
          "text": [
            "Feast is an open source project that collects anonymized error reporting and usage statistics. To opt out or learn more see https://docs.feast.dev/reference/usage\n"
          ]
        }
      ],
      "source": [
        "from datetime import timedelta\n",
        "from feast import Entity, Feature, FeatureStore, FeatureService, FeatureView, SnowflakeSource, ValueType\n",
        "from google.protobuf.json_format import MessageToDict\n",
        "import yaml"
      ]
    },
    {
      "cell_type": "code",
      "execution_count": 7,
      "metadata": {
        "application/vnd.databricks.v1+cell": {
          "inputWidgets": {},
          "nuid": "e95108b0-fdfe-40fa-b9b6-7a7335885018",
          "showTitle": false,
          "title": ""
        }
      },
      "outputs": [
        {
          "name": "stderr",
          "output_type": "stream",
          "text": [
            "/anaconda/envs/azureml_py38/lib/python3.8/site-packages/ipykernel/ipkernel.py:287: DeprecationWarning: `should_run_async` will not call `transform_cell` automatically in the future. Please pass the result to `transformed_cell` argument and any exception that happen during thetransform in `preprocessing_exc_tuple` in IPython 7.17 and above.\n",
            "  and should_run_async(code)\n"
          ]
        },
        {
          "name": "stdout",
          "output_type": "stream",
          "text": [
            "Database Source:  TEST\n"
          ]
        }
      ],
      "source": [
        "### Configuration\n",
        "repo_path = \"/tmp\" #Feast Feature Repo Path\n",
        "fs = FeatureStore(repo_path)\n",
        "config_path = repo_path + \"/feature_store.yaml\"\n",
        "database_name = yaml.safe_load(open(config_path))[\"offline_store\"][\"database\"]\n",
        "\n",
        "print(\"Database Source: \", database_name)\n",
        "\n",
        "###Source Data\n",
        "customer_info_table = SnowflakeSource(\n",
        "    database=database_name,\n",
        "    schema=\"PUBLIC\",\n",
        "    table=\"STATIC_FEATURE_TABLE\", #SNOWFLAKE TABLE NAME\n",
        "    event_timestamp_column=\"EVENT_TIMESTAMP\",\n",
        "    created_timestamp_column=\"CREATED_TIMESTAMP\"\n",
        ")\n",
        "\n",
        "bureau_feature_table = SnowflakeSource(\n",
        "    database=database_name,\n",
        "    schema=\"PUBLIC\",\n",
        "    table=\"BUREAU_FEATURE_TABLE\", #SNOWFLAKE TABLE NAME\n",
        "    event_timestamp_column=\"EVENT_TIMESTAMP\",\n",
        "    created_timestamp_column=\"CREATED_TIMESTAMP\"\n",
        "    \n",
        ")\n",
        "\n",
        "previous_loan_feature_table = SnowflakeSource(\n",
        "    database=database_name,\n",
        "    schema=\"PUBLIC\",\n",
        "    table=\"PREVIOUS_LOAN_FEATURES_TABLE\", #SNOWFLAKE TABLE NAME\n",
        "    event_timestamp_column=\"EVENT_TIMESTAMP\",\n",
        "    created_timestamp_column=\"CREATED_TIMESTAMP\"\n",
        ")\n",
        "\n",
        "### Entity\n",
        "customer =  Entity(name=\"SK_ID_CURR\", value_type=ValueType.INT64, description=\"customer id\",)\n",
        "\n",
        "### Feature Views\n",
        "customer_stats_view = FeatureView(\n",
        "    name=\"static_feature_view\",\n",
        "    entities=[\"SK_ID_CURR\"],\n",
        "    ttl=timedelta(days=90),\n",
        "    features=[\n",
        "        Feature(name=\"OCCUPATION_TYPE\", dtype=ValueType.STRING),\n",
        "        Feature(name=\"AMT_INCOME_TOTAL\", dtype=ValueType.FLOAT),\n",
        "        Feature(name=\"NAME_INCOME_TYPE\", dtype=ValueType.STRING),\n",
        "        Feature(name=\"DAYS_LAST_PHONE_CHANGE\", dtype=ValueType.FLOAT),\n",
        "        Feature(name=\"ORGANIZATION_TYPE\", dtype=ValueType.STRING),\n",
        "        Feature(name=\"AMT_CREDIT\", dtype=ValueType.FLOAT),\n",
        "        Feature(name=\"AMT_GOODS_PRICE\", dtype=ValueType.FLOAT),\n",
        "        Feature(name=\"DAYS_REGISTRATION\", dtype=ValueType.FLOAT),\n",
        "        Feature(name=\"AMT_ANNUITY\", dtype=ValueType.FLOAT),\n",
        "        Feature(name=\"CODE_GENDER\", dtype=ValueType.STRING),\n",
        "        Feature(name=\"DAYS_ID_PUBLISH\", dtype=ValueType.INT64),\n",
        "        Feature(name=\"NAME_EDUCATION_TYPE\", dtype=ValueType.STRING),\n",
        "        Feature(name=\"DAYS_EMPLOYED\", dtype=ValueType.INT64),\n",
        "        Feature(name=\"DAYS_BIRTH\", dtype=ValueType.INT64),\n",
        "        Feature(name=\"EXT_SOURCE_1\", dtype=ValueType.FLOAT),\n",
        "        Feature(name=\"EXT_SOURCE_2\", dtype=ValueType.FLOAT),\n",
        "        Feature(name=\"EXT_SOURCE_3\", dtype=ValueType.FLOAT),\n",
        "    ],\n",
        "    online=False,\n",
        "    batch_source=customer_info_table,\n",
        "    tags={},\n",
        ")\n",
        "\n",
        "\n",
        "bureau_view = FeatureView(\n",
        "    name=\"bureau_feature_view\",\n",
        "    entities=[\"SK_ID_CURR\"],\n",
        "    ttl=timedelta(days=90),\n",
        "    online=False,\n",
        "    batch_source=bureau_feature_table,\n",
        "    tags={},\n",
        ")\n",
        "\n",
        "previous_loan_view = FeatureView(\n",
        "    name=\"previous_loan_feature_view\",\n",
        "    entities=[\"SK_ID_CURR\"],\n",
        "    ttl=timedelta(days=90),\n",
        "    online=False,\n",
        "    batch_source=previous_loan_feature_table,\n",
        "    tags={},\n",
        ")\n",
        "\n",
        "### Feature Services\n",
        "cust_fs_1 = FeatureService(\n",
        "    name=\"eh_dbr_credit_model\",\n",
        "    features=[customer_stats_view, bureau_view, previous_loan_view ]\n",
        ")\n",
        "\n",
        "risk_model_bureau_fs = FeatureService(\n",
        "    name=\"risk_model_bureau_fs\",\n",
        "    features=[bureau_view, previous_loan_view]\n",
        ")"
      ]
    },
    {
      "cell_type": "markdown",
      "metadata": {
        "application/vnd.databricks.v1+cell": {
          "inputWidgets": {},
          "nuid": "450f7839-e3ef-4725-a0b5-4f259a992827",
          "showTitle": false,
          "title": ""
        }
      },
      "source": [
        "#### Feature Registration via FEAST\n",
        "\n",
        "- Register Features, Entity, Feature Views and Feature Service using Feast.\n",
        "- Feature registration implies storing the definitions and associated metadata into Azure Blob Container\n",
        "- List the feature views from the registry to ensure the registration was successful"
      ]
    },
    {
      "cell_type": "code",
      "execution_count": 8,
      "metadata": {
        "application/vnd.databricks.v1+cell": {
          "inputWidgets": {},
          "nuid": "77c2ba68-dd4c-4d7c-ad8e-99b13f723bed",
          "showTitle": false,
          "title": ""
        }
      },
      "outputs": [
        {
          "name": "stderr",
          "output_type": "stream",
          "text": [
            "/anaconda/envs/azureml_py38/lib/python3.8/site-packages/ipykernel/ipkernel.py:287: DeprecationWarning: `should_run_async` will not call `transform_cell` automatically in the future. Please pass the result to `transformed_cell` argument and any exception that happen during thetransform in `preprocessing_exc_tuple` in IPython 7.17 and above.\n",
            "  and should_run_async(code)\n"
          ]
        },
        {
          "name": "stdout",
          "output_type": "stream",
          "text": [
            "====FEATURE VIEWS====\n",
            "Feature View Name: static_feature_view\n",
            "Entities: ['SK_ID_CURR']\n",
            "Features: [{'name': 'OCCUPATION_TYPE', 'valueType': 'STRING'}, {'name': 'AMT_INCOME_TOTAL', 'valueType': 'FLOAT'}, {'name': 'NAME_INCOME_TYPE', 'valueType': 'STRING'}, {'name': 'DAYS_LAST_PHONE_CHANGE', 'valueType': 'FLOAT'}, {'name': 'ORGANIZATION_TYPE', 'valueType': 'STRING'}, {'name': 'AMT_CREDIT', 'valueType': 'FLOAT'}, {'name': 'AMT_GOODS_PRICE', 'valueType': 'FLOAT'}, {'name': 'DAYS_REGISTRATION', 'valueType': 'FLOAT'}, {'name': 'AMT_ANNUITY', 'valueType': 'FLOAT'}, {'name': 'CODE_GENDER', 'valueType': 'STRING'}, {'name': 'DAYS_ID_PUBLISH', 'valueType': 'INT64'}, {'name': 'NAME_EDUCATION_TYPE', 'valueType': 'STRING'}, {'name': 'DAYS_EMPLOYED', 'valueType': 'INT64'}, {'name': 'DAYS_BIRTH', 'valueType': 'INT64'}, {'name': 'EXT_SOURCE_1', 'valueType': 'FLOAT'}, {'name': 'EXT_SOURCE_2', 'valueType': 'FLOAT'}, {'name': 'EXT_SOURCE_3', 'valueType': 'FLOAT'}]\n",
            "Source Type: feast.infra.offline_stores.snowflake_source.SnowflakeSource\n",
            "\n",
            "\n",
            "Feature View Name: bureau_feature_view\n",
            "Entities: ['SK_ID_CURR']\n",
            "Features: [{'name': 'DEBT_CREDIT_RATIO', 'valueType': 'DOUBLE'}, {'name': 'CREDIT_DAY_OVERDUE_MEAN', 'valueType': 'DOUBLE'}, {'name': 'DAYS_CREDIT_BETWEEN_MEAN', 'valueType': 'DOUBLE'}, {'name': 'NUM_CREDIT_COUNT', 'valueType': 'INT32'}, {'name': 'CREDIT_PROLONG_COUNT', 'valueType': 'INT32'}, {'name': 'ACTIVE_LOANS_PERCENT', 'valueType': 'DOUBLE'}, {'name': 'CREDIT_TYPE_ANOTHER_TYPE_OF_LOAN', 'valueType': 'DOUBLE'}, {'name': 'CREDIT_TYPE_CAR_LOAN', 'valueType': 'DOUBLE'}, {'name': 'CREDIT_TYPE_CASH_LOAN_NON_EARMARKED', 'valueType': 'DOUBLE'}, {'name': 'CREDIT_TYPE_CONSUMER_CREDIT', 'valueType': 'DOUBLE'}, {'name': 'CREDIT_TYPE_CREDIT_CARD', 'valueType': 'DOUBLE'}, {'name': 'CREDIT_TYPE_INTERBANK_CREDIT', 'valueType': 'DOUBLE'}, {'name': 'CREDIT_TYPE_LOAN_FOR_BUSINESS_DEVELOPMENT', 'valueType': 'DOUBLE'}, {'name': 'CREDIT_TYPE_LOAN_FOR_PURCHASE_OF_SHARES_MARGIN_LENDING', 'valueType': 'DOUBLE'}, {'name': 'CREDIT_TYPE_LOAN_FOR_THE_PURCHASE_OF_EQUIPMENT', 'valueType': 'DOUBLE'}, {'name': 'CREDIT_TYPE_LOAN_FOR_WORKING_CAPITAL_REPLENISHMENT', 'valueType': 'DOUBLE'}, {'name': 'CREDIT_TYPE_MICROLOAN', 'valueType': 'DOUBLE'}, {'name': 'CREDIT_TYPE_MOBILE_OPERATOR_LOAN', 'valueType': 'DOUBLE'}, {'name': 'CREDIT_TYPE_MORTGAGE', 'valueType': 'DOUBLE'}, {'name': 'CREDIT_TYPE_REAL_ESTATE_LOAN', 'valueType': 'DOUBLE'}, {'name': 'CREDIT_TYPE_UNKNOWN_TYPE_OF_LOAN', 'valueType': 'DOUBLE'}, {'name': 'CREDIT_STATUS_EMA_AVG', 'valueType': 'DOUBLE'}]\n",
            "Source Type: feast.infra.offline_stores.snowflake_source.SnowflakeSource\n",
            "\n",
            "\n",
            "Feature View Name: previous_loan_feature_view\n",
            "Entities: ['SK_ID_CURR']\n",
            "Features: [{'name': 'INSTALMENT_MISSED', 'valueType': 'DOUBLE'}, {'name': 'PERC_UNPAID', 'valueType': 'DOUBLE'}, {'name': 'AMT_UNPAID', 'valueType': 'DOUBLE'}, {'name': 'CREDIT_CARD_BALANCE_EMA_AVG', 'valueType': 'DOUBLE'}, {'name': 'AMT_BALANCE', 'valueType': 'DOUBLE'}]\n",
            "Source Type: feast.infra.offline_stores.snowflake_source.SnowflakeSource\n",
            "\n",
            "\n",
            "====FEATURE SERVICE====\n",
            "Feature Service Name: risk_model_fs_123\n",
            "Feature Views: [{'featureViewName': 'bureau_feature_view', 'featureColumns': [{'name': 'DEBT_CREDIT_RATIO', 'valueType': 'DOUBLE'}, {'name': 'CREDIT_DAY_OVERDUE_MEAN', 'valueType': 'DOUBLE'}, {'name': 'DAYS_CREDIT_BETWEEN_MEAN', 'valueType': 'DOUBLE'}, {'name': 'NUM_CREDIT_COUNT', 'valueType': 'INT32'}, {'name': 'CREDIT_PROLONG_COUNT', 'valueType': 'INT32'}, {'name': 'ACTIVE_LOANS_PERCENT', 'valueType': 'DOUBLE'}, {'name': 'CREDIT_TYPE_ANOTHER_TYPE_OF_LOAN', 'valueType': 'DOUBLE'}, {'name': 'CREDIT_TYPE_CAR_LOAN', 'valueType': 'DOUBLE'}, {'name': 'CREDIT_TYPE_CASH_LOAN_NON_EARMARKED', 'valueType': 'DOUBLE'}, {'name': 'CREDIT_TYPE_CONSUMER_CREDIT', 'valueType': 'DOUBLE'}, {'name': 'CREDIT_TYPE_CREDIT_CARD', 'valueType': 'DOUBLE'}, {'name': 'CREDIT_TYPE_INTERBANK_CREDIT', 'valueType': 'DOUBLE'}, {'name': 'CREDIT_TYPE_LOAN_FOR_BUSINESS_DEVELOPMENT', 'valueType': 'DOUBLE'}, {'name': 'CREDIT_TYPE_LOAN_FOR_PURCHASE_OF_SHARES_MARGIN_LENDING', 'valueType': 'DOUBLE'}, {'name': 'CREDIT_TYPE_LOAN_FOR_THE_PURCHASE_OF_EQUIPMENT', 'valueType': 'DOUBLE'}, {'name': 'CREDIT_TYPE_LOAN_FOR_WORKING_CAPITAL_REPLENISHMENT', 'valueType': 'DOUBLE'}, {'name': 'CREDIT_TYPE_MICROLOAN', 'valueType': 'DOUBLE'}, {'name': 'CREDIT_TYPE_MOBILE_OPERATOR_LOAN', 'valueType': 'DOUBLE'}, {'name': 'CREDIT_TYPE_MORTGAGE', 'valueType': 'DOUBLE'}, {'name': 'CREDIT_TYPE_REAL_ESTATE_LOAN', 'valueType': 'DOUBLE'}, {'name': 'CREDIT_TYPE_UNKNOWN_TYPE_OF_LOAN', 'valueType': 'DOUBLE'}, {'name': 'CREDIT_STATUS_EMA_AVG', 'valueType': 'DOUBLE'}]}, {'featureViewName': 'previous_loan_feature_view', 'featureColumns': [{'name': 'INSTALMENT_MISSED', 'valueType': 'DOUBLE'}, {'name': 'PERC_UNPAID', 'valueType': 'DOUBLE'}, {'name': 'AMT_UNPAID', 'valueType': 'DOUBLE'}, {'name': 'CREDIT_CARD_BALANCE_EMA_AVG', 'valueType': 'DOUBLE'}, {'name': 'AMT_BALANCE', 'valueType': 'DOUBLE'}, {'name': 'CREATED_TIMESTAMP', 'valueType': 'INT64'}]}]\n",
            "\n",
            "\n",
            "Feature Service Name: eh_dbr_credit_model\n",
            "Feature Views: [{'featureViewName': 'static_feature_view', 'featureColumns': [{'name': 'OCCUPATION_TYPE', 'valueType': 'STRING'}, {'name': 'AMT_INCOME_TOTAL', 'valueType': 'FLOAT'}, {'name': 'NAME_INCOME_TYPE', 'valueType': 'STRING'}, {'name': 'DAYS_LAST_PHONE_CHANGE', 'valueType': 'FLOAT'}, {'name': 'ORGANIZATION_TYPE', 'valueType': 'STRING'}, {'name': 'AMT_CREDIT', 'valueType': 'FLOAT'}, {'name': 'AMT_GOODS_PRICE', 'valueType': 'FLOAT'}, {'name': 'DAYS_REGISTRATION', 'valueType': 'FLOAT'}, {'name': 'AMT_ANNUITY', 'valueType': 'FLOAT'}, {'name': 'CODE_GENDER', 'valueType': 'STRING'}, {'name': 'DAYS_ID_PUBLISH', 'valueType': 'INT64'}, {'name': 'NAME_EDUCATION_TYPE', 'valueType': 'STRING'}, {'name': 'DAYS_EMPLOYED', 'valueType': 'INT64'}, {'name': 'DAYS_BIRTH', 'valueType': 'INT64'}, {'name': 'EXT_SOURCE_1', 'valueType': 'FLOAT'}, {'name': 'EXT_SOURCE_2', 'valueType': 'FLOAT'}, {'name': 'EXT_SOURCE_3', 'valueType': 'FLOAT'}]}, {'featureViewName': 'bureau_feature_view', 'featureColumns': [{'name': 'DEBT_CREDIT_RATIO', 'valueType': 'DOUBLE'}, {'name': 'CREDIT_DAY_OVERDUE_MEAN', 'valueType': 'DOUBLE'}, {'name': 'DAYS_CREDIT_BETWEEN_MEAN', 'valueType': 'DOUBLE'}, {'name': 'NUM_CREDIT_COUNT', 'valueType': 'INT32'}, {'name': 'CREDIT_PROLONG_COUNT', 'valueType': 'INT32'}, {'name': 'ACTIVE_LOANS_PERCENT', 'valueType': 'DOUBLE'}, {'name': 'CREDIT_TYPE_ANOTHER_TYPE_OF_LOAN', 'valueType': 'DOUBLE'}, {'name': 'CREDIT_TYPE_CAR_LOAN', 'valueType': 'DOUBLE'}, {'name': 'CREDIT_TYPE_CASH_LOAN_NON_EARMARKED', 'valueType': 'DOUBLE'}, {'name': 'CREDIT_TYPE_CONSUMER_CREDIT', 'valueType': 'DOUBLE'}, {'name': 'CREDIT_TYPE_CREDIT_CARD', 'valueType': 'DOUBLE'}, {'name': 'CREDIT_TYPE_INTERBANK_CREDIT', 'valueType': 'DOUBLE'}, {'name': 'CREDIT_TYPE_LOAN_FOR_BUSINESS_DEVELOPMENT', 'valueType': 'DOUBLE'}, {'name': 'CREDIT_TYPE_LOAN_FOR_PURCHASE_OF_SHARES_MARGIN_LENDING', 'valueType': 'DOUBLE'}, {'name': 'CREDIT_TYPE_LOAN_FOR_THE_PURCHASE_OF_EQUIPMENT', 'valueType': 'DOUBLE'}, {'name': 'CREDIT_TYPE_LOAN_FOR_WORKING_CAPITAL_REPLENISHMENT', 'valueType': 'DOUBLE'}, {'name': 'CREDIT_TYPE_MICROLOAN', 'valueType': 'DOUBLE'}, {'name': 'CREDIT_TYPE_MOBILE_OPERATOR_LOAN', 'valueType': 'DOUBLE'}, {'name': 'CREDIT_TYPE_MORTGAGE', 'valueType': 'DOUBLE'}, {'name': 'CREDIT_TYPE_REAL_ESTATE_LOAN', 'valueType': 'DOUBLE'}, {'name': 'CREDIT_TYPE_UNKNOWN_TYPE_OF_LOAN', 'valueType': 'DOUBLE'}, {'name': 'CREDIT_STATUS_EMA_AVG', 'valueType': 'DOUBLE'}]}, {'featureViewName': 'previous_loan_feature_view', 'featureColumns': [{'name': 'INSTALMENT_MISSED', 'valueType': 'DOUBLE'}, {'name': 'PERC_UNPAID', 'valueType': 'DOUBLE'}, {'name': 'AMT_UNPAID', 'valueType': 'DOUBLE'}, {'name': 'CREDIT_CARD_BALANCE_EMA_AVG', 'valueType': 'DOUBLE'}, {'name': 'AMT_BALANCE', 'valueType': 'DOUBLE'}]}]\n",
            "\n",
            "\n",
            "Feature Service Name: risk_model_bureau_fs\n",
            "Feature Views: [{'featureViewName': 'bureau_feature_view', 'featureColumns': [{'name': 'DEBT_CREDIT_RATIO', 'valueType': 'DOUBLE'}, {'name': 'CREDIT_DAY_OVERDUE_MEAN', 'valueType': 'DOUBLE'}, {'name': 'DAYS_CREDIT_BETWEEN_MEAN', 'valueType': 'DOUBLE'}, {'name': 'NUM_CREDIT_COUNT', 'valueType': 'INT32'}, {'name': 'CREDIT_PROLONG_COUNT', 'valueType': 'INT32'}, {'name': 'ACTIVE_LOANS_PERCENT', 'valueType': 'DOUBLE'}, {'name': 'CREDIT_TYPE_ANOTHER_TYPE_OF_LOAN', 'valueType': 'DOUBLE'}, {'name': 'CREDIT_TYPE_CAR_LOAN', 'valueType': 'DOUBLE'}, {'name': 'CREDIT_TYPE_CASH_LOAN_NON_EARMARKED', 'valueType': 'DOUBLE'}, {'name': 'CREDIT_TYPE_CONSUMER_CREDIT', 'valueType': 'DOUBLE'}, {'name': 'CREDIT_TYPE_CREDIT_CARD', 'valueType': 'DOUBLE'}, {'name': 'CREDIT_TYPE_INTERBANK_CREDIT', 'valueType': 'DOUBLE'}, {'name': 'CREDIT_TYPE_LOAN_FOR_BUSINESS_DEVELOPMENT', 'valueType': 'DOUBLE'}, {'name': 'CREDIT_TYPE_LOAN_FOR_PURCHASE_OF_SHARES_MARGIN_LENDING', 'valueType': 'DOUBLE'}, {'name': 'CREDIT_TYPE_LOAN_FOR_THE_PURCHASE_OF_EQUIPMENT', 'valueType': 'DOUBLE'}, {'name': 'CREDIT_TYPE_LOAN_FOR_WORKING_CAPITAL_REPLENISHMENT', 'valueType': 'DOUBLE'}, {'name': 'CREDIT_TYPE_MICROLOAN', 'valueType': 'DOUBLE'}, {'name': 'CREDIT_TYPE_MOBILE_OPERATOR_LOAN', 'valueType': 'DOUBLE'}, {'name': 'CREDIT_TYPE_MORTGAGE', 'valueType': 'DOUBLE'}, {'name': 'CREDIT_TYPE_REAL_ESTATE_LOAN', 'valueType': 'DOUBLE'}, {'name': 'CREDIT_TYPE_UNKNOWN_TYPE_OF_LOAN', 'valueType': 'DOUBLE'}, {'name': 'CREDIT_STATUS_EMA_AVG', 'valueType': 'DOUBLE'}]}, {'featureViewName': 'previous_loan_feature_view', 'featureColumns': [{'name': 'INSTALMENT_MISSED', 'valueType': 'DOUBLE'}, {'name': 'PERC_UNPAID', 'valueType': 'DOUBLE'}, {'name': 'AMT_UNPAID', 'valueType': 'DOUBLE'}, {'name': 'CREDIT_CARD_BALANCE_EMA_AVG', 'valueType': 'DOUBLE'}, {'name': 'AMT_BALANCE', 'valueType': 'DOUBLE'}]}]\n",
            "\n",
            "\n"
          ]
        }
      ],
      "source": [
        "\n",
        "fs = FeatureStore(repo_path)\n",
        "fs.apply([customer, customer_stats_view, bureau_view, previous_loan_view, cust_fs_1, risk_model_bureau_fs])\n",
        "# List features from registry\n",
        "print(\"====FEATURE VIEWS====\")\n",
        "fv_list = fs.list_feature_views()\n",
        "for fv in fv_list:\n",
        "    d=MessageToDict(fv.to_proto())\n",
        "    print(\"Feature View Name:\", d['spec']['name'])\n",
        "    print(\"Entities:\", d['spec']['entities'])\n",
        "    print(\"Features:\", d['spec']['features'])\n",
        "    print(\"Source Type:\", d['spec']['batchSource']['dataSourceClassType'])\n",
        "    print(\"\\n\")\n",
        "\n",
        "print(\"====FEATURE SERVICE====\")\n",
        "fs_list = fs.list_feature_services()\n",
        "for fserv in fs_list:\n",
        "    d=MessageToDict(fserv.to_proto())\n",
        "    print(\"Feature Service Name:\", d['spec']['name'])\n",
        "    print(\"Feature Views:\", d['spec']['features'])\n",
        "    print(\"\\n\")\n"
      ]
    },
    {
      "cell_type": "markdown",
      "metadata": {
        "application/vnd.databricks.v1+cell": {
          "inputWidgets": {},
          "nuid": "590634fd-5419-4aaa-b63d-a326c31c5907",
          "showTitle": false,
          "title": ""
        }
      },
      "source": [
        "#### Testing pulling training data [Optional]\n",
        "\n",
        "If all the features have been registered, get_historical_features call should return a the first 5 rows of a pandas dataframe"
      ]
    },
    {
      "cell_type": "code",
      "execution_count": 9,
      "metadata": {
        "application/vnd.databricks.v1+cell": {
          "inputWidgets": {},
          "nuid": "de3b5481-6d16-468b-80e5-c35f209c610e",
          "showTitle": false,
          "title": ""
        }
      },
      "outputs": [
        {
          "name": "stderr",
          "output_type": "stream",
          "text": [
            "/anaconda/envs/azureml_py38/lib/python3.8/site-packages/ipykernel/ipkernel.py:287: DeprecationWarning: `should_run_async` will not call `transform_cell` automatically in the future. Please pass the result to `transformed_cell` argument and any exception that happen during thetransform in `preprocessing_exc_tuple` in IPython 7.17 and above.\n",
            "  and should_run_async(code)\n",
            "/anaconda/envs/azureml_py38/lib/python3.8/site-packages/feast/feature_view.py:100: DeprecationWarning: The argument 'input' is being deprecated. Please use 'batch_source' instead. Feast 0.13 and onwards will not support the argument 'input'.\n",
            "  warnings.warn(\n"
          ]
        },
        {
          "name": "stdout",
          "output_type": "stream",
          "text": [
            "   SK_ID_CURR  label event_timestamp OCCUPATION_TYPE  AMT_INCOME_TOTAL  \\\n",
            "0      100004      1      2022-02-24        Laborers           67500.0   \n",
            "1      100002      1      2022-02-24        Laborers          202500.0   \n",
            "2      100003      0      2022-02-24      Core staff          270000.0   \n",
            "\n",
            "  NAME_INCOME_TYPE  DAYS_LAST_PHONE_CHANGE       ORGANIZATION_TYPE  \\\n",
            "0          Working                  -815.0              Government   \n",
            "1          Working                 -1134.0  Business Entity Type 3   \n",
            "2    State servant                  -828.0                  School   \n",
            "\n",
            "   AMT_CREDIT  AMT_GOODS_PRICE  ...  CREDIT_TYPE_MOBILE_OPERATOR_LOAN  \\\n",
            "0    135000.0         135000.0  ...                               0.0   \n",
            "1    406597.5         351000.0  ...                               0.0   \n",
            "2   1293502.5        1129500.0  ...                               0.0   \n",
            "\n",
            "   CREDIT_TYPE_MORTGAGE CREDIT_TYPE_REAL_ESTATE_LOAN  \\\n",
            "0                   0.0                          0.0   \n",
            "1                   0.0                          0.0   \n",
            "2                   0.0                          0.0   \n",
            "\n",
            "   CREDIT_TYPE_UNKNOWN_TYPE_OF_LOAN CREDIT_STATUS_EMA_AVG  INSTALMENT_MISSED  \\\n",
            "0                               0.0              0.000000                0.0   \n",
            "1                               0.0              0.183594                0.0   \n",
            "2                               0.0              0.000000                0.0   \n",
            "\n",
            "   PERC_UNPAID  AMT_UNPAID  CREDIT_CARD_BALANCE_EMA_AVG  AMT_BALANCE  \n",
            "0          0.0         0.0                          0.0          0.0  \n",
            "1          0.0         0.0                          0.0          0.0  \n",
            "2          0.0         0.0                          0.0          0.0  \n",
            "\n",
            "[3 rows x 47 columns]\n"
          ]
        }
      ],
      "source": [
        "from datetime import datetime\n",
        "from feast import FeatureStore\n",
        "import pandas as pd\n",
        "\n",
        "repo_path = \"/tmp/\" #Feast Feature Repo Path\n",
        "fs = FeatureStore(repo_path)\n",
        "feature_service = fs.get_feature_service(\"eh_dbr_credit_model\")\n",
        "entity_df = pd.DataFrame.from_dict(\n",
        "    {\n",
        "        \"SK_ID_CURR\": [100002, 100003, 100004],\n",
        "        \"label\": [1, 0, 1],\n",
        "        \"event_timestamp\": [\n",
        "            datetime(2022,2,24),\n",
        "            datetime(2022,2,24),\n",
        "            datetime(2022,2,24),\n",
        "        ],\n",
        "    }\n",
        ")\n",
        "\n",
        "bureau_df = fs.get_historical_features(\n",
        "    entity_df=entity_df,\n",
        "    features=feature_service\n",
        ").to_df()\n",
        "\n",
        "print(bureau_df.head(5))\n"
      ]
    },
    {
      "cell_type": "code",
      "execution_count": null,
      "metadata": {
        "application/vnd.databricks.v1+cell": {
          "inputWidgets": {},
          "nuid": "6467d46c-7f34-496b-88c1-5e0ae9b7e1d9",
          "showTitle": false,
          "title": ""
        }
      },
      "outputs": [],
      "source": []
    }
  ],
  "metadata": {
    "application/vnd.databricks.v1+notebook": {
      "dashboards": [],
      "language": "python",
      "notebookMetadata": {
        "pythonIndentUnit": 4
      },
      "notebookName": "Feature definition and registration",
      "notebookOrigID": 3481767586015521,
      "widgets": {}
    },
    "kernel_info": {
      "name": "python38-azureml"
    },
    "kernelspec": {
      "display_name": "Python 3.8.9 64-bit",
      "language": "python",
      "name": "python3"
    },
    "language_info": {
      "codemirror_mode": {
        "name": "ipython",
        "version": 3
      },
      "file_extension": ".py",
      "mimetype": "text/x-python",
      "name": "python",
      "nbconvert_exporter": "python",
      "pygments_lexer": "ipython3",
      "version": "3.8.9"
    },
    "nteract": {
      "version": "nteract-front-end@1.0.0"
    },
    "vscode": {
      "interpreter": {
        "hash": "31f2aee4e71d21fbe5cf8b01ff0e069b9275f58929596ceb00d14d90e3e16cd6"
      }
    }
  },
  "nbformat": 4,
  "nbformat_minor": 4
}

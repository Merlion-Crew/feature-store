{
 "cells": [
  {
   "cell_type": "markdown",
   "metadata": {},
   "source": [
    "## Feature Views\n",
    "- Defined in `credit_feature_register.py`\n",
    "\n",
    "### Entity: \n",
    "-  `SK_ID_CURR`\n",
    "\n",
    "\n",
    "### Feature Views:\n",
    "-  `static_feature_view`: customers demographic features, age, income, occupation, indicators and customer scores.\n",
    "    - File: static_feature_table.parquet\n",
    "    - Fields:\n",
    "        - OCCUPATION_TYPE\n",
    "        - AMT_INCOME_TOTAL\n",
    "        - NAME_INCOME_TYPE\n",
    "        - DAYS_LAST_PHONE_CHANGE\n",
    "        - ORGANIZATION_TYPE\n",
    "        - AMT_CREDIT\n",
    "        - AMT_GOODS_PRICE\n",
    "        - DAYS_REGISTRATION\n",
    "        - AMT_ANNUITY\n",
    "        - CODE_GENDER\n",
    "        - DAYS_ID_PUBLISH\n",
    "        - NAME_EDUCATION_TYPE\n",
    "        - DAYS_EMPLOYED\n",
    "        - DAYS_BIRTH\n",
    "        - EXT_SOURCE_1\n",
    "        - EXT_SOURCE_2\n",
    "        - EXT_SOURCE_3\n",
    " \n",
    "\n",
    "\n",
    "- `bureau_feature_view`: customer's credit info with other finanacial instuitues reported to Credit Bureau\n",
    "    - File: bureau_feature_table.parquet\n",
    "    - Fields: all fields\n",
    "\n",
    "\n",
    "\n",
    "- `previous_loan_feature_view`: customer's previous credit card, cash loans, and repayment history.\n",
    "    - File: previous_loan_features.parquet\n",
    "    - Fields: all fields\n"
   ]
  },
  {
   "cell_type": "code",
   "execution_count": 34,
   "metadata": {},
   "outputs": [
    {
     "name": "stdout",
     "output_type": "stream",
     "text": [
      "/opt/anaconda3/envs/xy38/lib/python3.8/site-packages/feast/feature_view.py:100: DeprecationWarning: The argument 'input' is being deprecated. Please use 'batch_source' instead. Feast 0.13 and onwards will not support the argument 'input'.\n",
      "  warnings.warn(\n",
      "Created feature service \u001b[1m\u001b[32mcredit_model_1\u001b[0m\n",
      "Deleted feature service \u001b[1m\u001b[31mcredit_model\u001b[0m\n",
      "\n",
      "\u001b[1m\u001b[94mNo changes to infrastructure\n"
     ]
    }
   ],
   "source": [
    "!feast apply"
   ]
  },
  {
   "cell_type": "code",
   "execution_count": 2,
   "metadata": {},
   "outputs": [],
   "source": [
    "from datetime import datetime, timedelta\n",
    "import pandas as pd\n",
    "from datetime import date\n",
    "from feast import FeatureStore\n",
    "\n",
    "\n",
    "import pytz"
   ]
  },
  {
   "cell_type": "code",
   "execution_count": 3,
   "metadata": {},
   "outputs": [
    {
     "name": "stderr",
     "output_type": "stream",
     "text": [
      "/opt/anaconda3/envs/xy38/lib/python3.8/site-packages/ipykernel/ipkernel.py:287: DeprecationWarning: `should_run_async` will not call `transform_cell` automatically in the future. Please pass the result to `transformed_cell` argument and any exception that happen during thetransform in `preprocessing_exc_tuple` in IPython 7.17 and above.\n",
      "  and should_run_async(code)\n"
     ]
    }
   ],
   "source": [
    "store = FeatureStore(repo_path=\"../feature_repo/dev\")\n"
   ]
  },
  {
   "cell_type": "code",
   "execution_count": 38,
   "metadata": {},
   "outputs": [],
   "source": [
    "entity_df = pd.DataFrame.from_dict(\n",
    "    {\n",
    "        \"SK_ID_CURR\": [100002, 100003, 100004],\n",
    "        \"label\": [1, 0, 1], \n",
    "        \"event_timestamp\": [\n",
    "            datetime(2022,2,24),\n",
    "            datetime(2022,2,24),\n",
    "            datetime(2022,2,24),\n",
    "        ],\n",
    "    }\n",
    ")"
   ]
  },
  {
   "cell_type": "code",
   "execution_count": 9,
   "metadata": {},
   "outputs": [],
   "source": [
    "## use feature view\n",
    "# training_df = store.get_historical_features(\n",
    "#     entity_df=entity_df,\n",
    "#     features=[\n",
    "#         \"static_feature_view:EXT_SOURCE_1\",\n",
    "#         \"static_feature_view:EXT_SOURCE_2\",\n",
    "#         \"static_feature_view:EXT_SOURCE_3\",\n",
    "#         \"bureau_feature_view:DEBT_CREDIT_RATIO\",\n",
    "#         \"previous_loan_feature_view:AMT_BALANCE\",\n",
    "        \n",
    "#     ],\n",
    "# ).to_df()\n",
    "# training_df"
   ]
  },
  {
   "cell_type": "code",
   "execution_count": 39,
   "metadata": {},
   "outputs": [
    {
     "data": {
      "text/html": [
       "<div>\n",
       "<style scoped>\n",
       "    .dataframe tbody tr th:only-of-type {\n",
       "        vertical-align: middle;\n",
       "    }\n",
       "\n",
       "    .dataframe tbody tr th {\n",
       "        vertical-align: top;\n",
       "    }\n",
       "\n",
       "    .dataframe thead th {\n",
       "        text-align: right;\n",
       "    }\n",
       "</style>\n",
       "<table border=\"1\" class=\"dataframe\">\n",
       "  <thead>\n",
       "    <tr style=\"text-align: right;\">\n",
       "      <th></th>\n",
       "      <th>event_timestamp</th>\n",
       "      <th>SK_ID_CURR</th>\n",
       "      <th>label</th>\n",
       "      <th>OCCUPATION_TYPE</th>\n",
       "      <th>AMT_INCOME_TOTAL</th>\n",
       "      <th>NAME_INCOME_TYPE</th>\n",
       "      <th>DAYS_LAST_PHONE_CHANGE</th>\n",
       "      <th>ORGANIZATION_TYPE</th>\n",
       "      <th>AMT_CREDIT</th>\n",
       "      <th>AMT_GOODS_PRICE</th>\n",
       "      <th>...</th>\n",
       "      <th>CREDIT_TYPE_Loan for business development</th>\n",
       "      <th>CREDIT_TYPE_Loan for purchase of shares (margin lending)</th>\n",
       "      <th>CREDIT_TYPE_Loan for the purchase of equipment</th>\n",
       "      <th>CREDIT_TYPE_Loan for working capital replenishment</th>\n",
       "      <th>CREDIT_TYPE_Microloan</th>\n",
       "      <th>CREDIT_TYPE_Mobile operator loan</th>\n",
       "      <th>CREDIT_TYPE_Mortgage</th>\n",
       "      <th>CREDIT_TYPE_Real estate loan</th>\n",
       "      <th>CREDIT_TYPE_Unknown type of loan</th>\n",
       "      <th>CREDIT_STATUS_EMA_AVG</th>\n",
       "    </tr>\n",
       "  </thead>\n",
       "  <tbody>\n",
       "    <tr>\n",
       "      <th>0</th>\n",
       "      <td>2022-02-24 00:00:00+00:00</td>\n",
       "      <td>100002</td>\n",
       "      <td>1</td>\n",
       "      <td>Laborers</td>\n",
       "      <td>202500.0</td>\n",
       "      <td>Working</td>\n",
       "      <td>-1134.0</td>\n",
       "      <td>Business Entity Type 3</td>\n",
       "      <td>406597.5</td>\n",
       "      <td>351000.0</td>\n",
       "      <td>...</td>\n",
       "      <td>0.0</td>\n",
       "      <td>0.0</td>\n",
       "      <td>0.0</td>\n",
       "      <td>0.0</td>\n",
       "      <td>0.0</td>\n",
       "      <td>0.0</td>\n",
       "      <td>0.0</td>\n",
       "      <td>0.0</td>\n",
       "      <td>0.0</td>\n",
       "      <td>0.183594</td>\n",
       "    </tr>\n",
       "    <tr>\n",
       "      <th>1</th>\n",
       "      <td>2022-02-24 00:00:00+00:00</td>\n",
       "      <td>100003</td>\n",
       "      <td>0</td>\n",
       "      <td>Core staff</td>\n",
       "      <td>270000.0</td>\n",
       "      <td>State servant</td>\n",
       "      <td>-828.0</td>\n",
       "      <td>School</td>\n",
       "      <td>1293502.5</td>\n",
       "      <td>1129500.0</td>\n",
       "      <td>...</td>\n",
       "      <td>0.0</td>\n",
       "      <td>0.0</td>\n",
       "      <td>0.0</td>\n",
       "      <td>0.0</td>\n",
       "      <td>0.0</td>\n",
       "      <td>0.0</td>\n",
       "      <td>0.0</td>\n",
       "      <td>0.0</td>\n",
       "      <td>0.0</td>\n",
       "      <td>0.000000</td>\n",
       "    </tr>\n",
       "    <tr>\n",
       "      <th>2</th>\n",
       "      <td>2022-02-24 00:00:00+00:00</td>\n",
       "      <td>100004</td>\n",
       "      <td>1</td>\n",
       "      <td>Laborers</td>\n",
       "      <td>67500.0</td>\n",
       "      <td>Working</td>\n",
       "      <td>-815.0</td>\n",
       "      <td>Government</td>\n",
       "      <td>135000.0</td>\n",
       "      <td>135000.0</td>\n",
       "      <td>...</td>\n",
       "      <td>0.0</td>\n",
       "      <td>0.0</td>\n",
       "      <td>0.0</td>\n",
       "      <td>0.0</td>\n",
       "      <td>0.0</td>\n",
       "      <td>0.0</td>\n",
       "      <td>0.0</td>\n",
       "      <td>0.0</td>\n",
       "      <td>0.0</td>\n",
       "      <td>0.000000</td>\n",
       "    </tr>\n",
       "  </tbody>\n",
       "</table>\n",
       "<p>3 rows × 42 columns</p>\n",
       "</div>"
      ],
      "text/plain": [
       "            event_timestamp  SK_ID_CURR  label OCCUPATION_TYPE  \\\n",
       "0 2022-02-24 00:00:00+00:00      100002      1        Laborers   \n",
       "1 2022-02-24 00:00:00+00:00      100003      0      Core staff   \n",
       "2 2022-02-24 00:00:00+00:00      100004      1        Laborers   \n",
       "\n",
       "   AMT_INCOME_TOTAL NAME_INCOME_TYPE  DAYS_LAST_PHONE_CHANGE  \\\n",
       "0          202500.0          Working                 -1134.0   \n",
       "1          270000.0    State servant                  -828.0   \n",
       "2           67500.0          Working                  -815.0   \n",
       "\n",
       "        ORGANIZATION_TYPE  AMT_CREDIT  AMT_GOODS_PRICE  ...  \\\n",
       "0  Business Entity Type 3    406597.5         351000.0  ...   \n",
       "1                  School   1293502.5        1129500.0  ...   \n",
       "2              Government    135000.0         135000.0  ...   \n",
       "\n",
       "   CREDIT_TYPE_Loan for business development  \\\n",
       "0                                        0.0   \n",
       "1                                        0.0   \n",
       "2                                        0.0   \n",
       "\n",
       "   CREDIT_TYPE_Loan for purchase of shares (margin lending)  \\\n",
       "0                                                0.0          \n",
       "1                                                0.0          \n",
       "2                                                0.0          \n",
       "\n",
       "  CREDIT_TYPE_Loan for the purchase of equipment  \\\n",
       "0                                            0.0   \n",
       "1                                            0.0   \n",
       "2                                            0.0   \n",
       "\n",
       "   CREDIT_TYPE_Loan for working capital replenishment CREDIT_TYPE_Microloan  \\\n",
       "0                                                0.0                    0.0   \n",
       "1                                                0.0                    0.0   \n",
       "2                                                0.0                    0.0   \n",
       "\n",
       "   CREDIT_TYPE_Mobile operator loan  CREDIT_TYPE_Mortgage  \\\n",
       "0                               0.0                   0.0   \n",
       "1                               0.0                   0.0   \n",
       "2                               0.0                   0.0   \n",
       "\n",
       "   CREDIT_TYPE_Real estate loan  CREDIT_TYPE_Unknown type of loan  \\\n",
       "0                           0.0                               0.0   \n",
       "1                           0.0                               0.0   \n",
       "2                           0.0                               0.0   \n",
       "\n",
       "   CREDIT_STATUS_EMA_AVG  \n",
       "0               0.183594  \n",
       "1               0.000000  \n",
       "2               0.000000  \n",
       "\n",
       "[3 rows x 42 columns]"
      ]
     },
     "execution_count": 39,
     "metadata": {},
     "output_type": "execute_result"
    }
   ],
   "source": [
    "## use feature service\n",
    "feature_service = store.get_feature_service(\"credit_model_1\")\n",
    "training_fs_df = store.get_historical_features(\n",
    "    entity_df=entity_df,\n",
    "    features=feature_service\n",
    ").to_df()\n",
    "training_fs_df"
   ]
  },
  {
   "cell_type": "code",
   "execution_count": 7,
   "metadata": {},
   "outputs": [
    {
     "name": "stderr",
     "output_type": "stream",
     "text": [
      "/opt/anaconda3/envs/xy38/lib/python3.8/site-packages/ipykernel/ipkernel.py:287: DeprecationWarning: `should_run_async` will not call `transform_cell` automatically in the future. Please pass the result to `transformed_cell` argument and any exception that happen during thetransform in `preprocessing_exc_tuple` in IPython 7.17 and above.\n",
      "  and should_run_async(code)\n"
     ]
    },
    {
     "name": "stdout",
     "output_type": "stream",
     "text": [
      "Materializing \u001b[1m\u001b[32m3\u001b[0m feature views to \u001b[1m\u001b[32m2022-02-25 08:00:00+08:00\u001b[0m into the \u001b[1m\u001b[32msqlite\u001b[0m online store.\n",
      "\n",
      "\u001b[1m\u001b[32mbureau_feature_view\u001b[0m from \u001b[1m\u001b[32m2021-11-27 01:36:48+08:00\u001b[0m to \u001b[1m\u001b[32m2022-02-25 08:00:00+08:00\u001b[0m:\n",
      "100%|█████████████████████████████████████████████████████| 305811/305811 [04:49<00:00, 1054.94it/s]\n",
      "\u001b[1m\u001b[32mstatic_feature_view\u001b[0m from \u001b[1m\u001b[32m2021-11-27 01:41:40+08:00\u001b[0m to \u001b[1m\u001b[32m2022-02-25 08:00:00+08:00\u001b[0m:\n",
      "100%|█████████████████████████████████████████████████████| 307511/307511 [03:41<00:00, 1390.50it/s]\n",
      "\u001b[1m\u001b[32mprevious_loan_feature_view\u001b[0m from \u001b[1m\u001b[32m2021-11-27 01:45:25+08:00\u001b[0m to \u001b[1m\u001b[32m2022-02-25 08:00:00+08:00\u001b[0m:\n",
      "100%|█████████████████████████████████████████████████████| 339587/339587 [01:31<00:00, 3692.53it/s]\n"
     ]
    }
   ],
   "source": [
    "!feast materialize-incremental 2022-02-25T00:00:00"
   ]
  },
  {
   "cell_type": "markdown",
   "metadata": {},
   "source": [
    "### Get oneline feature"
   ]
  },
  {
   "cell_type": "code",
   "execution_count": 41,
   "metadata": {},
   "outputs": [],
   "source": [
    "# features = [\n",
    "#         \"static_feature_view:EXT_SOURCE_1\",\n",
    "#         \"static_feature_view:EXT_SOURCE_2\",\n",
    "#         \"static_feature_view:EXT_SOURCE_3\",\n",
    "#         \"bureau_feature_view:DEBT_CREDIT_RATIO\",\n",
    "#         \"previous_loan_feature_view:AMT_BALANCE\",\n",
    "        \n",
    "#     ],\n",
    "\n",
    "# online_features = store.get_online_features(\n",
    "#     features=features,\n",
    "#     entity_rows=[\n",
    "#         {\"SK_ID_CURR\": 100002},\n",
    "#         {\"SK_ID_CURR\": 100003},\n",
    "#     ]\n",
    "# ).to_dict()"
   ]
  },
  {
   "cell_type": "code",
   "execution_count": 45,
   "metadata": {},
   "outputs": [
    {
     "data": {
      "text/plain": [
       "{'SK_ID_CURR': [100009, 100007],\n",
       " 'OCCUPATION_TYPE': ['Accountants', 'Core staff'],\n",
       " 'AMT_CREDIT': [1560726.0, 513000.0],\n",
       " 'DAYS_EMPLOYED': [-3130, -3038],\n",
       " 'EXT_SOURCE_2': [0.7239998579025269, 0.32273828983306885],\n",
       " 'AMT_GOODS_PRICE': [1395000.0, 513000.0],\n",
       " 'DAYS_BIRTH': [-13778, -19932],\n",
       " 'AMT_ANNUITY': [41301.0, 21865.5],\n",
       " 'DAYS_LAST_PHONE_CHANGE': [-1562.0, -1106.0],\n",
       " 'EXT_SOURCE_3': [0.4920600950717926, None],\n",
       " 'DAYS_REGISTRATION': [-1213.0, -4311.0],\n",
       " 'ORGANIZATION_TYPE': ['Business Entity Type 3', 'Religion'],\n",
       " 'EXT_SOURCE_1': [0.774761438369751, None],\n",
       " 'AMT_INCOME_TOTAL': [171000.0, 121500.0],\n",
       " 'DAYS_ID_PUBLISH': [-619, -3458],\n",
       " 'NAME_INCOME_TYPE': ['Commercial associate', 'Working'],\n",
       " 'NAME_EDUCATION_TYPE': ['Higher education', 'Secondary / secondary special'],\n",
       " 'CODE_GENDER': ['F', 'M'],\n",
       " 'CREDIT_TYPE_Interbank credit': [0.0, 0.0],\n",
       " 'CREDIT_TYPE_Credit card': [2.0, 0.0],\n",
       " 'CREDIT_TYPE_Loan for purchase of shares (margin lending)': [0.0, 0.0],\n",
       " 'CREDIT_TYPE_Real estate loan': [0.0, 0.0],\n",
       " 'CREDIT_TYPE_Mobile operator loan': [0.0, 0.0],\n",
       " 'CREDIT_DAY_OVERDUE_MEAN': [0.0, 0.0],\n",
       " 'CREDIT_TYPE_Another type of loan': [0.0, 0.0],\n",
       " 'CREDIT_TYPE_Microloan': [0.0, 0.0],\n",
       " 'NUM_CREDIT_COUNT': [18, 1],\n",
       " 'CREDIT_TYPE_Loan for business development': [0.0, 0.0],\n",
       " 'CREDIT_TYPE_Car loan': [0.0, 0.0],\n",
       " 'CREDIT_TYPE_Loan for the purchase of equipment': [0.0, 0.0],\n",
       " 'CREDIT_TYPE_Loan for working capital replenishment': [0.0, 0.0],\n",
       " 'CREDIT_TYPE_Cash loan (non-earmarked)': [0.0, 0.0],\n",
       " 'DAYS_CREDIT_BETWEEN_MEAN': [31.294117647058822, None],\n",
       " 'CREDIT_PROLONG_COUNT': [0, 0],\n",
       " 'CREDIT_TYPE_Mortgage': [0.0, 0.0],\n",
       " 'CREDIT_TYPE_Unknown type of loan': [0.0, 0.0],\n",
       " 'DEBT_CREDIT_RATIO': [0.16936917564827944, 0.0],\n",
       " 'CREDIT_STATUS_EMA_AVG': [0.0, 0.0],\n",
       " 'ACTIVE_LOANS_PERCENT': [0.2222222222222222, 0.0],\n",
       " 'CREDIT_TYPE_Consumer credit': [16.0, 1.0]}"
      ]
     },
     "execution_count": 45,
     "metadata": {},
     "output_type": "execute_result"
    }
   ],
   "source": [
    "## use feature service\n",
    "feature_service = store.get_feature_service(\"credit_model_1\")\n",
    "features = store.get_online_features(\n",
    "    features=feature_service, entity_rows=[\n",
    "        {\"SK_ID_CURR\": 100009},\n",
    "        {\"SK_ID_CURR\": 100007},\n",
    "    ]\n",
    ").to_dict()\n",
    "features"
   ]
  },
  {
   "cell_type": "code",
   "execution_count": null,
   "metadata": {},
   "outputs": [],
   "source": []
  },
  {
   "cell_type": "code",
   "execution_count": null,
   "metadata": {},
   "outputs": [],
   "source": []
  }
 ],
 "metadata": {
  "interpreter": {
   "hash": "0c904789ecae9c833cd1169d89db4ff2fa3daa3ae4060005a53c2760fb1e3dee"
  },
  "kernelspec": {
   "display_name": "Python 3.8.11 ('xy38')",
   "language": "python",
   "name": "python3"
  },
  "language_info": {
   "codemirror_mode": {
    "name": "ipython",
    "version": 3
   },
   "file_extension": ".py",
   "mimetype": "text/x-python",
   "name": "python",
   "nbconvert_exporter": "python",
   "pygments_lexer": "ipython3",
   "version": "3.8.11"
  },
  "orig_nbformat": 4
 },
 "nbformat": 4,
 "nbformat_minor": 2
}

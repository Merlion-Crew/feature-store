{
  "cells": [
    {
      "cell_type": "markdown",
      "metadata": {
        "nteract": {
          "transient": {
            "deleting": false
          }
        }
      },
      "source": [
        "# Loading Tables to Snowflake environment\n",
        "This file serves the purpose of loading datatables to snowflake environment in the event of porting over to new account instance.\n",
        "The tables in focus will be from the Home Credit Dataset:\n",
        "- bureau_feature_table\n",
        "- previous_loan_features\n",
        "- static_feature_table\n",
        "\n",
        "Require the following parquet files in the respective locations for the code to work\n",
        "- data/bureau_feature_table.parquet\n",
        "- data/previous_loan_features.parquet\n",
        "- data/static_feature_table.parquet"
      ]
    },
    {
      "cell_type": "code",
      "execution_count": 6,
      "metadata": {
        "gather": {
          "logged": 1649055988236
        },
        "jupyter": {
          "outputs_hidden": false,
          "source_hidden": false
        },
        "nteract": {
          "transient": {
            "deleting": false
          }
        }
      },
      "outputs": [
        {
          "name": "stdout",
          "output_type": "stream",
          "text": [
            "Collecting feast-azure-provider\n",
            "  Downloading feast_azure_provider-0.3.0-py3-none-any.whl (14 kB)\n",
            "Requirement already satisfied: dill==0.3.4 in /anaconda/envs/azureml_py38/lib/python3.8/site-packages (from feast-azure-provider) (0.3.4)\n",
            "Requirement already satisfied: SQLAlchemy>=1.4.19 in /anaconda/envs/azureml_py38/lib/python3.8/site-packages (from feast-azure-provider) (1.4.32)\n",
            "Collecting feast[redis]==0.18.1\n",
            "  Downloading feast-0.18.1-py3-none-any.whl (275 kB)\n",
            "\u001b[K     |████████████████████████████████| 275 kB 35.0 MB/s eta 0:00:01\n",
            "\u001b[?25hRequirement already satisfied: azure-storage-blob>=0.37.0 in /anaconda/envs/azureml_py38/lib/python3.8/site-packages (from feast-azure-provider) (12.9.0)\n",
            "Requirement already satisfied: azure-identity>=1.6.1 in /anaconda/envs/azureml_py38/lib/python3.8/site-packages (from feast-azure-provider) (1.7.0)\n",
            "Requirement already satisfied: pyodbc>=4.0.30 in /anaconda/envs/azureml_py38/lib/python3.8/site-packages (from feast-azure-provider) (4.0.32)\n",
            "Requirement already satisfied: greenlet!=0.4.17; python_version >= \"3\" and (platform_machine == \"aarch64\" or (platform_machine == \"ppc64le\" or (platform_machine == \"x86_64\" or (platform_machine == \"amd64\" or (platform_machine == \"AMD64\" or (platform_machine == \"win32\" or platform_machine == \"WIN32\")))))) in /anaconda/envs/azureml_py38/lib/python3.8/site-packages (from SQLAlchemy>=1.4.19->feast-azure-provider) (1.1.2)\n",
            "Collecting grpcio-reflection>=1.34.0\n",
            "  Downloading grpcio_reflection-1.45.0-py3-none-any.whl (14 kB)\n",
            "Collecting pandavro==1.5.*\n",
            "  Downloading pandavro-1.5.2.tar.gz (3.8 kB)\n",
            "Collecting fastavro>=1.1.0\n",
            "  Downloading fastavro-1.4.10-cp38-cp38-manylinux_2_17_x86_64.manylinux2014_x86_64.whl (2.6 MB)\n",
            "\u001b[K     |████████████████████████████████| 2.6 MB 49.3 MB/s eta 0:00:01\n",
            "\u001b[?25hRequirement already satisfied: PyYAML>=5.4.* in /anaconda/envs/azureml_py38/lib/python3.8/site-packages (from feast[redis]==0.18.1->feast-azure-provider) (6.0)\n",
            "Requirement already satisfied: google-api-core>=1.23.0 in /anaconda/envs/azureml_py38/lib/python3.8/site-packages (from feast[redis]==0.18.1->feast-azure-provider) (2.7.1)\n",
            "Requirement already satisfied: tqdm==4.* in /anaconda/envs/azureml_py38/lib/python3.8/site-packages (from feast[redis]==0.18.1->feast-azure-provider) (4.62.3)\n",
            "Requirement already satisfied: Click==8.* in /anaconda/envs/azureml_py38/lib/python3.8/site-packages (from feast[redis]==0.18.1->feast-azure-provider) (8.0.4)\n",
            "Collecting googleapis-common-protos==1.52.*\n",
            "  Downloading googleapis_common_protos-1.52.0-py2.py3-none-any.whl (100 kB)\n",
            "\u001b[K     |████████████████████████████████| 100 kB 11.2 MB/s ta 0:00:01\n",
            "\u001b[?25hRequirement already satisfied: tenacity>=7.* in /anaconda/envs/azureml_py38/lib/python3.8/site-packages (from feast[redis]==0.18.1->feast-azure-provider) (8.0.1)\n",
            "Requirement already satisfied: pydantic>=1.0.0 in /anaconda/envs/azureml_py38/lib/python3.8/site-packages (from feast[redis]==0.18.1->feast-azure-provider) (1.9.0)\n",
            "Requirement already satisfied: uvicorn[standard]>=0.14.0 in /anaconda/envs/azureml_py38/lib/python3.8/site-packages (from feast[redis]==0.18.1->feast-azure-provider) (0.17.6)\n",
            "Requirement already satisfied: colorama>=0.3.9 in /anaconda/envs/azureml_py38/lib/python3.8/site-packages (from feast[redis]==0.18.1->feast-azure-provider) (0.4.4)\n",
            "Requirement already satisfied: toml==0.10.* in /anaconda/envs/azureml_py38/lib/python3.8/site-packages (from feast[redis]==0.18.1->feast-azure-provider) (0.10.2)\n",
            "Requirement already satisfied: tabulate==0.8.* in /anaconda/envs/azureml_py38/lib/python3.8/site-packages (from feast[redis]==0.18.1->feast-azure-provider) (0.8.9)\n",
            "Collecting proto-plus<1.19.7\n",
            "  Downloading proto_plus-1.19.6-py3-none-any.whl (45 kB)\n",
            "\u001b[K     |████████████████████████████████| 45 kB 4.1 MB/s  eta 0:00:01\n",
            "\u001b[?25hCollecting pyarrow>=4.0.0\n",
            "  Downloading pyarrow-7.0.0-cp38-cp38-manylinux_2_17_x86_64.manylinux2014_x86_64.whl (26.7 MB)\n",
            "\u001b[K     |████████████████████████████████| 26.7 MB 47.8 MB/s eta 0:00:01\n",
            "\u001b[?25hRequirement already satisfied: fastapi>=0.68.0 in /anaconda/envs/azureml_py38/lib/python3.8/site-packages (from feast[redis]==0.18.1->feast-azure-provider) (0.75.0)\n",
            "Collecting mmh3\n",
            "  Downloading mmh3-3.0.0-cp38-cp38-manylinux2010_x86_64.whl (50 kB)\n",
            "\u001b[K     |████████████████████████████████| 50 kB 8.4 MB/s  eta 0:00:01\n",
            "\u001b[?25hRequirement already satisfied: jsonschema in /anaconda/envs/azureml_py38/lib/python3.8/site-packages (from feast[redis]==0.18.1->feast-azure-provider) (4.4.0)\n",
            "Collecting tensorflow-metadata<2.0.0,>=1.0.0\n",
            "  Downloading tensorflow_metadata-1.7.0-py3-none-any.whl (48 kB)\n",
            "\u001b[K     |████████████████████████████████| 48 kB 7.4 MB/s  eta 0:00:01\n",
            "\u001b[?25hRequirement already satisfied: pandas>=1.0.0 in /anaconda/envs/azureml_py38/lib/python3.8/site-packages (from feast[redis]==0.18.1->feast-azure-provider) (1.1.5)\n",
            "Requirement already satisfied: protobuf>=3.10 in /anaconda/envs/azureml_py38/lib/python3.8/site-packages (from feast[redis]==0.18.1->feast-azure-provider) (3.19.4)\n",
            "Requirement already satisfied: grpcio>=1.34.0 in /anaconda/envs/azureml_py38/lib/python3.8/site-packages (from feast[redis]==0.18.1->feast-azure-provider) (1.44.0)\n",
            "Requirement already satisfied: Jinja2>=2.0.0 in /anaconda/envs/azureml_py38/lib/python3.8/site-packages (from feast[redis]==0.18.1->feast-azure-provider) (2.11.2)\n",
            "Requirement already satisfied: redis>=4.1.0; extra == \"redis\" in /anaconda/envs/azureml_py38/lib/python3.8/site-packages (from feast[redis]==0.18.1->feast-azure-provider) (4.2.0)\n",
            "Requirement already satisfied: hiredis>=2.0.0; extra == \"redis\" in /anaconda/envs/azureml_py38/lib/python3.8/site-packages (from feast[redis]==0.18.1->feast-azure-provider) (2.0.0)\n",
            "Requirement already satisfied: msrest>=0.6.21 in /anaconda/envs/azureml_py38/lib/python3.8/site-packages (from azure-storage-blob>=0.37.0->feast-azure-provider) (0.6.21)\n",
            "Requirement already satisfied: azure-core<2.0.0,>=1.10.0 in /anaconda/envs/azureml_py38/lib/python3.8/site-packages (from azure-storage-blob>=0.37.0->feast-azure-provider) (1.21.1)\n",
            "Requirement already satisfied: cryptography>=2.1.4 in /anaconda/envs/azureml_py38/lib/python3.8/site-packages (from azure-storage-blob>=0.37.0->feast-azure-provider) (36.0.1)\n",
            "Requirement already satisfied: msal-extensions~=0.3.0 in /anaconda/envs/azureml_py38/lib/python3.8/site-packages (from azure-identity>=1.6.1->feast-azure-provider) (0.3.1)\n",
            "Requirement already satisfied: six>=1.12.0 in /anaconda/envs/azureml_py38/lib/python3.8/site-packages (from azure-identity>=1.6.1->feast-azure-provider) (1.16.0)\n",
            "Requirement already satisfied: msal<2.0.0,>=1.12.0 in /anaconda/envs/azureml_py38/lib/python3.8/site-packages (from azure-identity>=1.6.1->feast-azure-provider) (1.17.0)\n",
            "Requirement already satisfied: numpy>=1.7.0 in /anaconda/envs/azureml_py38/lib/python3.8/site-packages (from pandavro==1.5.*->feast[redis]==0.18.1->feast-azure-provider) (1.19.0)\n",
            "Requirement already satisfied: google-auth<3.0dev,>=1.25.0 in /anaconda/envs/azureml_py38/lib/python3.8/site-packages (from google-api-core>=1.23.0->feast[redis]==0.18.1->feast-azure-provider) (1.35.0)\n",
            "Requirement already satisfied: requests<3.0.0dev,>=2.18.0 in /anaconda/envs/azureml_py38/lib/python3.8/site-packages (from google-api-core>=1.23.0->feast[redis]==0.18.1->feast-azure-provider) (2.27.1)\n",
            "Requirement already satisfied: typing-extensions>=3.7.4.3 in /anaconda/envs/azureml_py38/lib/python3.8/site-packages (from pydantic>=1.0.0->feast[redis]==0.18.1->feast-azure-provider) (4.1.1)\n",
            "Requirement already satisfied: asgiref>=3.4.0 in /anaconda/envs/azureml_py38/lib/python3.8/site-packages (from uvicorn[standard]>=0.14.0->feast[redis]==0.18.1->feast-azure-provider) (3.5.0)\n",
            "Requirement already satisfied: h11>=0.8 in /anaconda/envs/azureml_py38/lib/python3.8/site-packages (from uvicorn[standard]>=0.14.0->feast[redis]==0.18.1->feast-azure-provider) (0.13.0)\n",
            "Collecting httptools>=0.4.0; extra == \"standard\"\n",
            "  Downloading httptools-0.4.0-cp38-cp38-manylinux_2_5_x86_64.manylinux1_x86_64.manylinux_2_12_x86_64.manylinux2010_x86_64.whl (445 kB)\n",
            "\u001b[K     |████████████████████████████████| 445 kB 50.5 MB/s eta 0:00:01\n",
            "\u001b[?25hCollecting uvloop!=0.15.0,!=0.15.1,>=0.14.0; (sys_platform != \"win32\" and (sys_platform != \"cygwin\" and platform_python_implementation != \"PyPy\")) and extra == \"standard\"\n",
            "  Downloading uvloop-0.16.0-cp38-cp38-manylinux_2_12_x86_64.manylinux2010_x86_64.whl (4.7 MB)\n",
            "\u001b[K     |████████████████████████████████| 4.7 MB 58.7 MB/s eta 0:00:01\n",
            "\u001b[?25hCollecting watchgod>=0.6; extra == \"standard\"\n",
            "  Downloading watchgod-0.8.2-py3-none-any.whl (12 kB)\n",
            "Requirement already satisfied: websockets>=10.0; extra == \"standard\" in /anaconda/envs/azureml_py38/lib/python3.8/site-packages (from uvicorn[standard]>=0.14.0->feast[redis]==0.18.1->feast-azure-provider) (10.2)\n",
            "Collecting python-dotenv>=0.13; extra == \"standard\"\n",
            "  Downloading python_dotenv-0.20.0-py3-none-any.whl (17 kB)\n",
            "Requirement already satisfied: starlette==0.17.1 in /anaconda/envs/azureml_py38/lib/python3.8/site-packages (from fastapi>=0.68.0->feast[redis]==0.18.1->feast-azure-provider) (0.17.1)\n",
            "Requirement already satisfied: attrs>=17.4.0 in /anaconda/envs/azureml_py38/lib/python3.8/site-packages (from jsonschema->feast[redis]==0.18.1->feast-azure-provider) (21.4.0)\n",
            "Requirement already satisfied: importlib-resources>=1.4.0; python_version < \"3.9\" in /anaconda/envs/azureml_py38/lib/python3.8/site-packages (from jsonschema->feast[redis]==0.18.1->feast-azure-provider) (5.4.0)\n",
            "Requirement already satisfied: pyrsistent!=0.17.0,!=0.17.1,!=0.17.2,>=0.14.0 in /anaconda/envs/azureml_py38/lib/python3.8/site-packages (from jsonschema->feast[redis]==0.18.1->feast-azure-provider) (0.18.1)\n",
            "Requirement already satisfied: absl-py<2.0.0,>=0.9 in /anaconda/envs/azureml_py38/lib/python3.8/site-packages (from tensorflow-metadata<2.0.0,>=1.0.0->feast[redis]==0.18.1->feast-azure-provider) (0.15.0)\n",
            "Requirement already satisfied: python-dateutil>=2.7.3 in /anaconda/envs/azureml_py38/lib/python3.8/site-packages (from pandas>=1.0.0->feast[redis]==0.18.1->feast-azure-provider) (2.8.2)\n",
            "Requirement already satisfied: pytz>=2017.2 in /anaconda/envs/azureml_py38/lib/python3.8/site-packages (from pandas>=1.0.0->feast[redis]==0.18.1->feast-azure-provider) (2019.3)\n",
            "Requirement already satisfied: MarkupSafe>=0.23 in /anaconda/envs/azureml_py38/lib/python3.8/site-packages (from Jinja2>=2.0.0->feast[redis]==0.18.1->feast-azure-provider) (2.0.1)\n",
            "Requirement already satisfied: packaging>=20.4 in /anaconda/envs/azureml_py38/lib/python3.8/site-packages (from redis>=4.1.0; extra == \"redis\"->feast[redis]==0.18.1->feast-azure-provider) (21.3)\n",
            "Requirement already satisfied: deprecated>=1.2.3 in /anaconda/envs/azureml_py38/lib/python3.8/site-packages (from redis>=4.1.0; extra == \"redis\"->feast[redis]==0.18.1->feast-azure-provider) (1.2.13)\n",
            "Requirement already satisfied: async-timeout>=4.0.2 in /anaconda/envs/azureml_py38/lib/python3.8/site-packages (from redis>=4.1.0; extra == \"redis\"->feast[redis]==0.18.1->feast-azure-provider) (4.0.2)\n",
            "Requirement already satisfied: certifi>=2017.4.17 in /anaconda/envs/azureml_py38/lib/python3.8/site-packages (from msrest>=0.6.21->azure-storage-blob>=0.37.0->feast-azure-provider) (2021.10.8)\n",
            "Requirement already satisfied: isodate>=0.6.0 in /anaconda/envs/azureml_py38/lib/python3.8/site-packages (from msrest>=0.6.21->azure-storage-blob>=0.37.0->feast-azure-provider) (0.6.1)\n",
            "Requirement already satisfied: requests-oauthlib>=0.5.0 in /anaconda/envs/azureml_py38/lib/python3.8/site-packages (from msrest>=0.6.21->azure-storage-blob>=0.37.0->feast-azure-provider) (1.3.1)\n",
            "Requirement already satisfied: cffi>=1.12 in /anaconda/envs/azureml_py38/lib/python3.8/site-packages (from cryptography>=2.1.4->azure-storage-blob>=0.37.0->feast-azure-provider) (1.15.0)\n",
            "Requirement already satisfied: portalocker<3,>=1.0; python_version >= \"3.5\" and platform_system != \"Windows\" in /anaconda/envs/azureml_py38/lib/python3.8/site-packages (from msal-extensions~=0.3.0->azure-identity>=1.6.1->feast-azure-provider) (2.4.0)\n",
            "Requirement already satisfied: PyJWT[crypto]<3,>=1.0.0 in /anaconda/envs/azureml_py38/lib/python3.8/site-packages (from msal<2.0.0,>=1.12.0->azure-identity>=1.6.1->feast-azure-provider) (2.3.0)\n",
            "Requirement already satisfied: rsa<5,>=3.1.4; python_version >= \"3.6\" in /anaconda/envs/azureml_py38/lib/python3.8/site-packages (from google-auth<3.0dev,>=1.25.0->google-api-core>=1.23.0->feast[redis]==0.18.1->feast-azure-provider) (4.8)\n",
            "Requirement already satisfied: setuptools>=40.3.0 in /anaconda/envs/azureml_py38/lib/python3.8/site-packages (from google-auth<3.0dev,>=1.25.0->google-api-core>=1.23.0->feast[redis]==0.18.1->feast-azure-provider) (49.6.0)\n",
            "Requirement already satisfied: pyasn1-modules>=0.2.1 in /anaconda/envs/azureml_py38/lib/python3.8/site-packages (from google-auth<3.0dev,>=1.25.0->google-api-core>=1.23.0->feast[redis]==0.18.1->feast-azure-provider) (0.2.8)\n",
            "Requirement already satisfied: cachetools<5.0,>=2.0.0 in /anaconda/envs/azureml_py38/lib/python3.8/site-packages (from google-auth<3.0dev,>=1.25.0->google-api-core>=1.23.0->feast[redis]==0.18.1->feast-azure-provider) (4.2.4)\n",
            "Requirement already satisfied: idna<4,>=2.5; python_version >= \"3\" in /anaconda/envs/azureml_py38/lib/python3.8/site-packages (from requests<3.0.0dev,>=2.18.0->google-api-core>=1.23.0->feast[redis]==0.18.1->feast-azure-provider) (3.3)\n",
            "Requirement already satisfied: urllib3<1.27,>=1.21.1 in /anaconda/envs/azureml_py38/lib/python3.8/site-packages (from requests<3.0.0dev,>=2.18.0->google-api-core>=1.23.0->feast[redis]==0.18.1->feast-azure-provider) (1.26.7)\n",
            "Requirement already satisfied: charset-normalizer~=2.0.0; python_version >= \"3\" in /anaconda/envs/azureml_py38/lib/python3.8/site-packages (from requests<3.0.0dev,>=2.18.0->google-api-core>=1.23.0->feast[redis]==0.18.1->feast-azure-provider) (2.0.12)\n",
            "Requirement already satisfied: anyio<4,>=3.0.0 in /anaconda/envs/azureml_py38/lib/python3.8/site-packages (from watchgod>=0.6; extra == \"standard\"->uvicorn[standard]>=0.14.0->feast[redis]==0.18.1->feast-azure-provider) (3.5.0)\n",
            "Requirement already satisfied: zipp>=3.1.0; python_version < \"3.10\" in /anaconda/envs/azureml_py38/lib/python3.8/site-packages (from importlib-resources>=1.4.0; python_version < \"3.9\"->jsonschema->feast[redis]==0.18.1->feast-azure-provider) (3.7.0)\n",
            "Requirement already satisfied: pyparsing!=3.0.5,>=2.0.2 in /anaconda/envs/azureml_py38/lib/python3.8/site-packages (from packaging>=20.4->redis>=4.1.0; extra == \"redis\"->feast[redis]==0.18.1->feast-azure-provider) (3.0.7)\n",
            "Requirement already satisfied: wrapt<2,>=1.10 in /anaconda/envs/azureml_py38/lib/python3.8/site-packages (from deprecated>=1.2.3->redis>=4.1.0; extra == \"redis\"->feast[redis]==0.18.1->feast-azure-provider) (1.12.1)\n",
            "Requirement already satisfied: oauthlib>=3.0.0 in /anaconda/envs/azureml_py38/lib/python3.8/site-packages (from requests-oauthlib>=0.5.0->msrest>=0.6.21->azure-storage-blob>=0.37.0->feast-azure-provider) (3.2.0)\n",
            "Requirement already satisfied: pycparser in /anaconda/envs/azureml_py38/lib/python3.8/site-packages (from cffi>=1.12->cryptography>=2.1.4->azure-storage-blob>=0.37.0->feast-azure-provider) (2.21)\n",
            "Requirement already satisfied: pyasn1>=0.1.3 in /anaconda/envs/azureml_py38/lib/python3.8/site-packages (from rsa<5,>=3.1.4; python_version >= \"3.6\"->google-auth<3.0dev,>=1.25.0->google-api-core>=1.23.0->feast[redis]==0.18.1->feast-azure-provider) (0.4.8)\n",
            "Requirement already satisfied: sniffio>=1.1 in /anaconda/envs/azureml_py38/lib/python3.8/site-packages (from anyio<4,>=3.0.0->watchgod>=0.6; extra == \"standard\"->uvicorn[standard]>=0.14.0->feast[redis]==0.18.1->feast-azure-provider) (1.2.0)\n",
            "Building wheels for collected packages: pandavro\n",
            "  Building wheel for pandavro (setup.py) ... \u001b[?25l-\b \b\\\b \bdone\n",
            "\u001b[?25h  Created wheel for pandavro: filename=pandavro-1.5.2-py3-none-any.whl size=2954 sha256=12df6306070879b4a288603c46eab326723944382c113990948a5c092f7b49f0\n",
            "  Stored in directory: /home/azureuser/.cache/pip/wheels/21/03/ef/f7f69842521378eb3fd932bd3e13341e0b2c1617c56abc4da5\n",
            "Successfully built pandavro\n",
            "\u001b[31mERROR: datasets 1.8.0 has requirement pyarrow<4.0.0,>=1.0.0, but you'll have pyarrow 7.0.0 which is incompatible.\u001b[0m\n",
            "\u001b[31mERROR: datasets 1.8.0 has requirement tqdm<4.50.0,>=4.27, but you'll have tqdm 4.62.3 which is incompatible.\u001b[0m\n",
            "\u001b[31mERROR: azureml-dataset-runtime 1.39.0 has requirement pyarrow<4.0.0,>=0.17.0, but you'll have pyarrow 7.0.0 which is incompatible.\u001b[0m\n",
            "\u001b[31mERROR: grpcio-reflection 1.45.0 has requirement grpcio>=1.45.0, but you'll have grpcio 1.44.0 which is incompatible.\u001b[0m\n",
            "Installing collected packages: grpcio-reflection, fastavro, pandavro, googleapis-common-protos, proto-plus, pyarrow, mmh3, tensorflow-metadata, feast, feast-azure-provider, httptools, uvloop, watchgod, python-dotenv\n",
            "  Attempting uninstall: googleapis-common-protos\n",
            "    Found existing installation: googleapis-common-protos 1.56.0\n",
            "    Uninstalling googleapis-common-protos-1.56.0:\n",
            "      Successfully uninstalled googleapis-common-protos-1.56.0\n",
            "  Attempting uninstall: pyarrow\n",
            "    Found existing installation: pyarrow 3.0.0\n",
            "    Uninstalling pyarrow-3.0.0:\n",
            "      Successfully uninstalled pyarrow-3.0.0\n",
            "Successfully installed fastavro-1.4.10 feast-0.18.1 feast-azure-provider-0.3.0 googleapis-common-protos-1.52.0 grpcio-reflection-1.45.0 httptools-0.4.0 mmh3-3.0.0 pandavro-1.5.2 proto-plus-1.19.6 pyarrow-7.0.0 python-dotenv-0.20.0 tensorflow-metadata-1.7.0 uvloop-0.16.0 watchgod-0.8.2\n",
            "Note: you may need to restart the kernel to use updated packages.\n",
            "Requirement already satisfied: azure-cli in /anaconda/envs/azureml_py38/lib/python3.8/site-packages (2.34.1)\n",
            "Requirement already satisfied: azure-mgmt-advisor==9.0.0 in /anaconda/envs/azureml_py38/lib/python3.8/site-packages (from azure-cli) (9.0.0)\n",
            "Requirement already satisfied: azure-mgmt-monitor~=3.0.0 in /anaconda/envs/azureml_py38/lib/python3.8/site-packages (from azure-cli) (3.0.0)\n",
            "Requirement already satisfied: azure-mgmt-eventgrid==9.0.0 in /anaconda/envs/azureml_py38/lib/python3.8/site-packages (from azure-cli) (9.0.0)\n",
            "Requirement already satisfied: azure-datalake-store~=0.0.49 in /anaconda/envs/azureml_py38/lib/python3.8/site-packages (from azure-cli) (0.0.52)\n",
            "Requirement already satisfied: azure-mgmt-containerservice~=17.0.0 in /anaconda/envs/azureml_py38/lib/python3.8/site-packages (from azure-cli) (17.0.0)\n",
            "Requirement already satisfied: azure-storage-common~=1.4 in /anaconda/envs/azureml_py38/lib/python3.8/site-packages (from azure-cli) (1.4.2)\n",
            "Requirement already satisfied: azure-mgmt-iothub==2.2.0 in /anaconda/envs/azureml_py38/lib/python3.8/site-packages (from azure-cli) (2.2.0)\n",
            "Requirement already satisfied: azure-mgmt-apimanagement~=3.0.0 in /anaconda/envs/azureml_py38/lib/python3.8/site-packages (from azure-cli) (3.0.0)\n",
            "Requirement already satisfied: azure-synapse-artifacts~=0.10.0 in /anaconda/envs/azureml_py38/lib/python3.8/site-packages (from azure-cli) (0.10.0)\n",
            "Requirement already satisfied: azure-cosmos>=3.0.2,~=3.0 in /anaconda/envs/azureml_py38/lib/python3.8/site-packages (from azure-cli) (3.2.0)\n",
            "Requirement already satisfied: azure-mgmt-applicationinsights~=1.0.0 in /anaconda/envs/azureml_py38/lib/python3.8/site-packages (from azure-cli) (1.0.0)\n",
            "Requirement already satisfied: azure-mgmt-eventhub~=9.1.0 in /anaconda/envs/azureml_py38/lib/python3.8/site-packages (from azure-cli) (9.1.0)\n",
            "Requirement already satisfied: azure-mgmt-security~=2.0.0b1 in /anaconda/envs/azureml_py38/lib/python3.8/site-packages (from azure-cli) (2.0.0b1)\n",
            "Requirement already satisfied: azure-mgmt-policyinsights~=1.0.0 in /anaconda/envs/azureml_py38/lib/python3.8/site-packages (from azure-cli) (1.0.0)\n",
            "Requirement already satisfied: jsondiff~=1.3.0 in /anaconda/envs/azureml_py38/lib/python3.8/site-packages (from azure-cli) (1.3.1)\n",
            "Requirement already satisfied: azure-mgmt-compute~=25.0.0 in /anaconda/envs/azureml_py38/lib/python3.8/site-packages (from azure-cli) (25.0.0)\n",
            "Requirement already satisfied: azure-mgmt-netapp~=6.0.1 in /anaconda/envs/azureml_py38/lib/python3.8/site-packages (from azure-cli) (6.0.1)\n",
            "Requirement already satisfied: azure-mgmt-cognitiveservices~=13.0.0 in /anaconda/envs/azureml_py38/lib/python3.8/site-packages (from azure-cli) (13.0.0)\n",
            "Requirement already satisfied: azure-mgmt-billing==6.0.0 in /anaconda/envs/azureml_py38/lib/python3.8/site-packages (from azure-cli) (6.0.0)\n",
            "Requirement already satisfied: azure-mgmt-batch~=16.0.0 in /anaconda/envs/azureml_py38/lib/python3.8/site-packages (from azure-cli) (16.0.0)\n",
            "Requirement already satisfied: javaproperties~=0.5.1 in /anaconda/envs/azureml_py38/lib/python3.8/site-packages (from azure-cli) (0.5.2)\n",
            "Requirement already satisfied: azure-mgmt-datamigration~=10.0.0 in /anaconda/envs/azureml_py38/lib/python3.8/site-packages (from azure-cli) (10.0.0)\n",
            "Requirement already satisfied: xmltodict~=0.12 in /anaconda/envs/azureml_py38/lib/python3.8/site-packages (from azure-cli) (0.12.0)\n",
            "Requirement already satisfied: azure-mgmt-imagebuilder~=1.0.0 in /anaconda/envs/azureml_py38/lib/python3.8/site-packages (from azure-cli) (1.0.0)\n",
            "Requirement already satisfied: azure-mgmt-rdbms~=10.0.0 in /anaconda/envs/azureml_py38/lib/python3.8/site-packages (from azure-cli) (10.0.0)\n",
            "Requirement already satisfied: azure-mgmt-deploymentmanager~=0.2.0 in /anaconda/envs/azureml_py38/lib/python3.8/site-packages (from azure-cli) (0.2.0)\n",
            "Requirement already satisfied: azure-keyvault-keys==4.5.0b6 in /anaconda/envs/azureml_py38/lib/python3.8/site-packages (from azure-cli) (4.5.0b6)\n",
            "Requirement already satisfied: azure-mgmt-maps~=2.0.0 in /anaconda/envs/azureml_py38/lib/python3.8/site-packages (from azure-cli) (2.0.0)\n",
            "Requirement already satisfied: azure-mgmt-managedservices~=1.0 in /anaconda/envs/azureml_py38/lib/python3.8/site-packages (from azure-cli) (1.0.0)\n",
            "Requirement already satisfied: azure-keyvault-administration==4.0.0b3 in /anaconda/envs/azureml_py38/lib/python3.8/site-packages (from azure-cli) (4.0.0b3)\n",
            "Requirement already satisfied: azure-mgmt-redhatopenshift==1.0.0 in /anaconda/envs/azureml_py38/lib/python3.8/site-packages (from azure-cli) (1.0.0)\n",
            "Requirement already satisfied: azure-mgmt-authorization~=0.61.0 in /anaconda/envs/azureml_py38/lib/python3.8/site-packages (from azure-cli) (0.61.0)\n",
            "Requirement already satisfied: azure-mgmt-loganalytics~=13.0.0b2 in /anaconda/envs/azureml_py38/lib/python3.8/site-packages (from azure-cli) (13.0.0b2)\n",
            "Requirement already satisfied: azure-mgmt-batchai~=7.0.0b1 in /anaconda/envs/azureml_py38/lib/python3.8/site-packages (from azure-cli) (7.0.0b1)\n",
            "Requirement already satisfied: azure-mgmt-servicelinker==1.0.0b1 in /anaconda/envs/azureml_py38/lib/python3.8/site-packages (from azure-cli) (1.0.0b1)\n",
            "Requirement already satisfied: azure-mgmt-relay~=0.1.0 in /anaconda/envs/azureml_py38/lib/python3.8/site-packages (from azure-cli) (0.1.0)\n",
            "Requirement already satisfied: azure-mgmt-hdinsight~=9.0.0 in /anaconda/envs/azureml_py38/lib/python3.8/site-packages (from azure-cli) (9.0.0)\n",
            "Requirement already satisfied: azure-mgmt-synapse~=2.1.0b2 in /anaconda/envs/azureml_py38/lib/python3.8/site-packages (from azure-cli) (2.1.0b4)\n",
            "Requirement already satisfied: azure-mgmt-datalake-analytics~=0.2.1 in /anaconda/envs/azureml_py38/lib/python3.8/site-packages (from azure-cli) (0.2.1)\n",
            "Requirement already satisfied: semver==2.13.0 in /anaconda/envs/azureml_py38/lib/python3.8/site-packages (from azure-cli) (2.13.0)\n",
            "Requirement already satisfied: distro in /anaconda/envs/azureml_py38/lib/python3.8/site-packages (from azure-cli) (1.7.0)\n",
            "Requirement already satisfied: azure-mgmt-servicefabricmanagedclusters~=1.0.0 in /anaconda/envs/azureml_py38/lib/python3.8/site-packages (from azure-cli) (1.0.0)\n",
            "Requirement already satisfied: scp~=0.13.2 in /anaconda/envs/azureml_py38/lib/python3.8/site-packages (from azure-cli) (0.13.6)\n",
            "Requirement already satisfied: azure-mgmt-managementgroups~=1.0.0 in /anaconda/envs/azureml_py38/lib/python3.8/site-packages (from azure-cli) (1.0.0)\n",
            "Requirement already satisfied: azure-mgmt-databoxedge~=1.0.0 in /anaconda/envs/azureml_py38/lib/python3.8/site-packages (from azure-cli) (1.0.0)\n",
            "Requirement already satisfied: azure-mgmt-devtestlabs~=4.0 in /anaconda/envs/azureml_py38/lib/python3.8/site-packages (from azure-cli) (4.0.0)\n",
            "Collecting azure-mgmt-resource==20.0.0\n",
            "  Downloading azure_mgmt_resource-20.0.0-py2.py3-none-any.whl (2.3 MB)\n",
            "\u001b[K     |████████████████████████████████| 2.3 MB 23.3 MB/s eta 0:00:01\n",
            "\u001b[?25hRequirement already satisfied: azure-mgmt-sql~=3.0.1 in /anaconda/envs/azureml_py38/lib/python3.8/site-packages (from azure-cli) (3.0.1)\n",
            "Requirement already satisfied: azure-mgmt-servicefabric~=1.0.0 in /anaconda/envs/azureml_py38/lib/python3.8/site-packages (from azure-cli) (1.0.0)\n",
            "Requirement already satisfied: azure-mgmt-botservice~=0.3.0 in /anaconda/envs/azureml_py38/lib/python3.8/site-packages (from azure-cli) (0.3.0)\n",
            "Requirement already satisfied: azure-mgmt-reservations==0.6.0 in /anaconda/envs/azureml_py38/lib/python3.8/site-packages (from azure-cli) (0.6.0)\n",
            "Requirement already satisfied: azure-mgmt-privatedns~=1.0.0 in /anaconda/envs/azureml_py38/lib/python3.8/site-packages (from azure-cli) (1.0.0)\n",
            "Requirement already satisfied: azure-mgmt-trafficmanager~=1.0.0 in /anaconda/envs/azureml_py38/lib/python3.8/site-packages (from azure-cli) (1.0.0)\n",
            "Requirement already satisfied: sshtunnel~=0.1.4 in /anaconda/envs/azureml_py38/lib/python3.8/site-packages (from azure-cli) (0.1.5)\n",
            "Requirement already satisfied: azure-mgmt-servicebus~=7.1.0 in /anaconda/envs/azureml_py38/lib/python3.8/site-packages (from azure-cli) (7.1.0)\n",
            "Requirement already satisfied: azure-mgmt-appconfiguration~=2.0.0 in /anaconda/envs/azureml_py38/lib/python3.8/site-packages (from azure-cli) (2.0.0)\n",
            "Requirement already satisfied: azure-mgmt-marketplaceordering==1.1.0 in /anaconda/envs/azureml_py38/lib/python3.8/site-packages (from azure-cli) (1.1.0)\n",
            "Requirement already satisfied: azure-appconfiguration~=1.1.1 in /anaconda/envs/azureml_py38/lib/python3.8/site-packages (from azure-cli) (1.1.1)\n",
            "Requirement already satisfied: azure-mgmt-containerinstance~=9.1.0 in /anaconda/envs/azureml_py38/lib/python3.8/site-packages (from azure-cli) (9.1.0)\n",
            "Collecting websocket-client~=0.56.0\n",
            "  Downloading websocket_client-0.56.0-py2.py3-none-any.whl (200 kB)\n",
            "\u001b[K     |████████████████████████████████| 200 kB 58.0 MB/s eta 0:00:01\n",
            "\u001b[?25hRequirement already satisfied: azure-mgmt-containerregistry==8.2.0 in /anaconda/envs/azureml_py38/lib/python3.8/site-packages (from azure-cli) (8.2.0)\n",
            "Requirement already satisfied: azure-mgmt-redis~=13.1.0 in /anaconda/envs/azureml_py38/lib/python3.8/site-packages (from azure-cli) (13.1.0)\n",
            "Requirement already satisfied: azure-mgmt-datalake-store~=0.5.0 in /anaconda/envs/azureml_py38/lib/python3.8/site-packages (from azure-cli) (0.5.0)\n",
            "Requirement already satisfied: azure-mgmt-recoveryservicesbackup~=4.0.0 in /anaconda/envs/azureml_py38/lib/python3.8/site-packages (from azure-cli) (4.0.0)\n",
            "Requirement already satisfied: azure-mgmt-cosmosdb~=7.0.0b2 in /anaconda/envs/azureml_py38/lib/python3.8/site-packages (from azure-cli) (7.0.0b3)\n",
            "Requirement already satisfied: fabric~=2.4 in /anaconda/envs/azureml_py38/lib/python3.8/site-packages (from azure-cli) (2.6.0)\n",
            "Requirement already satisfied: azure-mgmt-kusto~=0.3.0 in /anaconda/envs/azureml_py38/lib/python3.8/site-packages (from azure-cli) (0.3.0)\n",
            "Requirement already satisfied: azure-batch~=12.0.0 in /anaconda/envs/azureml_py38/lib/python3.8/site-packages (from azure-cli) (12.0.0)\n",
            "Requirement already satisfied: azure-loganalytics~=0.1.0 in /anaconda/envs/azureml_py38/lib/python3.8/site-packages (from azure-cli) (0.1.1)\n",
            "Requirement already satisfied: azure-mgmt-media~=7.0 in /anaconda/envs/azureml_py38/lib/python3.8/site-packages (from azure-cli) (7.0.0)\n",
            "Requirement already satisfied: urllib3[secure] in /anaconda/envs/azureml_py38/lib/python3.8/site-packages (from azure-cli) (1.26.7)\n",
            "Requirement already satisfied: azure-mgmt-msi~=0.2 in /anaconda/envs/azureml_py38/lib/python3.8/site-packages (from azure-cli) (0.2.0)\n",
            "Collecting PyNaCl~=1.4.0\n",
            "  Downloading PyNaCl-1.4.0-cp35-abi3-manylinux1_x86_64.whl (961 kB)\n",
            "\u001b[K     |████████████████████████████████| 961 kB 53.3 MB/s eta 0:00:01\n",
            "\u001b[?25hRequirement already satisfied: azure-mgmt-iothubprovisioningservices==1.1.0 in /anaconda/envs/azureml_py38/lib/python3.8/site-packages (from azure-cli) (1.1.0)\n",
            "Requirement already satisfied: six>=1.10.0 in /anaconda/envs/azureml_py38/lib/python3.8/site-packages (from azure-cli) (1.16.0)\n",
            "Requirement already satisfied: azure-multiapi-storage~=0.7.0 in /anaconda/envs/azureml_py38/lib/python3.8/site-packages (from azure-cli) (0.7.0)\n",
            "Requirement already satisfied: azure-synapse-managedprivateendpoints~=0.3.0 in /anaconda/envs/azureml_py38/lib/python3.8/site-packages (from azure-cli) (0.3.0)\n",
            "Requirement already satisfied: chardet~=3.0.4 in /anaconda/envs/azureml_py38/lib/python3.8/site-packages (from azure-cli) (3.0.4)\n",
            "Requirement already satisfied: antlr4-python3-runtime~=4.7.2 in /anaconda/envs/azureml_py38/lib/python3.8/site-packages (from azure-cli) (4.7.2)\n",
            "Requirement already satisfied: azure-mgmt-keyvault==9.3.0 in /anaconda/envs/azureml_py38/lib/python3.8/site-packages (from azure-cli) (9.3.0)\n",
            "Requirement already satisfied: azure-keyvault~=1.1.0 in /anaconda/envs/azureml_py38/lib/python3.8/site-packages (from azure-cli) (1.1.0)\n",
            "Requirement already satisfied: azure-mgmt-consumption~=2.0 in /anaconda/envs/azureml_py38/lib/python3.8/site-packages (from azure-cli) (2.0.0)\n",
            "Requirement already satisfied: azure-mgmt-signalr~=1.0.0b2 in /anaconda/envs/azureml_py38/lib/python3.8/site-packages (from azure-cli) (1.0.0)\n",
            "Requirement already satisfied: azure-mgmt-dns~=8.0.0 in /anaconda/envs/azureml_py38/lib/python3.8/site-packages (from azure-cli) (8.0.0)\n",
            "Requirement already satisfied: colorama~=0.4.4 in /anaconda/envs/azureml_py38/lib/python3.8/site-packages (from azure-cli) (0.4.4)\n",
            "Requirement already satisfied: PyGithub~=1.38 in /anaconda/envs/azureml_py38/lib/python3.8/site-packages (from azure-cli) (1.55)\n",
            "Requirement already satisfied: azure-mgmt-extendedlocation~=1.0.0b2 in /anaconda/envs/azureml_py38/lib/python3.8/site-packages (from azure-cli) (1.0.0)\n",
            "Requirement already satisfied: azure-mgmt-recoveryservices~=2.0.0 in /anaconda/envs/azureml_py38/lib/python3.8/site-packages (from azure-cli) (2.0.0)\n",
            "Requirement already satisfied: azure-synapse-spark~=0.2.0 in /anaconda/envs/azureml_py38/lib/python3.8/site-packages (from azure-cli) (0.2.0)\n",
            "Requirement already satisfied: azure-cli-core==2.34.1 in /anaconda/envs/azureml_py38/lib/python3.8/site-packages (from azure-cli) (2.34.1)\n",
            "Collecting azure-graphrbac~=0.60.0\n",
            "  Downloading azure_graphrbac-0.60.0-py2.py3-none-any.whl (139 kB)\n",
            "\u001b[K     |████████████████████████████████| 139 kB 59.0 MB/s eta 0:00:01\n",
            "\u001b[?25hRequirement already satisfied: azure-mgmt-cdn==11.0.0 in /anaconda/envs/azureml_py38/lib/python3.8/site-packages (from azure-cli) (11.0.0)\n",
            "Requirement already satisfied: azure-synapse-accesscontrol~=0.5.0 in /anaconda/envs/azureml_py38/lib/python3.8/site-packages (from azure-cli) (0.5.0)\n",
            "Requirement already satisfied: packaging<22.0,>=20.9 in /anaconda/envs/azureml_py38/lib/python3.8/site-packages (from azure-cli) (21.3)\n",
            "Requirement already satisfied: azure-mgmt-iotcentral~=9.0.0 in /anaconda/envs/azureml_py38/lib/python3.8/site-packages (from azure-cli) (9.0.0)\n",
            "Requirement already satisfied: azure-mgmt-sqlvirtualmachine~=1.0.0b1 in /anaconda/envs/azureml_py38/lib/python3.8/site-packages (from azure-cli) (1.0.0b2)\n",
            "Requirement already satisfied: azure-mgmt-search~=8.0 in /anaconda/envs/azureml_py38/lib/python3.8/site-packages (from azure-cli) (8.0.0)\n",
            "Requirement already satisfied: azure-mgmt-storage~=19.1.0 in /anaconda/envs/azureml_py38/lib/python3.8/site-packages (from azure-cli) (19.1.0)\n",
            "Requirement already satisfied: azure-mgmt-web~=6.1.0 in /anaconda/envs/azureml_py38/lib/python3.8/site-packages (from azure-cli) (6.1.0)\n",
            "Requirement already satisfied: azure-mgmt-network~=19.3.0 in /anaconda/envs/azureml_py38/lib/python3.8/site-packages (from azure-cli) (19.3.0)\n",
            "Requirement already satisfied: azure-identity in /anaconda/envs/azureml_py38/lib/python3.8/site-packages (from azure-cli) (1.7.0)\n",
            "Requirement already satisfied: msrest>=0.5.0 in /anaconda/envs/azureml_py38/lib/python3.8/site-packages (from azure-mgmt-advisor==9.0.0->azure-cli) (0.6.21)\n",
            "Requirement already satisfied: azure-common~=1.1 in /anaconda/envs/azureml_py38/lib/python3.8/site-packages (from azure-mgmt-advisor==9.0.0->azure-cli) (1.1.28)\n",
            "Requirement already satisfied: azure-mgmt-core<2.0.0,>=1.2.0 in /anaconda/envs/azureml_py38/lib/python3.8/site-packages (from azure-mgmt-advisor==9.0.0->azure-cli) (1.3.0)\n",
            "Requirement already satisfied: cffi in /anaconda/envs/azureml_py38/lib/python3.8/site-packages (from azure-datalake-store~=0.0.49->azure-cli) (1.15.0)\n",
            "Requirement already satisfied: adal>=0.4.2 in /anaconda/envs/azureml_py38/lib/python3.8/site-packages (from azure-datalake-store~=0.0.49->azure-cli) (1.2.7)\n",
            "Requirement already satisfied: requests>=2.20.0 in /anaconda/envs/azureml_py38/lib/python3.8/site-packages (from azure-datalake-store~=0.0.49->azure-cli) (2.27.1)\n",
            "Requirement already satisfied: python-dateutil in /anaconda/envs/azureml_py38/lib/python3.8/site-packages (from azure-storage-common~=1.4->azure-cli) (2.8.2)\n",
            "Requirement already satisfied: cryptography in /anaconda/envs/azureml_py38/lib/python3.8/site-packages (from azure-storage-common~=1.4->azure-cli) (36.0.1)\n",
            "Requirement already satisfied: azure-core<2.0.0,>=1.20.0 in /anaconda/envs/azureml_py38/lib/python3.8/site-packages (from azure-synapse-artifacts~=0.10.0->azure-cli) (1.21.1)\n",
            "Requirement already satisfied: msrestazure<2.0.0,>=0.4.32 in /anaconda/envs/azureml_py38/lib/python3.8/site-packages (from azure-mgmt-deploymentmanager~=0.2.0->azure-cli) (0.6.4)\n",
            "Requirement already satisfied: azure-mgmt-nspkg>=2.0.0 in /anaconda/envs/azureml_py38/lib/python3.8/site-packages (from azure-mgmt-relay~=0.1.0->azure-cli) (3.0.2)\n",
            "Requirement already satisfied: azure-mgmt-datalake-nspkg>=2.0.0 in /anaconda/envs/azureml_py38/lib/python3.8/site-packages (from azure-mgmt-datalake-analytics~=0.2.1->azure-cli) (3.0.1)\n",
            "Requirement already satisfied: paramiko in /anaconda/envs/azureml_py38/lib/python3.8/site-packages (from scp~=0.13.2->azure-cli) (2.9.2)\n",
            "Requirement already satisfied: invoke<2.0,>=1.3 in /anaconda/envs/azureml_py38/lib/python3.8/site-packages (from fabric~=2.4->azure-cli) (1.7.0)\n",
            "Requirement already satisfied: pathlib2 in /anaconda/envs/azureml_py38/lib/python3.8/site-packages (from fabric~=2.4->azure-cli) (2.3.7.post1)\n",
            "Requirement already satisfied: pyOpenSSL>=0.14; extra == \"secure\" in /anaconda/envs/azureml_py38/lib/python3.8/site-packages (from urllib3[secure]->azure-cli) (21.0.0)\n",
            "Requirement already satisfied: idna>=2.0.0; extra == \"secure\" in /anaconda/envs/azureml_py38/lib/python3.8/site-packages (from urllib3[secure]->azure-cli) (3.3)\n",
            "Requirement already satisfied: certifi; extra == \"secure\" in /anaconda/envs/azureml_py38/lib/python3.8/site-packages (from urllib3[secure]->azure-cli) (2021.10.8)\n",
            "Requirement already satisfied: azure-nspkg>=2.0.0 in /anaconda/envs/azureml_py38/lib/python3.8/site-packages (from azure-keyvault~=1.1.0->azure-cli) (3.0.2)\n",
            "Requirement already satisfied: deprecated in /anaconda/envs/azureml_py38/lib/python3.8/site-packages (from PyGithub~=1.38->azure-cli) (1.2.13)\n",
            "Requirement already satisfied: pyjwt>=2.0 in /anaconda/envs/azureml_py38/lib/python3.8/site-packages (from PyGithub~=1.38->azure-cli) (2.3.0)\n",
            "Requirement already satisfied: humanfriendly~=10.0 in /anaconda/envs/azureml_py38/lib/python3.8/site-packages (from azure-cli-core==2.34.1->azure-cli) (10.0)\n",
            "Requirement already satisfied: msal-extensions<0.4,>=0.3.1 in /anaconda/envs/azureml_py38/lib/python3.8/site-packages (from azure-cli-core==2.34.1->azure-cli) (0.3.1)\n",
            "Requirement already satisfied: azure-cli-telemetry==1.0.6.* in /anaconda/envs/azureml_py38/lib/python3.8/site-packages (from azure-cli-core==2.34.1->azure-cli) (1.0.6)\n",
            "Requirement already satisfied: argcomplete~=1.8 in /anaconda/envs/azureml_py38/lib/python3.8/site-packages (from azure-cli-core==2.34.1->azure-cli) (1.12.3)\n",
            "Requirement already satisfied: pkginfo>=1.5.0.1 in /anaconda/envs/azureml_py38/lib/python3.8/site-packages (from azure-cli-core==2.34.1->azure-cli) (1.8.2)\n",
            "Requirement already satisfied: jmespath in /anaconda/envs/azureml_py38/lib/python3.8/site-packages (from azure-cli-core==2.34.1->azure-cli) (0.10.0)\n",
            "Requirement already satisfied: knack~=0.9.0 in /anaconda/envs/azureml_py38/lib/python3.8/site-packages (from azure-cli-core==2.34.1->azure-cli) (0.9.0)\n",
            "Requirement already satisfied: psutil~=5.9 in /anaconda/envs/azureml_py38/lib/python3.8/site-packages (from azure-cli-core==2.34.1->azure-cli) (5.9.0)\n",
            "Requirement already satisfied: msal<2.0.0,>=1.16.0 in /anaconda/envs/azureml_py38/lib/python3.8/site-packages (from azure-cli-core==2.34.1->azure-cli) (1.17.0)\n",
            "Requirement already satisfied: pyparsing!=3.0.5,>=2.0.2 in /anaconda/envs/azureml_py38/lib/python3.8/site-packages (from packaging<22.0,>=20.9->azure-cli) (3.0.7)\n",
            "Requirement already satisfied: isodate>=0.6.0 in /anaconda/envs/azureml_py38/lib/python3.8/site-packages (from msrest>=0.5.0->azure-mgmt-advisor==9.0.0->azure-cli) (0.6.1)\n",
            "Requirement already satisfied: requests-oauthlib>=0.5.0 in /anaconda/envs/azureml_py38/lib/python3.8/site-packages (from msrest>=0.5.0->azure-mgmt-advisor==9.0.0->azure-cli) (1.3.1)\n",
            "Requirement already satisfied: pycparser in /anaconda/envs/azureml_py38/lib/python3.8/site-packages (from cffi->azure-datalake-store~=0.0.49->azure-cli) (2.21)\n",
            "Requirement already satisfied: charset-normalizer~=2.0.0; python_version >= \"3\" in /anaconda/envs/azureml_py38/lib/python3.8/site-packages (from requests>=2.20.0->azure-datalake-store~=0.0.49->azure-cli) (2.0.12)\n",
            "Requirement already satisfied: bcrypt>=3.1.3 in /anaconda/envs/azureml_py38/lib/python3.8/site-packages (from paramiko->scp~=0.13.2->azure-cli) (3.2.0)\n",
            "Requirement already satisfied: wrapt<2,>=1.10 in /anaconda/envs/azureml_py38/lib/python3.8/site-packages (from deprecated->PyGithub~=1.38->azure-cli) (1.12.1)\n",
            "Requirement already satisfied: portalocker<3,>=1.0; python_version >= \"3.5\" and platform_system != \"Windows\" in /anaconda/envs/azureml_py38/lib/python3.8/site-packages (from msal-extensions<0.4,>=0.3.1->azure-cli-core==2.34.1->azure-cli) (2.4.0)\n",
            "Requirement already satisfied: applicationinsights<0.12,>=0.11.1 in /anaconda/envs/azureml_py38/lib/python3.8/site-packages (from azure-cli-telemetry==1.0.6.*->azure-cli-core==2.34.1->azure-cli) (0.11.10)\n",
            "Requirement already satisfied: pyyaml in /anaconda/envs/azureml_py38/lib/python3.8/site-packages (from knack~=0.9.0->azure-cli-core==2.34.1->azure-cli) (6.0)\n",
            "Requirement already satisfied: pygments in /anaconda/envs/azureml_py38/lib/python3.8/site-packages (from knack~=0.9.0->azure-cli-core==2.34.1->azure-cli) (2.11.2)\n",
            "Requirement already satisfied: tabulate in /anaconda/envs/azureml_py38/lib/python3.8/site-packages (from knack~=0.9.0->azure-cli-core==2.34.1->azure-cli) (0.8.9)\n",
            "Requirement already satisfied: oauthlib>=3.0.0 in /anaconda/envs/azureml_py38/lib/python3.8/site-packages (from requests-oauthlib>=0.5.0->msrest>=0.5.0->azure-mgmt-advisor==9.0.0->azure-cli) (3.2.0)\n",
            "Installing collected packages: azure-mgmt-resource, websocket-client, PyNaCl, azure-graphrbac\n",
            "  Attempting uninstall: azure-mgmt-resource\n",
            "    Found existing installation: azure-mgmt-resource 20.1.0\n",
            "    Uninstalling azure-mgmt-resource-20.1.0:\n",
            "      Successfully uninstalled azure-mgmt-resource-20.1.0\n",
            "  Attempting uninstall: websocket-client\n",
            "    Found existing installation: websocket-client 1.2.3\n",
            "    Uninstalling websocket-client-1.2.3:\n",
            "      Successfully uninstalled websocket-client-1.2.3\n",
            "  Attempting uninstall: PyNaCl\n",
            "    Found existing installation: PyNaCl 1.5.0\n",
            "    Uninstalling PyNaCl-1.5.0:\n",
            "      Successfully uninstalled PyNaCl-1.5.0\n",
            "  Attempting uninstall: azure-graphrbac\n",
            "    Found existing installation: azure-graphrbac 0.61.1\n",
            "    Uninstalling azure-graphrbac-0.61.1:\n",
            "      Successfully uninstalled azure-graphrbac-0.61.1\n",
            "Successfully installed PyNaCl-1.4.0 azure-graphrbac-0.60.0 azure-mgmt-resource-20.0.0 websocket-client-0.56.0\n",
            "Note: you may need to restart the kernel to use updated packages.\n",
            "Collecting snowflake-connector-python==2.7.4\n",
            "  Downloading snowflake_connector_python-2.7.4-cp38-cp38-manylinux_2_12_x86_64.manylinux2010_x86_64.manylinux_2_17_x86_64.manylinux2014_x86_64.whl (16.5 MB)\n",
            "\u001b[K     |████████████████████████████████| 16.5 MB 26.5 MB/s eta 0:00:01\n",
            "\u001b[?25hRequirement already satisfied: charset-normalizer~=2.0.0 in /anaconda/envs/azureml_py38/lib/python3.8/site-packages (from snowflake-connector-python==2.7.4) (2.0.12)\n",
            "Collecting oscrypto<2.0.0\n",
            "  Downloading oscrypto-1.3.0-py2.py3-none-any.whl (194 kB)\n",
            "\u001b[K     |████████████████████████████████| 194 kB 28.9 MB/s eta 0:00:01\n",
            "\u001b[?25hRequirement already satisfied: certifi>=2017.4.17 in /anaconda/envs/azureml_py38/lib/python3.8/site-packages (from snowflake-connector-python==2.7.4) (2021.10.8)\n",
            "Requirement already satisfied: cryptography<37.0.0,>=3.1.0 in /anaconda/envs/azureml_py38/lib/python3.8/site-packages (from snowflake-connector-python==2.7.4) (36.0.1)\n",
            "Collecting pycryptodomex!=3.5.0,<4.0.0,>=3.2\n",
            "  Downloading pycryptodomex-3.14.1-cp35-abi3-manylinux2010_x86_64.whl (2.0 MB)\n",
            "\u001b[K     |████████████████████████████████| 2.0 MB 36.3 MB/s eta 0:00:01\n",
            "\u001b[?25hRequirement already satisfied: pyjwt<3.0.0 in /anaconda/envs/azureml_py38/lib/python3.8/site-packages (from snowflake-connector-python==2.7.4) (2.3.0)\n",
            "Requirement already satisfied: cffi<2.0.0,>=1.9 in /anaconda/envs/azureml_py38/lib/python3.8/site-packages (from snowflake-connector-python==2.7.4) (1.15.0)\n",
            "Collecting asn1crypto<2.0.0,>0.24.0\n",
            "  Downloading asn1crypto-1.5.1-py2.py3-none-any.whl (105 kB)\n",
            "\u001b[K     |████████████████████████████████| 105 kB 54.7 MB/s eta 0:00:01\n",
            "\u001b[?25hRequirement already satisfied: requests<3.0.0 in /anaconda/envs/azureml_py38/lib/python3.8/site-packages (from snowflake-connector-python==2.7.4) (2.27.1)\n",
            "Requirement already satisfied: pyOpenSSL<22.0.0,>=16.2.0 in /anaconda/envs/azureml_py38/lib/python3.8/site-packages (from snowflake-connector-python==2.7.4) (21.0.0)\n",
            "Requirement already satisfied: setuptools>34.0.0 in /anaconda/envs/azureml_py38/lib/python3.8/site-packages (from snowflake-connector-python==2.7.4) (49.6.0)\n",
            "Requirement already satisfied: idna<4,>=2.5 in /anaconda/envs/azureml_py38/lib/python3.8/site-packages (from snowflake-connector-python==2.7.4) (3.3)\n",
            "Requirement already satisfied: pytz in /anaconda/envs/azureml_py38/lib/python3.8/site-packages (from snowflake-connector-python==2.7.4) (2019.3)\n",
            "Requirement already satisfied: pycparser in /anaconda/envs/azureml_py38/lib/python3.8/site-packages (from cffi<2.0.0,>=1.9->snowflake-connector-python==2.7.4) (2.21)\n",
            "Requirement already satisfied: urllib3<1.27,>=1.21.1 in /anaconda/envs/azureml_py38/lib/python3.8/site-packages (from requests<3.0.0->snowflake-connector-python==2.7.4) (1.26.7)\n",
            "Requirement already satisfied: six>=1.5.2 in /anaconda/envs/azureml_py38/lib/python3.8/site-packages (from pyOpenSSL<22.0.0,>=16.2.0->snowflake-connector-python==2.7.4) (1.16.0)\n",
            "Installing collected packages: asn1crypto, oscrypto, pycryptodomex, snowflake-connector-python\n",
            "Successfully installed asn1crypto-1.5.1 oscrypto-1.3.0 pycryptodomex-3.14.1 snowflake-connector-python-2.7.4\n",
            "Note: you may need to restart the kernel to use updated packages.\n",
            "Collecting pyarrow==6.0.1\n",
            "  Downloading pyarrow-6.0.1-cp38-cp38-manylinux_2_17_x86_64.manylinux2014_x86_64.whl (25.6 MB)\n",
            "\u001b[K     |████████████████████████████████| 25.6 MB 25.5 MB/s eta 0:00:01\n",
            "\u001b[?25hRequirement already satisfied: numpy>=1.16.6 in /anaconda/envs/azureml_py38/lib/python3.8/site-packages (from pyarrow==6.0.1) (1.19.0)\n",
            "\u001b[31mERROR: datasets 1.8.0 has requirement pyarrow<4.0.0,>=1.0.0, but you'll have pyarrow 6.0.1 which is incompatible.\u001b[0m\n",
            "\u001b[31mERROR: datasets 1.8.0 has requirement tqdm<4.50.0,>=4.27, but you'll have tqdm 4.62.3 which is incompatible.\u001b[0m\n",
            "\u001b[31mERROR: azureml-dataset-runtime 1.39.0 has requirement pyarrow<4.0.0,>=0.17.0, but you'll have pyarrow 6.0.1 which is incompatible.\u001b[0m\n",
            "Installing collected packages: pyarrow\n",
            "  Attempting uninstall: pyarrow\n",
            "    Found existing installation: pyarrow 7.0.0\n",
            "    Uninstalling pyarrow-7.0.0:\n",
            "      Successfully uninstalled pyarrow-7.0.0\n",
            "Successfully installed pyarrow-6.0.1\n",
            "Note: you may need to restart the kernel to use updated packages.\n"
          ]
        }
      ],
      "source": [
        "# All library installations\n",
        "\n",
        "%pip install feast-azure-provider\n",
        "%pip install azure-cli\n",
        "%pip install snowflake-connector-python==2.7.4\n",
        "%pip install pyarrow==6.0.1"
      ]
    },
    {
      "cell_type": "code",
      "execution_count": 3,
      "metadata": {
        "gather": {
          "logged": 1649064231209
        }
      },
      "outputs": [],
      "source": [
        "import pandas as pd\n",
        "import numpy as np\n",
        "import datetime\n",
        "from sklearn.base import BaseEstimator, TransformerMixin\n",
        "# import featuretools as ft\n",
        "from sklearn.feature_selection import SelectKBest, f_classif, RFE\n",
        "from sklearn.tree import DecisionTreeClassifier\n",
        "from sklearn.model_selection import train_test_split, cross_val_score\n",
        "from sklearn.preprocessing import OneHotEncoder, MinMaxScaler\n",
        "# matplotlib and seaborn for plotting\n",
        "# import matplotlib.pyplot as plt\n",
        "# import seaborn as sns\n",
        "# from sklearn.pipeline import Pipeline, FeatureUnion, make_pipeline\n",
        "import warnings\n",
        "warnings.filterwarnings(\"ignore\")"
      ]
    },
    {
      "cell_type": "code",
      "execution_count": 2,
      "metadata": {
        "gather": {
          "logged": 1649064240068
        },
        "jupyter": {
          "outputs_hidden": false,
          "source_hidden": false
        },
        "nteract": {
          "transient": {
            "deleting": false
          }
        }
      },
      "outputs": [
        {
          "ename": "UserErrorException",
          "evalue": "UserErrorException:\n\tMessage: The workspace configuration file config.json, could not be found in /Users/ftt.sakthivel.b/Experiments/feast-snowflake/feature-store/notebooks or its parent directories. Please check whether the workspace configuration file exists, or provide the full path to the configuration file as an argument. You can download a configuration file for your workspace, via http://ml.azure.com and clicking on the name of your workspace in the right top.\n\tInnerException None\n\tErrorResponse \n{\n    \"error\": {\n        \"code\": \"UserError\",\n        \"message\": \"The workspace configuration file config.json, could not be found in /Users/ftt.sakthivel.b/Experiments/feast-snowflake/feature-store/notebooks or its parent directories. Please check whether the workspace configuration file exists, or provide the full path to the configuration file as an argument. You can download a configuration file for your workspace, via http://ml.azure.com and clicking on the name of your workspace in the right top.\"\n    }\n}",
          "output_type": "error",
          "traceback": [
            "\u001b[0;31m---------------------------------------------------------------------------\u001b[0m",
            "\u001b[0;31mUserErrorException\u001b[0m                        Traceback (most recent call last)",
            "\u001b[0;32m/var/folders/d0/xn8wtbnn6mg4yhjsg399167r0000gr/T/ipykernel_38143/128856999.py\u001b[0m in \u001b[0;36m<module>\u001b[0;34m\u001b[0m\n\u001b[1;32m      3\u001b[0m \u001b[0;32mimport\u001b[0m \u001b[0mos\u001b[0m\u001b[0;34m\u001b[0m\u001b[0;34m\u001b[0m\u001b[0m\n\u001b[1;32m      4\u001b[0m \u001b[0;34m\u001b[0m\u001b[0m\n\u001b[0;32m----> 5\u001b[0;31m \u001b[0mws\u001b[0m \u001b[0;34m=\u001b[0m \u001b[0mWorkspace\u001b[0m\u001b[0;34m.\u001b[0m\u001b[0mfrom_config\u001b[0m\u001b[0;34m(\u001b[0m\u001b[0;34m)\u001b[0m\u001b[0;34m\u001b[0m\u001b[0;34m\u001b[0m\u001b[0m\n\u001b[0m\u001b[1;32m      6\u001b[0m \u001b[0mkeyvault\u001b[0m \u001b[0;34m=\u001b[0m \u001b[0mws\u001b[0m\u001b[0;34m.\u001b[0m\u001b[0mget_default_keyvault\u001b[0m\u001b[0;34m(\u001b[0m\u001b[0;34m)\u001b[0m\u001b[0;34m\u001b[0m\u001b[0;34m\u001b[0m\u001b[0m\n\u001b[1;32m      7\u001b[0m \u001b[0;34m\u001b[0m\u001b[0m\n",
            "\u001b[0;32m~/opt/anaconda3/lib/python3.9/site-packages/azureml/core/workspace.py\u001b[0m in \u001b[0;36mfrom_config\u001b[0;34m(path, auth, _logger, _file_name)\u001b[0m\n\u001b[1;32m    277\u001b[0m \u001b[0;34m\u001b[0m\u001b[0m\n\u001b[1;32m    278\u001b[0m             \u001b[0;32mif\u001b[0m \u001b[0;32mnot\u001b[0m \u001b[0mfound_path\u001b[0m\u001b[0;34m:\u001b[0m\u001b[0;34m\u001b[0m\u001b[0;34m\u001b[0m\u001b[0m\n\u001b[0;32m--> 279\u001b[0;31m                 raise UserErrorException(\n\u001b[0m\u001b[1;32m    280\u001b[0m                     \u001b[0;34m\"The workspace configuration file config.json, could not be found in {} or its parent \"\u001b[0m\u001b[0;34m\u001b[0m\u001b[0;34m\u001b[0m\u001b[0m\n\u001b[1;32m    281\u001b[0m                     \u001b[0;34m\"directories. Please check whether the workspace configuration file exists, or provide \"\u001b[0m\u001b[0;34m\u001b[0m\u001b[0;34m\u001b[0m\u001b[0m\n",
            "\u001b[0;31mUserErrorException\u001b[0m: UserErrorException:\n\tMessage: The workspace configuration file config.json, could not be found in /Users/ftt.sakthivel.b/Experiments/feast-snowflake/feature-store/notebooks or its parent directories. Please check whether the workspace configuration file exists, or provide the full path to the configuration file as an argument. You can download a configuration file for your workspace, via http://ml.azure.com and clicking on the name of your workspace in the right top.\n\tInnerException None\n\tErrorResponse \n{\n    \"error\": {\n        \"code\": \"UserError\",\n        \"message\": \"The workspace configuration file config.json, could not be found in /Users/ftt.sakthivel.b/Experiments/feast-snowflake/feature-store/notebooks or its parent directories. Please check whether the workspace configuration file exists, or provide the full path to the configuration file as an argument. You can download a configuration file for your workspace, via http://ml.azure.com and clicking on the name of your workspace in the right top.\"\n    }\n}"
          ]
        }
      ],
      "source": [
        "from azureml.core import Workspace\n",
        "from azureml.core import Keyvault\n",
        "import os\n",
        "\n",
        "ws = Workspace.from_config()\n",
        "keyvault = ws.get_default_keyvault()\n",
        "\n",
        "os.environ[\"REGISTRY_BLOB_KEY\"] = keyvault.get_secret(\"registrytoken\")"
      ]
    },
    {
      "cell_type": "code",
      "execution_count": null,
      "metadata": {
        "gather": {
          "logged": 1649064446288
        },
        "jupyter": {
          "outputs_hidden": false,
          "source_hidden": false
        },
        "nteract": {
          "transient": {
            "deleting": false
          }
        }
      },
      "outputs": [],
      "source": [
        "#Login Details for snowflake\n",
        "username = \"evan912\"\n",
        "pwd = keyvault.get_secret(\"evansftestkey\")"
      ]
    },
    {
      "cell_type": "code",
      "execution_count": 4,
      "metadata": {},
      "outputs": [],
      "source": [
        "#Save registry token in environment registry blob key\n",
        "os.environ[\"REGISTRY_BLOB_KEY\"] = \"sp=racwdyti&st=2022-03-16T08:44:21Z&se=2022-12-09T16:44:21Z&spr=https&sv=2020-08-04&sr=b&sig=ZMx%2BpFBaemjiR4j1QRoCGqrbIAQLJ%2F8eJPnx%2Bth4PWQ%3D\"\n",
        "\n",
        "#Snowflake Credentials\n",
        "username = \"evan912\"\n",
        "pwd = 'Evan912912'"
      ]
    },
    {
      "cell_type": "code",
      "execution_count": 6,
      "metadata": {
        "gather": {
          "logged": 1649064525613
        },
        "jupyter": {
          "outputs_hidden": false,
          "source_hidden": false
        },
        "nteract": {
          "transient": {
            "deleting": false
          }
        }
      },
      "outputs": [],
      "source": [
        "import snowflake.connector as snow\n",
        "from snowflake.connector.pandas_tools import write_pandas\n",
        "\n",
        "# Snowflake python connector to populate data from datasource to table in snowflake\n",
        "conn = snow.connect(\n",
        "   user = username,\n",
        "   password = pwd,\n",
        "   account=\"pn93812.southeast-asia.azure\",\n",
        "   warehouse=\"COMPUTE_WH\",\n",
        "   database=\"TEST\",\n",
        "   schema=\"PUBLIC\"\n",
        ")\n",
        "\n",
        "#Adds Timezone to all datatime column items in the pandas\n",
        "def fix_date_cols(df, tz = 'UTC'):\n",
        "    cols = df.select_dtypes(include=['datetime64[ns]']).columns\n",
        "    for col in cols:\n",
        "        df[col] = df[col].dt.tz_localize(tz)\n",
        "\n",
        "# Wrapper function to upload tables to snowflake\n",
        "#     data: Pandas Datatable sent to Snowflake\n",
        "#     table_title: Snowflake tablename\n",
        "def process_send(data, table_title):\n",
        "    \n",
        "    # remove special characters in columns name\n",
        "    data.columns = data.columns.str.replace(\"[' ', -]\", '_')\n",
        "    data.columns = data.columns.str.replace(\"[(, )]\", '')\n",
        "    \n",
        "    # Add timezone to any datetime type data\n",
        "    fix_date_cols(data)\n",
        "    \n",
        "    #Send data to Snowflake\n",
        "    try:\n",
        "        success, nchunks, nrows, _ = write_pandas(conn, data, table_title, quote_identifiers=False, auto_create_table=True)\n",
        "        print (\"Success: \" + str(success) + ', Chunks: '+ str (nchunks) + ', Rows uploaded: ' + str (nrows))\n",
        "    except Exception as e:\n",
        "        print(e)\n",
        "    print(\"Done.\")\n"
      ]
    },
    {
      "cell_type": "code",
      "execution_count": 14,
      "metadata": {
        "gather": {
          "logged": 1649056606676
        },
        "jupyter": {
          "outputs_hidden": false,
          "source_hidden": false
        },
        "nteract": {
          "transient": {
            "deleting": false
          }
        }
      },
      "outputs": [],
      "source": [
        "bureau = pd.read_parquet(\"data/bureau_feature_table.parquet\")\n",
        "prev = pd.read_parquet(\"data/previous_loan_features.parquet\")\n",
        "stat = pd.read_parquet(\"data/static_feature_table.parquet\")\n",
        "application_train = pd.read_csv(\"data/application_train.csv\")"
      ]
    },
    {
      "cell_type": "code",
      "execution_count": 17,
      "metadata": {},
      "outputs": [],
      "source": [
        "bureau['CREATED_TIMESTAMP']=datetime.datetime.now()\n",
        "prev['CREATED_TIMESTAMP']=datetime.datetime.now()\n",
        "stat['CREATED_TIMESTAMP']=datetime.datetime.now()"
      ]
    },
    {
      "cell_type": "code",
      "execution_count": 18,
      "metadata": {},
      "outputs": [
        {
          "name": "stdout",
          "output_type": "stream",
          "text": [
            "Success: True, Chunks: 1, Rows uploaded: 307511\n",
            "Done.\n"
          ]
        }
      ],
      "source": [
        "process_send(application_train, \"APPLICATION_TRAIN\" )"
      ]
    },
    {
      "cell_type": "code",
      "execution_count": 19,
      "metadata": {
        "gather": {
          "logged": 1649056662655
        },
        "jupyter": {
          "outputs_hidden": false,
          "source_hidden": false
        },
        "nteract": {
          "transient": {
            "deleting": false
          }
        }
      },
      "outputs": [
        {
          "name": "stdout",
          "output_type": "stream",
          "text": [
            "Success: True, Chunks: 1, Rows uploaded: 305811\n",
            "Done.\n"
          ]
        }
      ],
      "source": [
        "process_send(bureau, \"bureau_feature_table\" )"
      ]
    },
    {
      "cell_type": "code",
      "execution_count": 20,
      "metadata": {
        "gather": {
          "logged": 1649056696001
        },
        "jupyter": {
          "outputs_hidden": false,
          "source_hidden": false
        },
        "nteract": {
          "transient": {
            "deleting": false
          }
        }
      },
      "outputs": [
        {
          "name": "stdout",
          "output_type": "stream",
          "text": [
            "Success: True, Chunks: 1, Rows uploaded: 339587\n",
            "Done.\n"
          ]
        }
      ],
      "source": [
        "process_send(prev, \"PREVIOUS_LOAN_FEATURES_TABLE\" )"
      ]
    },
    {
      "cell_type": "code",
      "execution_count": 21,
      "metadata": {
        "gather": {
          "logged": 1649056727797
        },
        "jupyter": {
          "outputs_hidden": false,
          "source_hidden": false
        },
        "nteract": {
          "transient": {
            "deleting": false
          }
        }
      },
      "outputs": [
        {
          "name": "stdout",
          "output_type": "stream",
          "text": [
            "Success: True, Chunks: 1, Rows uploaded: 307511\n",
            "Done.\n"
          ]
        }
      ],
      "source": [
        "process_send(stat, \"static_feature_table\" )"
      ]
    },
    {
      "cell_type": "code",
      "execution_count": null,
      "metadata": {
        "jupyter": {
          "outputs_hidden": false,
          "source_hidden": false
        },
        "nteract": {
          "transient": {
            "deleting": false
          }
        }
      },
      "outputs": [],
      "source": []
    }
  ],
  "metadata": {
    "kernel_info": {
      "name": "python38-azureml"
    },
    "kernelspec": {
      "display_name": "Python 3.8.9 64-bit",
      "language": "python",
      "name": "python3"
    },
    "language_info": {
      "codemirror_mode": {
        "name": "ipython",
        "version": 3
      },
      "file_extension": ".py",
      "mimetype": "text/x-python",
      "name": "python",
      "nbconvert_exporter": "python",
      "pygments_lexer": "ipython3",
      "version": "3.8.9"
    },
    "microsoft": {
      "host": {
        "AzureML": {
          "notebookHasBeenCompleted": true
        }
      }
    },
    "nteract": {
      "version": "nteract-front-end@1.0.0"
    },
    "vscode": {
      "interpreter": {
        "hash": "31f2aee4e71d21fbe5cf8b01ff0e069b9275f58929596ceb00d14d90e3e16cd6"
      }
    }
  },
  "nbformat": 4,
  "nbformat_minor": 2
}

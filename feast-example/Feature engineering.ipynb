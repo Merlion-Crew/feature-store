{
  "cells": [
    {
      "cell_type": "code",
      "execution_count": 5,
      "metadata": {
        "application/vnd.databricks.v1+cell": {
          "inputWidgets": {},
          "nuid": "0343147d-9e47-4cc3-b902-1aa7c6620b2a",
          "showTitle": false,
          "title": ""
        }
      },
      "outputs": [
        {
          "name": "stdout",
          "output_type": "stream",
          "text": [
            "Requirement already satisfied: feast-azure-provider in /anaconda/envs/azureml_py38/lib/python3.8/site-packages (0.3.0)\n",
            "Requirement already satisfied: azure-storage-blob>=0.37.0 in /anaconda/envs/azureml_py38/lib/python3.8/site-packages (from feast-azure-provider) (12.9.0)\n",
            "Requirement already satisfied: azure-identity>=1.6.1 in /anaconda/envs/azureml_py38/lib/python3.8/site-packages (from feast-azure-provider) (1.7.0)\n",
            "Requirement already satisfied: pyodbc>=4.0.30 in /anaconda/envs/azureml_py38/lib/python3.8/site-packages (from feast-azure-provider) (4.0.32)\n",
            "Requirement already satisfied: feast[redis]==0.18.1 in /anaconda/envs/azureml_py38/lib/python3.8/site-packages (from feast-azure-provider) (0.18.1)\n",
            "Requirement already satisfied: dill==0.3.4 in /anaconda/envs/azureml_py38/lib/python3.8/site-packages (from feast-azure-provider) (0.3.4)\n",
            "Requirement already satisfied: SQLAlchemy>=1.4.19 in /anaconda/envs/azureml_py38/lib/python3.8/site-packages (from feast-azure-provider) (1.4.31)\n",
            "Requirement already satisfied: msrest>=0.6.21 in /anaconda/envs/azureml_py38/lib/python3.8/site-packages (from azure-storage-blob>=0.37.0->feast-azure-provider) (0.6.21)\n",
            "Requirement already satisfied: azure-core<2.0.0,>=1.10.0 in /anaconda/envs/azureml_py38/lib/python3.8/site-packages (from azure-storage-blob>=0.37.0->feast-azure-provider) (1.21.1)\n",
            "Requirement already satisfied: cryptography>=2.1.4 in /anaconda/envs/azureml_py38/lib/python3.8/site-packages (from azure-storage-blob>=0.37.0->feast-azure-provider) (36.0.1)\n",
            "Requirement already satisfied: six>=1.12.0 in /anaconda/envs/azureml_py38/lib/python3.8/site-packages (from azure-identity>=1.6.1->feast-azure-provider) (1.16.0)\n",
            "Requirement already satisfied: msal-extensions~=0.3.0 in /anaconda/envs/azureml_py38/lib/python3.8/site-packages (from azure-identity>=1.6.1->feast-azure-provider) (0.3.1)\n",
            "Requirement already satisfied: msal<2.0.0,>=1.12.0 in /anaconda/envs/azureml_py38/lib/python3.8/site-packages (from azure-identity>=1.6.1->feast-azure-provider) (1.16.0)\n",
            "Requirement already satisfied: mmh3 in /anaconda/envs/azureml_py38/lib/python3.8/site-packages (from feast[redis]==0.18.1->feast-azure-provider) (3.0.0)\n",
            "Requirement already satisfied: protobuf>=3.10 in /anaconda/envs/azureml_py38/lib/python3.8/site-packages (from feast[redis]==0.18.1->feast-azure-provider) (3.19.3)\n",
            "Requirement already satisfied: PyYAML>=5.4.* in /anaconda/envs/azureml_py38/lib/python3.8/site-packages (from feast[redis]==0.18.1->feast-azure-provider) (6.0)\n",
            "Requirement already satisfied: tabulate==0.8.* in /anaconda/envs/azureml_py38/lib/python3.8/site-packages (from feast[redis]==0.18.1->feast-azure-provider) (0.8.9)\n",
            "Requirement already satisfied: tensorflow-metadata<2.0.0,>=1.0.0 in /anaconda/envs/azureml_py38/lib/python3.8/site-packages (from feast[redis]==0.18.1->feast-azure-provider) (1.7.0)\n",
            "Requirement already satisfied: Jinja2>=2.0.0 in /anaconda/envs/azureml_py38/lib/python3.8/site-packages (from feast[redis]==0.18.1->feast-azure-provider) (2.11.2)\n",
            "Requirement already satisfied: grpcio>=1.34.0 in /anaconda/envs/azureml_py38/lib/python3.8/site-packages (from feast[redis]==0.18.1->feast-azure-provider) (1.43.0)\n",
            "Requirement already satisfied: fastapi>=0.68.0 in /anaconda/envs/azureml_py38/lib/python3.8/site-packages (from feast[redis]==0.18.1->feast-azure-provider) (0.73.0)\n",
            "Requirement already satisfied: toml==0.10.* in /anaconda/envs/azureml_py38/lib/python3.8/site-packages (from feast[redis]==0.18.1->feast-azure-provider) (0.10.2)\n",
            "Requirement already satisfied: grpcio-reflection>=1.34.0 in /anaconda/envs/azureml_py38/lib/python3.8/site-packages (from feast[redis]==0.18.1->feast-azure-provider) (1.45.0)\n",
            "Requirement already satisfied: jsonschema in /anaconda/envs/azureml_py38/lib/python3.8/site-packages (from feast[redis]==0.18.1->feast-azure-provider) (3.2.0)\n",
            "Requirement already satisfied: fastavro>=1.1.0 in /anaconda/envs/azureml_py38/lib/python3.8/site-packages (from feast[redis]==0.18.1->feast-azure-provider) (1.4.10)\n",
            "Requirement already satisfied: Click==8.* in /anaconda/envs/azureml_py38/lib/python3.8/site-packages (from feast[redis]==0.18.1->feast-azure-provider) (8.0.3)\n",
            "Requirement already satisfied: proto-plus<1.19.7 in /anaconda/envs/azureml_py38/lib/python3.8/site-packages (from feast[redis]==0.18.1->feast-azure-provider) (1.19.6)\n",
            "Requirement already satisfied: tqdm==4.* in /anaconda/envs/azureml_py38/lib/python3.8/site-packages (from feast[redis]==0.18.1->feast-azure-provider) (4.62.3)\n",
            "Requirement already satisfied: google-api-core>=1.23.0 in /anaconda/envs/azureml_py38/lib/python3.8/site-packages (from feast[redis]==0.18.1->feast-azure-provider) (2.5.0)\n",
            "Requirement already satisfied: pandavro==1.5.* in /anaconda/envs/azureml_py38/lib/python3.8/site-packages (from feast[redis]==0.18.1->feast-azure-provider) (1.5.2)\n",
            "Requirement already satisfied: googleapis-common-protos==1.52.* in /anaconda/envs/azureml_py38/lib/python3.8/site-packages (from feast[redis]==0.18.1->feast-azure-provider) (1.52.0)\n",
            "Requirement already satisfied: uvicorn[standard]>=0.14.0 in /anaconda/envs/azureml_py38/lib/python3.8/site-packages (from feast[redis]==0.18.1->feast-azure-provider) (0.17.4)\n",
            "Requirement already satisfied: tenacity>=7.* in /anaconda/envs/azureml_py38/lib/python3.8/site-packages (from feast[redis]==0.18.1->feast-azure-provider) (8.0.1)\n",
            "Requirement already satisfied: pandas>=1.0.0 in /anaconda/envs/azureml_py38/lib/python3.8/site-packages (from feast[redis]==0.18.1->feast-azure-provider) (1.3.4)\n",
            "Requirement already satisfied: pyarrow>=4.0.0 in /anaconda/envs/azureml_py38/lib/python3.8/site-packages (from feast[redis]==0.18.1->feast-azure-provider) (6.0.1)\n",
            "Requirement already satisfied: pydantic>=1.0.0 in /anaconda/envs/azureml_py38/lib/python3.8/site-packages (from feast[redis]==0.18.1->feast-azure-provider) (1.9.0)\n",
            "Requirement already satisfied: colorama>=0.3.9 in /anaconda/envs/azureml_py38/lib/python3.8/site-packages (from feast[redis]==0.18.1->feast-azure-provider) (0.4.4)\n",
            "Requirement already satisfied: hiredis>=2.0.0; extra == \"redis\" in /anaconda/envs/azureml_py38/lib/python3.8/site-packages (from feast[redis]==0.18.1->feast-azure-provider) (2.0.0)\n",
            "Requirement already satisfied: redis>=4.1.0; extra == \"redis\" in /anaconda/envs/azureml_py38/lib/python3.8/site-packages (from feast[redis]==0.18.1->feast-azure-provider) (4.1.3)\n",
            "Requirement already satisfied: greenlet!=0.4.17; python_version >= \"3\" and (platform_machine == \"aarch64\" or (platform_machine == \"ppc64le\" or (platform_machine == \"x86_64\" or (platform_machine == \"amd64\" or (platform_machine == \"AMD64\" or (platform_machine == \"win32\" or platform_machine == \"WIN32\")))))) in /anaconda/envs/azureml_py38/lib/python3.8/site-packages (from SQLAlchemy>=1.4.19->feast-azure-provider) (1.1.2)\n",
            "Requirement already satisfied: requests~=2.16 in /anaconda/envs/azureml_py38/lib/python3.8/site-packages (from msrest>=0.6.21->azure-storage-blob>=0.37.0->feast-azure-provider) (2.27.1)\n",
            "Requirement already satisfied: certifi>=2017.4.17 in /anaconda/envs/azureml_py38/lib/python3.8/site-packages (from msrest>=0.6.21->azure-storage-blob>=0.37.0->feast-azure-provider) (2021.10.8)\n",
            "Requirement already satisfied: requests-oauthlib>=0.5.0 in /anaconda/envs/azureml_py38/lib/python3.8/site-packages (from msrest>=0.6.21->azure-storage-blob>=0.37.0->feast-azure-provider) (1.3.0)\n",
            "Requirement already satisfied: isodate>=0.6.0 in /anaconda/envs/azureml_py38/lib/python3.8/site-packages (from msrest>=0.6.21->azure-storage-blob>=0.37.0->feast-azure-provider) (0.6.1)\n",
            "Requirement already satisfied: cffi>=1.12 in /anaconda/envs/azureml_py38/lib/python3.8/site-packages (from cryptography>=2.1.4->azure-storage-blob>=0.37.0->feast-azure-provider) (1.15.0)\n",
            "Requirement already satisfied: portalocker<3,>=1.0; python_version >= \"3.5\" and platform_system != \"Windows\" in /anaconda/envs/azureml_py38/lib/python3.8/site-packages (from msal-extensions~=0.3.0->azure-identity>=1.6.1->feast-azure-provider) (2.3.2)\n",
            "Requirement already satisfied: PyJWT[crypto]<3,>=1.0.0 in /anaconda/envs/azureml_py38/lib/python3.8/site-packages (from msal<2.0.0,>=1.12.0->azure-identity>=1.6.1->feast-azure-provider) (2.3.0)\n",
            "Requirement already satisfied: absl-py<2.0.0,>=0.9 in /anaconda/envs/azureml_py38/lib/python3.8/site-packages (from tensorflow-metadata<2.0.0,>=1.0.0->feast[redis]==0.18.1->feast-azure-provider) (0.15.0)\n",
            "Requirement already satisfied: MarkupSafe>=0.23 in /anaconda/envs/azureml_py38/lib/python3.8/site-packages (from Jinja2>=2.0.0->feast[redis]==0.18.1->feast-azure-provider) (2.0.1)\n",
            "Requirement already satisfied: starlette==0.17.1 in /anaconda/envs/azureml_py38/lib/python3.8/site-packages (from fastapi>=0.68.0->feast[redis]==0.18.1->feast-azure-provider) (0.17.1)\n",
            "Requirement already satisfied: attrs>=17.4.0 in /anaconda/envs/azureml_py38/lib/python3.8/site-packages (from jsonschema->feast[redis]==0.18.1->feast-azure-provider) (21.4.0)\n",
            "Requirement already satisfied: setuptools in /anaconda/envs/azureml_py38/lib/python3.8/site-packages (from jsonschema->feast[redis]==0.18.1->feast-azure-provider) (50.3.0)\n",
            "Requirement already satisfied: pyrsistent>=0.14.0 in /anaconda/envs/azureml_py38/lib/python3.8/site-packages (from jsonschema->feast[redis]==0.18.1->feast-azure-provider) (0.18.0)\n",
            "Requirement already satisfied: google-auth<3.0dev,>=1.25.0 in /anaconda/envs/azureml_py38/lib/python3.8/site-packages (from google-api-core>=1.23.0->feast[redis]==0.18.1->feast-azure-provider) (2.6.0)\n",
            "Requirement already satisfied: numpy>=1.7.0 in /anaconda/envs/azureml_py38/lib/python3.8/site-packages (from pandavro==1.5.*->feast[redis]==0.18.1->feast-azure-provider) (1.22.2)\n",
            "Requirement already satisfied: asgiref>=3.4.0 in /anaconda/envs/azureml_py38/lib/python3.8/site-packages (from uvicorn[standard]>=0.14.0->feast[redis]==0.18.1->feast-azure-provider) (3.5.0)\n",
            "Requirement already satisfied: h11>=0.8 in /anaconda/envs/azureml_py38/lib/python3.8/site-packages (from uvicorn[standard]>=0.14.0->feast[redis]==0.18.1->feast-azure-provider) (0.13.0)\n",
            "Requirement already satisfied: python-dotenv>=0.13; extra == \"standard\" in /anaconda/envs/azureml_py38/lib/python3.8/site-packages (from uvicorn[standard]>=0.14.0->feast[redis]==0.18.1->feast-azure-provider) (0.19.2)\n",
            "Requirement already satisfied: uvloop!=0.15.0,!=0.15.1,>=0.14.0; (sys_platform != \"win32\" and (sys_platform != \"cygwin\" and platform_python_implementation != \"PyPy\")) and extra == \"standard\" in /anaconda/envs/azureml_py38/lib/python3.8/site-packages (from uvicorn[standard]>=0.14.0->feast[redis]==0.18.1->feast-azure-provider) (0.16.0)\n",
            "Requirement already satisfied: httptools<0.4.0,>=0.2.0; extra == \"standard\" in /anaconda/envs/azureml_py38/lib/python3.8/site-packages (from uvicorn[standard]>=0.14.0->feast[redis]==0.18.1->feast-azure-provider) (0.3.0)\n",
            "Requirement already satisfied: watchgod>=0.6; extra == \"standard\" in /anaconda/envs/azureml_py38/lib/python3.8/site-packages (from uvicorn[standard]>=0.14.0->feast[redis]==0.18.1->feast-azure-provider) (0.8.1)\n",
            "Requirement already satisfied: websockets>=10.0; extra == \"standard\" in /anaconda/envs/azureml_py38/lib/python3.8/site-packages (from uvicorn[standard]>=0.14.0->feast[redis]==0.18.1->feast-azure-provider) (10.2)\n",
            "Requirement already satisfied: pytz>=2017.3 in /anaconda/envs/azureml_py38/lib/python3.8/site-packages (from pandas>=1.0.0->feast[redis]==0.18.1->feast-azure-provider) (2021.3)\n",
            "Requirement already satisfied: python-dateutil>=2.7.3 in /anaconda/envs/azureml_py38/lib/python3.8/site-packages (from pandas>=1.0.0->feast[redis]==0.18.1->feast-azure-provider) (2.8.2)\n",
            "Requirement already satisfied: typing-extensions>=3.7.4.3 in /anaconda/envs/azureml_py38/lib/python3.8/site-packages (from pydantic>=1.0.0->feast[redis]==0.18.1->feast-azure-provider) (4.0.1)\n",
            "Requirement already satisfied: deprecated>=1.2.3 in /anaconda/envs/azureml_py38/lib/python3.8/site-packages (from redis>=4.1.0; extra == \"redis\"->feast[redis]==0.18.1->feast-azure-provider) (1.2.13)\n",
            "Requirement already satisfied: packaging>=20.4 in /anaconda/envs/azureml_py38/lib/python3.8/site-packages (from redis>=4.1.0; extra == \"redis\"->feast[redis]==0.18.1->feast-azure-provider) (21.3)\n",
            "Requirement already satisfied: idna<4,>=2.5; python_version >= \"3\" in /anaconda/envs/azureml_py38/lib/python3.8/site-packages (from requests~=2.16->msrest>=0.6.21->azure-storage-blob>=0.37.0->feast-azure-provider) (3.3)\n",
            "Requirement already satisfied: charset-normalizer~=2.0.0; python_version >= \"3\" in /anaconda/envs/azureml_py38/lib/python3.8/site-packages (from requests~=2.16->msrest>=0.6.21->azure-storage-blob>=0.37.0->feast-azure-provider) (2.0.10)\n",
            "Requirement already satisfied: urllib3<1.27,>=1.21.1 in /anaconda/envs/azureml_py38/lib/python3.8/site-packages (from requests~=2.16->msrest>=0.6.21->azure-storage-blob>=0.37.0->feast-azure-provider) (1.26.7)\n",
            "Requirement already satisfied: oauthlib>=3.0.0 in /anaconda/envs/azureml_py38/lib/python3.8/site-packages (from requests-oauthlib>=0.5.0->msrest>=0.6.21->azure-storage-blob>=0.37.0->feast-azure-provider) (3.1.1)\n",
            "Requirement already satisfied: pycparser in /anaconda/envs/azureml_py38/lib/python3.8/site-packages (from cffi>=1.12->cryptography>=2.1.4->azure-storage-blob>=0.37.0->feast-azure-provider) (2.21)\n",
            "Requirement already satisfied: anyio<4,>=3.0.0 in /anaconda/envs/azureml_py38/lib/python3.8/site-packages (from starlette==0.17.1->fastapi>=0.68.0->feast[redis]==0.18.1->feast-azure-provider) (3.5.0)\n",
            "Requirement already satisfied: rsa<5,>=3.1.4; python_version >= \"3.6\" in /anaconda/envs/azureml_py38/lib/python3.8/site-packages (from google-auth<3.0dev,>=1.25.0->google-api-core>=1.23.0->feast[redis]==0.18.1->feast-azure-provider) (4.8)\n",
            "Requirement already satisfied: cachetools<6.0,>=2.0.0 in /anaconda/envs/azureml_py38/lib/python3.8/site-packages (from google-auth<3.0dev,>=1.25.0->google-api-core>=1.23.0->feast[redis]==0.18.1->feast-azure-provider) (5.0.0)\n",
            "Requirement already satisfied: pyasn1-modules>=0.2.1 in /anaconda/envs/azureml_py38/lib/python3.8/site-packages (from google-auth<3.0dev,>=1.25.0->google-api-core>=1.23.0->feast[redis]==0.18.1->feast-azure-provider) (0.2.8)\n",
            "Requirement already satisfied: wrapt<2,>=1.10 in /anaconda/envs/azureml_py38/lib/python3.8/site-packages (from deprecated>=1.2.3->redis>=4.1.0; extra == \"redis\"->feast[redis]==0.18.1->feast-azure-provider) (1.12.1)\n",
            "Requirement already satisfied: pyparsing!=3.0.5,>=2.0.2 in /anaconda/envs/azureml_py38/lib/python3.8/site-packages (from packaging>=20.4->redis>=4.1.0; extra == \"redis\"->feast[redis]==0.18.1->feast-azure-provider) (3.0.6)\n",
            "Requirement already satisfied: sniffio>=1.1 in /anaconda/envs/azureml_py38/lib/python3.8/site-packages (from anyio<4,>=3.0.0->starlette==0.17.1->fastapi>=0.68.0->feast[redis]==0.18.1->feast-azure-provider) (1.2.0)\n",
            "Requirement already satisfied: pyasn1>=0.1.3 in /anaconda/envs/azureml_py38/lib/python3.8/site-packages (from rsa<5,>=3.1.4; python_version >= \"3.6\"->google-auth<3.0dev,>=1.25.0->google-api-core>=1.23.0->feast[redis]==0.18.1->feast-azure-provider) (0.4.8)\n",
            "Note: you may need to restart the kernel to use updated packages.\n",
            "Requirement already satisfied: azure-cli in /anaconda/envs/azureml_py38/lib/python3.8/site-packages (2.33.0)\n",
            "Requirement already satisfied: urllib3[secure] in /anaconda/envs/azureml_py38/lib/python3.8/site-packages (from azure-cli) (1.26.7)\n",
            "Requirement already satisfied: azure-keyvault-administration==4.0.0b3 in /anaconda/envs/azureml_py38/lib/python3.8/site-packages (from azure-cli) (4.0.0b3)\n",
            "Requirement already satisfied: azure-mgmt-signalr~=1.0.0b2 in /anaconda/envs/azureml_py38/lib/python3.8/site-packages (from azure-cli) (1.0.0)\n",
            "Requirement already satisfied: azure-mgmt-recoveryservices~=2.0.0 in /anaconda/envs/azureml_py38/lib/python3.8/site-packages (from azure-cli) (2.0.0)\n",
            "Requirement already satisfied: azure-mgmt-eventgrid==9.0.0 in /anaconda/envs/azureml_py38/lib/python3.8/site-packages (from azure-cli) (9.0.0)\n",
            "Requirement already satisfied: azure-storage-common~=1.4 in /anaconda/envs/azureml_py38/lib/python3.8/site-packages (from azure-cli) (1.4.2)\n",
            "Requirement already satisfied: websocket-client~=0.56.0 in /anaconda/envs/azureml_py38/lib/python3.8/site-packages (from azure-cli) (0.56.0)\n",
            "Requirement already satisfied: azure-mgmt-hdinsight~=9.0.0 in /anaconda/envs/azureml_py38/lib/python3.8/site-packages (from azure-cli) (9.0.0)\n",
            "Requirement already satisfied: azure-mgmt-imagebuilder~=1.0.0 in /anaconda/envs/azureml_py38/lib/python3.8/site-packages (from azure-cli) (1.0.0)\n",
            "Requirement already satisfied: xmltodict~=0.12 in /anaconda/envs/azureml_py38/lib/python3.8/site-packages (from azure-cli) (0.12.0)\n",
            "Requirement already satisfied: azure-mgmt-consumption~=2.0 in /anaconda/envs/azureml_py38/lib/python3.8/site-packages (from azure-cli) (2.0.0)\n",
            "Requirement already satisfied: azure-mgmt-loganalytics~=12.0.0 in /anaconda/envs/azureml_py38/lib/python3.8/site-packages (from azure-cli) (12.0.0)\n",
            "Requirement already satisfied: azure-mgmt-keyvault==9.3.0 in /anaconda/envs/azureml_py38/lib/python3.8/site-packages (from azure-cli) (9.3.0)\n",
            "Requirement already satisfied: azure-mgmt-search~=8.0 in /anaconda/envs/azureml_py38/lib/python3.8/site-packages (from azure-cli) (8.0.0)\n",
            "Requirement already satisfied: azure-synapse-spark~=0.2.0 in /anaconda/envs/azureml_py38/lib/python3.8/site-packages (from azure-cli) (0.2.0)\n",
            "Requirement already satisfied: azure-appconfiguration~=1.1.1 in /anaconda/envs/azureml_py38/lib/python3.8/site-packages (from azure-cli) (1.1.1)\n",
            "Requirement already satisfied: azure-mgmt-media~=7.0 in /anaconda/envs/azureml_py38/lib/python3.8/site-packages (from azure-cli) (7.0.0)\n",
            "Requirement already satisfied: scp~=0.13.2 in /anaconda/envs/azureml_py38/lib/python3.8/site-packages (from azure-cli) (0.13.6)\n",
            "Requirement already satisfied: azure-mgmt-deploymentmanager~=0.2.0 in /anaconda/envs/azureml_py38/lib/python3.8/site-packages (from azure-cli) (0.2.0)\n",
            "Requirement already satisfied: fabric~=2.4 in /anaconda/envs/azureml_py38/lib/python3.8/site-packages (from azure-cli) (2.6.0)\n",
            "Requirement already satisfied: jsondiff~=1.3.0 in /anaconda/envs/azureml_py38/lib/python3.8/site-packages (from azure-cli) (1.3.1)\n",
            "Requirement already satisfied: azure-mgmt-iotcentral~=9.0.0 in /anaconda/envs/azureml_py38/lib/python3.8/site-packages (from azure-cli) (9.0.0)\n",
            "Requirement already satisfied: azure-synapse-managedprivateendpoints~=0.3.0 in /anaconda/envs/azureml_py38/lib/python3.8/site-packages (from azure-cli) (0.3.0)\n",
            "Requirement already satisfied: azure-mgmt-cosmosdb~=7.0.0b2 in /anaconda/envs/azureml_py38/lib/python3.8/site-packages (from azure-cli) (7.0.0b2)\n",
            "Requirement already satisfied: azure-mgmt-web~=4.0.0 in /anaconda/envs/azureml_py38/lib/python3.8/site-packages (from azure-cli) (4.0.0)\n",
            "Requirement already satisfied: azure-mgmt-rdbms~=10.0.0 in /anaconda/envs/azureml_py38/lib/python3.8/site-packages (from azure-cli) (10.0.0)\n",
            "Requirement already satisfied: azure-mgmt-resource==20.0.0 in /anaconda/envs/azureml_py38/lib/python3.8/site-packages (from azure-cli) (20.0.0)\n",
            "Requirement already satisfied: azure-mgmt-sql~=3.0.1 in /anaconda/envs/azureml_py38/lib/python3.8/site-packages (from azure-cli) (3.0.1)\n",
            "Requirement already satisfied: azure-mgmt-netapp~=6.0.1 in /anaconda/envs/azureml_py38/lib/python3.8/site-packages (from azure-cli) (6.0.1)\n",
            "Requirement already satisfied: azure-cli-core==2.33.0 in /anaconda/envs/azureml_py38/lib/python3.8/site-packages (from azure-cli) (2.33.0)\n",
            "Requirement already satisfied: azure-mgmt-containerservice~=16.4.0 in /anaconda/envs/azureml_py38/lib/python3.8/site-packages (from azure-cli) (16.4.0)\n",
            "Requirement already satisfied: azure-mgmt-datalake-store~=0.5.0 in /anaconda/envs/azureml_py38/lib/python3.8/site-packages (from azure-cli) (0.5.0)\n",
            "Requirement already satisfied: azure-mgmt-datamigration~=10.0.0 in /anaconda/envs/azureml_py38/lib/python3.8/site-packages (from azure-cli) (10.0.0)\n",
            "Requirement already satisfied: semver==2.13.0 in /anaconda/envs/azureml_py38/lib/python3.8/site-packages (from azure-cli) (2.13.0)\n",
            "Requirement already satisfied: azure-mgmt-recoveryservicesbackup~=4.0.0 in /anaconda/envs/azureml_py38/lib/python3.8/site-packages (from azure-cli) (4.0.0)\n",
            "Requirement already satisfied: azure-mgmt-datalake-analytics~=0.2.1 in /anaconda/envs/azureml_py38/lib/python3.8/site-packages (from azure-cli) (0.2.1)\n",
            "Requirement already satisfied: azure-mgmt-maps~=2.0.0 in /anaconda/envs/azureml_py38/lib/python3.8/site-packages (from azure-cli) (2.0.0)\n",
            "Requirement already satisfied: azure-cosmos>=3.0.2,~=3.0 in /anaconda/envs/azureml_py38/lib/python3.8/site-packages (from azure-cli) (3.2.0)\n",
            "Requirement already satisfied: azure-mgmt-servicefabricmanagedclusters~=1.0.0 in /anaconda/envs/azureml_py38/lib/python3.8/site-packages (from azure-cli) (1.0.0)\n",
            "Requirement already satisfied: azure-keyvault-keys==4.5.0b4 in /anaconda/envs/azureml_py38/lib/python3.8/site-packages (from azure-cli) (4.5.0b4)\n",
            "Requirement already satisfied: colorama~=0.4.4 in /anaconda/envs/azureml_py38/lib/python3.8/site-packages (from azure-cli) (0.4.4)\n",
            "Requirement already satisfied: azure-mgmt-redis~=13.1.0 in /anaconda/envs/azureml_py38/lib/python3.8/site-packages (from azure-cli) (13.1.0)\n",
            "Requirement already satisfied: azure-mgmt-databoxedge~=1.0.0 in /anaconda/envs/azureml_py38/lib/python3.8/site-packages (from azure-cli) (1.0.0)\n",
            "Requirement already satisfied: azure-mgmt-policyinsights~=1.0.0 in /anaconda/envs/azureml_py38/lib/python3.8/site-packages (from azure-cli) (1.0.0)\n",
            "Requirement already satisfied: azure-mgmt-servicefabric~=1.0.0 in /anaconda/envs/azureml_py38/lib/python3.8/site-packages (from azure-cli) (1.0.0)\n",
            "Requirement already satisfied: azure-mgmt-storage~=19.0.0 in /anaconda/envs/azureml_py38/lib/python3.8/site-packages (from azure-cli) (19.0.0)\n",
            "Requirement already satisfied: azure-mgmt-msi~=0.2 in /anaconda/envs/azureml_py38/lib/python3.8/site-packages (from azure-cli) (0.2.0)\n",
            "Requirement already satisfied: azure-graphrbac~=0.60.0 in /anaconda/envs/azureml_py38/lib/python3.8/site-packages (from azure-cli) (0.60.0)\n",
            "Requirement already satisfied: azure-mgmt-iothubprovisioningservices~=1.0.0 in /anaconda/envs/azureml_py38/lib/python3.8/site-packages (from azure-cli) (1.0.0)\n",
            "Requirement already satisfied: azure-mgmt-sqlvirtualmachine~=1.0.0b1 in /anaconda/envs/azureml_py38/lib/python3.8/site-packages (from azure-cli) (1.0.0b1)\n",
            "Requirement already satisfied: azure-mgmt-network~=19.3.0 in /anaconda/envs/azureml_py38/lib/python3.8/site-packages (from azure-cli) (19.3.0)\n",
            "Requirement already satisfied: chardet~=3.0.4 in /anaconda/envs/azureml_py38/lib/python3.8/site-packages (from azure-cli) (3.0.4)\n",
            "Requirement already satisfied: azure-mgmt-appconfiguration~=2.0.0 in /anaconda/envs/azureml_py38/lib/python3.8/site-packages (from azure-cli) (2.0.0)\n",
            "Requirement already satisfied: azure-mgmt-billing==6.0.0 in /anaconda/envs/azureml_py38/lib/python3.8/site-packages (from azure-cli) (6.0.0)\n",
            "Requirement already satisfied: distro in /anaconda/envs/azureml_py38/lib/python3.8/site-packages (from azure-cli) (1.6.0)\n",
            "Requirement already satisfied: azure-mgmt-compute~=23.1.0 in /anaconda/envs/azureml_py38/lib/python3.8/site-packages (from azure-cli) (23.1.0)\n",
            "Requirement already satisfied: azure-mgmt-cognitiveservices~=13.0.0 in /anaconda/envs/azureml_py38/lib/python3.8/site-packages (from azure-cli) (13.0.0)\n",
            "Requirement already satisfied: azure-mgmt-managedservices~=1.0 in /anaconda/envs/azureml_py38/lib/python3.8/site-packages (from azure-cli) (1.0.0)\n",
            "Requirement already satisfied: azure-mgmt-dns~=8.0.0 in /anaconda/envs/azureml_py38/lib/python3.8/site-packages (from azure-cli) (8.0.0)\n",
            "Requirement already satisfied: azure-mgmt-servicelinker==1.0.0b1 in /anaconda/envs/azureml_py38/lib/python3.8/site-packages (from azure-cli) (1.0.0b1)\n",
            "Requirement already satisfied: azure-mgmt-extendedlocation~=1.0.0b2 in /anaconda/envs/azureml_py38/lib/python3.8/site-packages (from azure-cli) (1.0.0)\n",
            "Requirement already satisfied: azure-mgmt-batchai~=7.0.0b1 in /anaconda/envs/azureml_py38/lib/python3.8/site-packages (from azure-cli) (7.0.0b1)\n",
            "Requirement already satisfied: azure-mgmt-privatedns~=1.0.0 in /anaconda/envs/azureml_py38/lib/python3.8/site-packages (from azure-cli) (1.0.0)\n",
            "Requirement already satisfied: azure-mgmt-managementgroups~=0.1 in /anaconda/envs/azureml_py38/lib/python3.8/site-packages (from azure-cli) (0.2.0)\n",
            "Requirement already satisfied: azure-synapse-artifacts~=0.10.0 in /anaconda/envs/azureml_py38/lib/python3.8/site-packages (from azure-cli) (0.10.0)\n",
            "Requirement already satisfied: azure-mgmt-security~=2.0.0b1 in /anaconda/envs/azureml_py38/lib/python3.8/site-packages (from azure-cli) (2.0.0b1)\n",
            "Requirement already satisfied: azure-mgmt-containerinstance~=9.1.0 in /anaconda/envs/azureml_py38/lib/python3.8/site-packages (from azure-cli) (9.1.0)\n",
            "Requirement already satisfied: PyNaCl~=1.4.0 in /anaconda/envs/azureml_py38/lib/python3.8/site-packages (from azure-cli) (1.4.0)\n",
            "Requirement already satisfied: javaproperties~=0.5.1 in /anaconda/envs/azureml_py38/lib/python3.8/site-packages (from azure-cli) (0.5.2)\n",
            "Requirement already satisfied: azure-mgmt-marketplaceordering==1.1.0 in /anaconda/envs/azureml_py38/lib/python3.8/site-packages (from azure-cli) (1.1.0)\n",
            "Requirement already satisfied: azure-mgmt-advisor==9.0.0 in /anaconda/envs/azureml_py38/lib/python3.8/site-packages (from azure-cli) (9.0.0)\n",
            "Requirement already satisfied: azure-mgmt-servicebus~=6.0.0 in /anaconda/envs/azureml_py38/lib/python3.8/site-packages (from azure-cli) (6.0.0)\n",
            "Requirement already satisfied: azure-mgmt-monitor~=3.0.0 in /anaconda/envs/azureml_py38/lib/python3.8/site-packages (from azure-cli) (3.0.0)\n",
            "Requirement already satisfied: azure-mgmt-kusto~=0.3.0 in /anaconda/envs/azureml_py38/lib/python3.8/site-packages (from azure-cli) (0.3.0)\n",
            "Requirement already satisfied: azure-synapse-accesscontrol~=0.5.0 in /anaconda/envs/azureml_py38/lib/python3.8/site-packages (from azure-cli) (0.5.0)\n",
            "Requirement already satisfied: azure-mgmt-devtestlabs~=4.0 in /anaconda/envs/azureml_py38/lib/python3.8/site-packages (from azure-cli) (4.0.0)\n",
            "Requirement already satisfied: sshtunnel~=0.1.4 in /anaconda/envs/azureml_py38/lib/python3.8/site-packages (from azure-cli) (0.1.5)\n",
            "Requirement already satisfied: azure-mgmt-cdn==11.0.0 in /anaconda/envs/azureml_py38/lib/python3.8/site-packages (from azure-cli) (11.0.0)\n",
            "Requirement already satisfied: azure-mgmt-authorization~=0.61.0 in /anaconda/envs/azureml_py38/lib/python3.8/site-packages (from azure-cli) (0.61.0)\n",
            "Requirement already satisfied: azure-mgmt-synapse~=2.1.0b2 in /anaconda/envs/azureml_py38/lib/python3.8/site-packages (from azure-cli) (2.1.0b4)\n",
            "Requirement already satisfied: azure-mgmt-batch~=16.0.0 in /anaconda/envs/azureml_py38/lib/python3.8/site-packages (from azure-cli) (16.0.0)\n",
            "Requirement already satisfied: azure-identity in /anaconda/envs/azureml_py38/lib/python3.8/site-packages (from azure-cli) (1.7.0)\n",
            "Requirement already satisfied: packaging<22.0,>=20.9 in /anaconda/envs/azureml_py38/lib/python3.8/site-packages (from azure-cli) (21.3)\n",
            "Requirement already satisfied: azure-mgmt-iothub==2.1.0 in /anaconda/envs/azureml_py38/lib/python3.8/site-packages (from azure-cli) (2.1.0)\n",
            "Requirement already satisfied: six>=1.10.0 in /anaconda/envs/azureml_py38/lib/python3.8/site-packages (from azure-cli) (1.16.0)\n",
            "Requirement already satisfied: azure-multiapi-storage~=0.7.0 in /anaconda/envs/azureml_py38/lib/python3.8/site-packages (from azure-cli) (0.7.0)\n",
            "Requirement already satisfied: PyGithub~=1.38 in /anaconda/envs/azureml_py38/lib/python3.8/site-packages (from azure-cli) (1.55)\n",
            "Requirement already satisfied: antlr4-python3-runtime~=4.7.2 in /anaconda/envs/azureml_py38/lib/python3.8/site-packages (from azure-cli) (4.7.2)\n",
            "Requirement already satisfied: azure-mgmt-botservice~=0.3.0 in /anaconda/envs/azureml_py38/lib/python3.8/site-packages (from azure-cli) (0.3.0)\n",
            "Requirement already satisfied: azure-mgmt-eventhub~=9.1.0 in /anaconda/envs/azureml_py38/lib/python3.8/site-packages (from azure-cli) (9.1.0)\n",
            "Requirement already satisfied: azure-mgmt-trafficmanager~=1.0.0 in /anaconda/envs/azureml_py38/lib/python3.8/site-packages (from azure-cli) (1.0.0)\n",
            "Requirement already satisfied: azure-mgmt-reservations==0.6.0 in /anaconda/envs/azureml_py38/lib/python3.8/site-packages (from azure-cli) (0.6.0)\n",
            "Requirement already satisfied: azure-mgmt-applicationinsights~=1.0.0 in /anaconda/envs/azureml_py38/lib/python3.8/site-packages (from azure-cli) (1.0.0)\n",
            "Requirement already satisfied: azure-mgmt-apimanagement~=0.2.0 in /anaconda/envs/azureml_py38/lib/python3.8/site-packages (from azure-cli) (0.2.0)\n",
            "Requirement already satisfied: azure-loganalytics~=0.1.0 in /anaconda/envs/azureml_py38/lib/python3.8/site-packages (from azure-cli) (0.1.1)\n",
            "Requirement already satisfied: azure-mgmt-containerregistry==8.2.0 in /anaconda/envs/azureml_py38/lib/python3.8/site-packages (from azure-cli) (8.2.0)\n",
            "Requirement already satisfied: azure-batch~=11.0.0 in /anaconda/envs/azureml_py38/lib/python3.8/site-packages (from azure-cli) (11.0.0)\n",
            "Requirement already satisfied: azure-datalake-store~=0.0.49 in /anaconda/envs/azureml_py38/lib/python3.8/site-packages (from azure-cli) (0.0.52)\n",
            "Requirement already satisfied: azure-keyvault~=1.1.0 in /anaconda/envs/azureml_py38/lib/python3.8/site-packages (from azure-cli) (1.1.0)\n",
            "Requirement already satisfied: azure-mgmt-redhatopenshift==1.0.0 in /anaconda/envs/azureml_py38/lib/python3.8/site-packages (from azure-cli) (1.0.0)\n",
            "Requirement already satisfied: azure-mgmt-relay~=0.1.0 in /anaconda/envs/azureml_py38/lib/python3.8/site-packages (from azure-cli) (0.1.0)\n",
            "Requirement already satisfied: cryptography>=1.3.4; extra == \"secure\" in /anaconda/envs/azureml_py38/lib/python3.8/site-packages (from urllib3[secure]->azure-cli) (36.0.1)\n",
            "Requirement already satisfied: certifi; extra == \"secure\" in /anaconda/envs/azureml_py38/lib/python3.8/site-packages (from urllib3[secure]->azure-cli) (2021.10.8)\n",
            "Requirement already satisfied: pyOpenSSL>=0.14; extra == \"secure\" in /anaconda/envs/azureml_py38/lib/python3.8/site-packages (from urllib3[secure]->azure-cli) (21.0.0)\n",
            "Requirement already satisfied: idna>=2.0.0; extra == \"secure\" in /anaconda/envs/azureml_py38/lib/python3.8/site-packages (from urllib3[secure]->azure-cli) (3.3)\n",
            "Requirement already satisfied: azure-common~=1.1 in /anaconda/envs/azureml_py38/lib/python3.8/site-packages (from azure-keyvault-administration==4.0.0b3->azure-cli) (1.1.27)\n",
            "Requirement already satisfied: msrest>=0.6.21 in /anaconda/envs/azureml_py38/lib/python3.8/site-packages (from azure-keyvault-administration==4.0.0b3->azure-cli) (0.6.21)\n",
            "Requirement already satisfied: azure-core<2.0.0,>=1.7.0 in /anaconda/envs/azureml_py38/lib/python3.8/site-packages (from azure-keyvault-administration==4.0.0b3->azure-cli) (1.21.1)\n",
            "Requirement already satisfied: azure-mgmt-core<2.0.0,>=1.2.0 in /anaconda/envs/azureml_py38/lib/python3.8/site-packages (from azure-mgmt-signalr~=1.0.0b2->azure-cli) (1.3.0)\n",
            "Requirement already satisfied: python-dateutil in /anaconda/envs/azureml_py38/lib/python3.8/site-packages (from azure-storage-common~=1.4->azure-cli) (2.8.2)\n",
            "Requirement already satisfied: requests in /anaconda/envs/azureml_py38/lib/python3.8/site-packages (from azure-storage-common~=1.4->azure-cli) (2.27.1)\n",
            "Requirement already satisfied: azure-mgmt-nspkg>=2.0.0 in /anaconda/envs/azureml_py38/lib/python3.8/site-packages (from azure-mgmt-consumption~=2.0->azure-cli) (3.0.2)\n",
            "Requirement already satisfied: msrestazure<2.0.0,>=0.4.20 in /anaconda/envs/azureml_py38/lib/python3.8/site-packages (from azure-mgmt-consumption~=2.0->azure-cli) (0.6.4)\n",
            "Requirement already satisfied: paramiko in /anaconda/envs/azureml_py38/lib/python3.8/site-packages (from scp~=0.13.2->azure-cli) (2.9.2)\n",
            "Requirement already satisfied: pathlib2 in /anaconda/envs/azureml_py38/lib/python3.8/site-packages (from fabric~=2.4->azure-cli) (2.3.7)\n",
            "Requirement already satisfied: invoke<2.0,>=1.3 in /anaconda/envs/azureml_py38/lib/python3.8/site-packages (from fabric~=2.4->azure-cli) (1.6.0)\n",
            "Requirement already satisfied: psutil~=5.9 in /anaconda/envs/azureml_py38/lib/python3.8/site-packages (from azure-cli-core==2.33.0->azure-cli) (5.9.0)\n",
            "Requirement already satisfied: msal<2.0.0,>=1.16.0 in /anaconda/envs/azureml_py38/lib/python3.8/site-packages (from azure-cli-core==2.33.0->azure-cli) (1.16.0)\n",
            "Requirement already satisfied: jmespath in /anaconda/envs/azureml_py38/lib/python3.8/site-packages (from azure-cli-core==2.33.0->azure-cli) (0.10.0)\n",
            "Requirement already satisfied: humanfriendly~=10.0 in /anaconda/envs/azureml_py38/lib/python3.8/site-packages (from azure-cli-core==2.33.0->azure-cli) (10.0)\n",
            "Requirement already satisfied: argcomplete~=1.8 in /anaconda/envs/azureml_py38/lib/python3.8/site-packages (from azure-cli-core==2.33.0->azure-cli) (1.12.3)\n",
            "Requirement already satisfied: azure-cli-telemetry==1.0.6.* in /anaconda/envs/azureml_py38/lib/python3.8/site-packages (from azure-cli-core==2.33.0->azure-cli) (1.0.6)\n",
            "Requirement already satisfied: pkginfo>=1.5.0.1 in /anaconda/envs/azureml_py38/lib/python3.8/site-packages (from azure-cli-core==2.33.0->azure-cli) (1.8.2)\n",
            "Requirement already satisfied: PyJWT>=2.1.0 in /anaconda/envs/azureml_py38/lib/python3.8/site-packages (from azure-cli-core==2.33.0->azure-cli) (2.3.0)\n",
            "Requirement already satisfied: knack~=0.9.0 in /anaconda/envs/azureml_py38/lib/python3.8/site-packages (from azure-cli-core==2.33.0->azure-cli) (0.9.0)\n",
            "Requirement already satisfied: msal-extensions<0.4,>=0.3.1 in /anaconda/envs/azureml_py38/lib/python3.8/site-packages (from azure-cli-core==2.33.0->azure-cli) (0.3.1)\n",
            "Requirement already satisfied: azure-mgmt-datalake-nspkg>=2.0.0 in /anaconda/envs/azureml_py38/lib/python3.8/site-packages (from azure-mgmt-datalake-store~=0.5.0->azure-cli) (3.0.1)\n",
            "Requirement already satisfied: cffi>=1.4.1 in /anaconda/envs/azureml_py38/lib/python3.8/site-packages (from PyNaCl~=1.4.0->azure-cli) (1.15.0)\n",
            "Requirement already satisfied: pyparsing!=3.0.5,>=2.0.2 in /anaconda/envs/azureml_py38/lib/python3.8/site-packages (from packaging<22.0,>=20.9->azure-cli) (3.0.6)\n",
            "Requirement already satisfied: deprecated in /anaconda/envs/azureml_py38/lib/python3.8/site-packages (from PyGithub~=1.38->azure-cli) (1.2.13)\n",
            "Requirement already satisfied: adal>=0.4.2 in /anaconda/envs/azureml_py38/lib/python3.8/site-packages (from azure-datalake-store~=0.0.49->azure-cli) (1.2.7)\n",
            "Requirement already satisfied: azure-nspkg>=2.0.0 in /anaconda/envs/azureml_py38/lib/python3.8/site-packages (from azure-keyvault~=1.1.0->azure-cli) (3.0.2)\n",
            "Requirement already satisfied: requests-oauthlib>=0.5.0 in /anaconda/envs/azureml_py38/lib/python3.8/site-packages (from msrest>=0.6.21->azure-keyvault-administration==4.0.0b3->azure-cli) (1.3.0)\n",
            "Requirement already satisfied: isodate>=0.6.0 in /anaconda/envs/azureml_py38/lib/python3.8/site-packages (from msrest>=0.6.21->azure-keyvault-administration==4.0.0b3->azure-cli) (0.6.1)\n",
            "Requirement already satisfied: charset-normalizer~=2.0.0; python_version >= \"3\" in /anaconda/envs/azureml_py38/lib/python3.8/site-packages (from requests->azure-storage-common~=1.4->azure-cli) (2.0.10)\n",
            "Requirement already satisfied: bcrypt>=3.1.3 in /anaconda/envs/azureml_py38/lib/python3.8/site-packages (from paramiko->scp~=0.13.2->azure-cli) (3.2.0)\n",
            "Requirement already satisfied: applicationinsights<0.12,>=0.11.1 in /anaconda/envs/azureml_py38/lib/python3.8/site-packages (from azure-cli-telemetry==1.0.6.*->azure-cli-core==2.33.0->azure-cli) (0.11.10)\n",
            "Collecting portalocker~=1.2\n",
            "  Downloading portalocker-1.7.1-py2.py3-none-any.whl (10 kB)\n",
            "Requirement already satisfied: pygments in /anaconda/envs/azureml_py38/lib/python3.8/site-packages (from knack~=0.9.0->azure-cli-core==2.33.0->azure-cli) (2.11.2)\n",
            "Requirement already satisfied: tabulate in /anaconda/envs/azureml_py38/lib/python3.8/site-packages (from knack~=0.9.0->azure-cli-core==2.33.0->azure-cli) (0.8.9)\n",
            "Requirement already satisfied: pyyaml in /anaconda/envs/azureml_py38/lib/python3.8/site-packages (from knack~=0.9.0->azure-cli-core==2.33.0->azure-cli) (6.0)\n",
            "Requirement already satisfied: pycparser in /anaconda/envs/azureml_py38/lib/python3.8/site-packages (from cffi>=1.4.1->PyNaCl~=1.4.0->azure-cli) (2.21)\n",
            "Requirement already satisfied: wrapt<2,>=1.10 in /anaconda/envs/azureml_py38/lib/python3.8/site-packages (from deprecated->PyGithub~=1.38->azure-cli) (1.12.1)\n",
            "Requirement already satisfied: oauthlib>=3.0.0 in /anaconda/envs/azureml_py38/lib/python3.8/site-packages (from requests-oauthlib>=0.5.0->msrest>=0.6.21->azure-keyvault-administration==4.0.0b3->azure-cli) (3.1.1)\n",
            "\u001b[31mERROR: azureml-core 1.38.0 has requirement knack~=0.8.2, but you'll have knack 0.9.0 which is incompatible.\u001b[0m\n",
            "Installing collected packages: portalocker\n",
            "  Attempting uninstall: portalocker\n",
            "    Found existing installation: portalocker 2.3.2\n",
            "    Uninstalling portalocker-2.3.2:\n",
            "      Successfully uninstalled portalocker-2.3.2\n",
            "Successfully installed portalocker-1.7.1\n",
            "Note: you may need to restart the kernel to use updated packages.\n",
            "Requirement already satisfied: snowflake-connector-python==2.7.4 in /anaconda/envs/azureml_py38/lib/python3.8/site-packages (2.7.4)\n",
            "Requirement already satisfied: pytz in /anaconda/envs/azureml_py38/lib/python3.8/site-packages (from snowflake-connector-python==2.7.4) (2021.3)\n",
            "Requirement already satisfied: asn1crypto<2.0.0,>0.24.0 in /anaconda/envs/azureml_py38/lib/python3.8/site-packages (from snowflake-connector-python==2.7.4) (1.5.1)\n",
            "Requirement already satisfied: pyjwt<3.0.0 in /anaconda/envs/azureml_py38/lib/python3.8/site-packages (from snowflake-connector-python==2.7.4) (2.3.0)\n",
            "Requirement already satisfied: cryptography<37.0.0,>=3.1.0 in /anaconda/envs/azureml_py38/lib/python3.8/site-packages (from snowflake-connector-python==2.7.4) (36.0.1)\n",
            "Requirement already satisfied: oscrypto<2.0.0 in /anaconda/envs/azureml_py38/lib/python3.8/site-packages (from snowflake-connector-python==2.7.4) (1.3.0)\n",
            "Requirement already satisfied: idna<4,>=2.5 in /anaconda/envs/azureml_py38/lib/python3.8/site-packages (from snowflake-connector-python==2.7.4) (3.3)\n",
            "Requirement already satisfied: pyOpenSSL<22.0.0,>=16.2.0 in /anaconda/envs/azureml_py38/lib/python3.8/site-packages (from snowflake-connector-python==2.7.4) (21.0.0)\n",
            "Requirement already satisfied: requests<3.0.0 in /anaconda/envs/azureml_py38/lib/python3.8/site-packages (from snowflake-connector-python==2.7.4) (2.27.1)\n",
            "Requirement already satisfied: setuptools>34.0.0 in /anaconda/envs/azureml_py38/lib/python3.8/site-packages (from snowflake-connector-python==2.7.4) (50.3.0)\n",
            "Requirement already satisfied: pycryptodomex!=3.5.0,<4.0.0,>=3.2 in /anaconda/envs/azureml_py38/lib/python3.8/site-packages (from snowflake-connector-python==2.7.4) (3.14.1)\n",
            "Requirement already satisfied: cffi<2.0.0,>=1.9 in /anaconda/envs/azureml_py38/lib/python3.8/site-packages (from snowflake-connector-python==2.7.4) (1.15.0)\n",
            "Requirement already satisfied: certifi>=2017.4.17 in /anaconda/envs/azureml_py38/lib/python3.8/site-packages (from snowflake-connector-python==2.7.4) (2021.10.8)\n",
            "Requirement already satisfied: charset-normalizer~=2.0.0 in /anaconda/envs/azureml_py38/lib/python3.8/site-packages (from snowflake-connector-python==2.7.4) (2.0.10)\n",
            "Requirement already satisfied: six>=1.5.2 in /anaconda/envs/azureml_py38/lib/python3.8/site-packages (from pyOpenSSL<22.0.0,>=16.2.0->snowflake-connector-python==2.7.4) (1.16.0)\n",
            "Requirement already satisfied: urllib3<1.27,>=1.21.1 in /anaconda/envs/azureml_py38/lib/python3.8/site-packages (from requests<3.0.0->snowflake-connector-python==2.7.4) (1.26.7)\n",
            "Requirement already satisfied: pycparser in /anaconda/envs/azureml_py38/lib/python3.8/site-packages (from cffi<2.0.0,>=1.9->snowflake-connector-python==2.7.4) (2.21)\n",
            "Note: you may need to restart the kernel to use updated packages.\n",
            "Requirement already satisfied: pyarrow==6.0.1 in /anaconda/envs/azureml_py38/lib/python3.8/site-packages (6.0.1)\n",
            "Requirement already satisfied: numpy>=1.16.6 in /anaconda/envs/azureml_py38/lib/python3.8/site-packages (from pyarrow==6.0.1) (1.22.2)\n",
            "Note: you may need to restart the kernel to use updated packages.\n",
            "Requirement already satisfied: lightgbm in /anaconda/envs/azureml_py38/lib/python3.8/site-packages (2.3.0)\n",
            "Requirement already satisfied: numpy in /anaconda/envs/azureml_py38/lib/python3.8/site-packages (from lightgbm) (1.22.2)\n",
            "Requirement already satisfied: scipy in /anaconda/envs/azureml_py38/lib/python3.8/site-packages (from lightgbm) (1.5.2)\n",
            "Requirement already satisfied: scikit-learn in /anaconda/envs/azureml_py38/lib/python3.8/site-packages (from lightgbm) (0.24.2)\n",
            "Requirement already satisfied: threadpoolctl>=2.0.0 in /anaconda/envs/azureml_py38/lib/python3.8/site-packages (from scikit-learn->lightgbm) (2.1.0)\n",
            "Requirement already satisfied: joblib>=0.11 in /anaconda/envs/azureml_py38/lib/python3.8/site-packages (from scikit-learn->lightgbm) (0.14.1)\n",
            "Note: you may need to restart the kernel to use updated packages.\n",
            "Requirement already satisfied: mlflow in /anaconda/envs/azureml_py38/lib/python3.8/site-packages (1.23.1)\n",
            "Requirement already satisfied: cloudpickle in /anaconda/envs/azureml_py38/lib/python3.8/site-packages (from mlflow) (2.0.0)\n",
            "Requirement already satisfied: sqlalchemy in /anaconda/envs/azureml_py38/lib/python3.8/site-packages (from mlflow) (1.4.31)\n",
            "Requirement already satisfied: alembic in /anaconda/envs/azureml_py38/lib/python3.8/site-packages (from mlflow) (1.7.6)\n",
            "Requirement already satisfied: scipy in /anaconda/envs/azureml_py38/lib/python3.8/site-packages (from mlflow) (1.5.2)\n",
            "Requirement already satisfied: protobuf>=3.7.0 in /anaconda/envs/azureml_py38/lib/python3.8/site-packages (from mlflow) (3.19.3)\n",
            "Requirement already satisfied: docker>=4.0.0 in /anaconda/envs/azureml_py38/lib/python3.8/site-packages (from mlflow) (5.0.3)\n",
            "Requirement already satisfied: pandas in /anaconda/envs/azureml_py38/lib/python3.8/site-packages (from mlflow) (1.3.4)\n",
            "Requirement already satisfied: sqlparse>=0.3.1 in /anaconda/envs/azureml_py38/lib/python3.8/site-packages (from mlflow) (0.4.2)\n",
            "Requirement already satisfied: pytz in /anaconda/envs/azureml_py38/lib/python3.8/site-packages (from mlflow) (2021.3)\n",
            "Requirement already satisfied: gitpython>=2.1.0 in /anaconda/envs/azureml_py38/lib/python3.8/site-packages (from mlflow) (3.1.26)\n",
            "Requirement already satisfied: databricks-cli>=0.8.7 in /anaconda/envs/azureml_py38/lib/python3.8/site-packages (from mlflow) (0.16.2)\n",
            "Requirement already satisfied: numpy in /anaconda/envs/azureml_py38/lib/python3.8/site-packages (from mlflow) (1.22.2)\n",
            "Requirement already satisfied: pyyaml>=5.1 in /anaconda/envs/azureml_py38/lib/python3.8/site-packages (from mlflow) (6.0)\n",
            "Requirement already satisfied: querystring-parser in /anaconda/envs/azureml_py38/lib/python3.8/site-packages (from mlflow) (1.2.4)\n",
            "Requirement already satisfied: gunicorn; platform_system != \"Windows\" in /anaconda/envs/azureml_py38/lib/python3.8/site-packages (from mlflow) (20.1.0)\n",
            "Requirement already satisfied: click>=7.0 in /anaconda/envs/azureml_py38/lib/python3.8/site-packages (from mlflow) (8.0.3)\n",
            "Requirement already satisfied: importlib-metadata!=4.7.0,>=3.7.0 in /anaconda/envs/azureml_py38/lib/python3.8/site-packages (from mlflow) (4.10.1)\n",
            "Requirement already satisfied: entrypoints in /anaconda/envs/azureml_py38/lib/python3.8/site-packages (from mlflow) (0.3)\n",
            "Requirement already satisfied: Flask in /anaconda/envs/azureml_py38/lib/python3.8/site-packages (from mlflow) (1.0.3)\n",
            "Requirement already satisfied: requests>=2.17.3 in /anaconda/envs/azureml_py38/lib/python3.8/site-packages (from mlflow) (2.27.1)\n",
            "Requirement already satisfied: prometheus-flask-exporter in /anaconda/envs/azureml_py38/lib/python3.8/site-packages (from mlflow) (0.18.7)\n",
            "Requirement already satisfied: packaging in /anaconda/envs/azureml_py38/lib/python3.8/site-packages (from mlflow) (21.3)\n",
            "Requirement already satisfied: greenlet!=0.4.17; python_version >= \"3\" and (platform_machine == \"aarch64\" or (platform_machine == \"ppc64le\" or (platform_machine == \"x86_64\" or (platform_machine == \"amd64\" or (platform_machine == \"AMD64\" or (platform_machine == \"win32\" or platform_machine == \"WIN32\")))))) in /anaconda/envs/azureml_py38/lib/python3.8/site-packages (from sqlalchemy->mlflow) (1.1.2)\n",
            "Requirement already satisfied: Mako in /anaconda/envs/azureml_py38/lib/python3.8/site-packages (from alembic->mlflow) (1.1.6)\n",
            "Requirement already satisfied: importlib-resources; python_version < \"3.9\" in /anaconda/envs/azureml_py38/lib/python3.8/site-packages (from alembic->mlflow) (5.4.0)\n",
            "Requirement already satisfied: websocket-client>=0.32.0 in /anaconda/envs/azureml_py38/lib/python3.8/site-packages (from docker>=4.0.0->mlflow) (0.56.0)\n",
            "Requirement already satisfied: python-dateutil>=2.7.3 in /anaconda/envs/azureml_py38/lib/python3.8/site-packages (from pandas->mlflow) (2.8.2)\n",
            "Requirement already satisfied: gitdb<5,>=4.0.1 in /anaconda/envs/azureml_py38/lib/python3.8/site-packages (from gitpython>=2.1.0->mlflow) (4.0.9)\n",
            "Requirement already satisfied: tabulate>=0.7.7 in /anaconda/envs/azureml_py38/lib/python3.8/site-packages (from databricks-cli>=0.8.7->mlflow) (0.8.9)\n",
            "Requirement already satisfied: six>=1.10.0 in /anaconda/envs/azureml_py38/lib/python3.8/site-packages (from databricks-cli>=0.8.7->mlflow) (1.16.0)\n",
            "Requirement already satisfied: setuptools>=3.0 in /anaconda/envs/azureml_py38/lib/python3.8/site-packages (from gunicorn; platform_system != \"Windows\"->mlflow) (50.3.0)\n",
            "Requirement already satisfied: zipp>=0.5 in /anaconda/envs/azureml_py38/lib/python3.8/site-packages (from importlib-metadata!=4.7.0,>=3.7.0->mlflow) (3.7.0)\n",
            "Requirement already satisfied: Werkzeug>=0.14 in /anaconda/envs/azureml_py38/lib/python3.8/site-packages (from Flask->mlflow) (2.0.2)\n",
            "Requirement already satisfied: itsdangerous>=0.24 in /anaconda/envs/azureml_py38/lib/python3.8/site-packages (from Flask->mlflow) (2.0.1)\n",
            "Requirement already satisfied: Jinja2>=2.10 in /anaconda/envs/azureml_py38/lib/python3.8/site-packages (from Flask->mlflow) (2.11.2)\n",
            "Requirement already satisfied: certifi>=2017.4.17 in /anaconda/envs/azureml_py38/lib/python3.8/site-packages (from requests>=2.17.3->mlflow) (2021.10.8)\n",
            "Requirement already satisfied: idna<4,>=2.5; python_version >= \"3\" in /anaconda/envs/azureml_py38/lib/python3.8/site-packages (from requests>=2.17.3->mlflow) (3.3)\n",
            "Requirement already satisfied: urllib3<1.27,>=1.21.1 in /anaconda/envs/azureml_py38/lib/python3.8/site-packages (from requests>=2.17.3->mlflow) (1.26.7)\n",
            "Requirement already satisfied: charset-normalizer~=2.0.0; python_version >= \"3\" in /anaconda/envs/azureml_py38/lib/python3.8/site-packages (from requests>=2.17.3->mlflow) (2.0.10)\n",
            "Requirement already satisfied: prometheus-client in /anaconda/envs/azureml_py38/lib/python3.8/site-packages (from prometheus-flask-exporter->mlflow) (0.12.0)\n",
            "Requirement already satisfied: pyparsing!=3.0.5,>=2.0.2 in /anaconda/envs/azureml_py38/lib/python3.8/site-packages (from packaging->mlflow) (3.0.6)\n",
            "Requirement already satisfied: MarkupSafe>=0.9.2 in /anaconda/envs/azureml_py38/lib/python3.8/site-packages (from Mako->alembic->mlflow) (2.0.1)\n",
            "Requirement already satisfied: smmap<6,>=3.0.1 in /anaconda/envs/azureml_py38/lib/python3.8/site-packages (from gitdb<5,>=4.0.1->gitpython>=2.1.0->mlflow) (5.0.0)\n",
            "Note: you may need to restart the kernel to use updated packages.\n"
          ]
        }
      ],
      "source": [
        "# All library installations\n",
        "\n",
        "%pip install feast-azure-provider\n",
        "%pip install azure-cli\n",
        "%pip install snowflake-connector-python==2.7.4\n",
        "%pip install pyarrow==6.0.1"
      ]
    },
    {
      "cell_type": "code",
      "execution_count": 1,
      "metadata": {},
      "outputs": [],
      "source": [
        "import pandas as pd\n",
        "import numpy as np\n",
        "import datetime\n",
        "from sklearn.base import BaseEstimator, TransformerMixin\n",
        "# import featuretools as ft\n",
        "from sklearn.feature_selection import SelectKBest, f_classif, RFE\n",
        "from sklearn.tree import DecisionTreeClassifier\n",
        "from sklearn.model_selection import train_test_split, cross_val_score\n",
        "from sklearn.preprocessing import OneHotEncoder, MinMaxScaler\n",
        "# matplotlib and seaborn for plotting\n",
        "# import matplotlib.pyplot as plt\n",
        "# import seaborn as sns\n",
        "# from sklearn.pipeline import Pipeline, FeatureUnion, make_pipeline\n",
        "import warnings\n",
        "warnings.filterwarnings(\"ignore\")\n",
        "import os"
      ]
    },
    {
      "cell_type": "markdown",
      "metadata": {
        "application/vnd.databricks.v1+cell": {
          "inputWidgets": {},
          "nuid": "e6c35e60-4fdc-41f1-a7f6-03c3cfb904b7",
          "showTitle": false,
          "title": ""
        }
      },
      "source": [
        "#### Read Data from Snowflake"
      ]
    },
    {
      "cell_type": "code",
      "execution_count": 7,
      "metadata": {},
      "outputs": [],
      "source": [
        "from azureml.core import Workspace\n",
        "from azureml.core import Keyvault\n",
        "import os\n",
        "ws = Workspace.from_config()\n",
        "keyvault = ws.get_default_keyvault()\n",
        "\n",
        "os.environ[\"REGISTRY_BLOB_KEY\"] = keyvault.get_secret(\"registrytoken\")"
      ]
    },
    {
      "cell_type": "code",
      "execution_count": 8,
      "metadata": {
        "application/vnd.databricks.v1+cell": {
          "inputWidgets": {},
          "nuid": "8942b91e-a052-4174-a92c-7627144764ae",
          "showTitle": false,
          "title": ""
        }
      },
      "outputs": [],
      "source": [
        "#Login Details for snowflake\n",
        "username = \"sakthivel_baskaran\"\n",
        "pwd = keyvault.get_secret(\"sfaccesskey2\")"
      ]
    },
    {
      "cell_type": "code",
      "execution_count": 2,
      "metadata": {},
      "outputs": [],
      "source": [
        "os.environ[\"REGISTRY_BLOB_KEY\"] = 'sp=racwdyti&st=2022-03-16T08:44:21Z&se=2022-12-09T16:44:21Z&spr=https&sv=2020-08-04&sr=b&sig=ZMx%2BpFBaemjiR4j1QRoCGqrbIAQLJ%2F8eJPnx%2Bth4PWQ%3D'\n",
        "\n",
        "username = 'evan912'\n",
        "pwd = 'Evan912912'"
      ]
    },
    {
      "cell_type": "code",
      "execution_count": 5,
      "metadata": {
        "application/vnd.databricks.v1+cell": {
          "inputWidgets": {},
          "nuid": "d7d5f7d9-4b7e-4550-aed4-682e37c312fb",
          "showTitle": false,
          "title": ""
        }
      },
      "outputs": [],
      "source": [
        "import snowflake.connector as snow\n",
        "from snowflake.connector.pandas_tools import write_pandas\n",
        "\n",
        "# Snowflake python connector to populate data from datasource to table in snowflake\n",
        "conn = snow.connect(\n",
        "   user = username,\n",
        "   password = pwd,\n",
        "   account=\"pn93812.southeast-asia.azure\",\n",
        "   warehouse=\"COMMON_WH\",\n",
        "   database=\"TEST\",\n",
        "   schema=\"PUBLIC\"\n",
        ")\n",
        "\n",
        "#Adds Timezone to all datatime column items in the pandas\n",
        "def fix_date_cols(df, tz = 'UTC'):\n",
        "    cols = df.select_dtypes(include=['datetime64[ns]']).columns\n",
        "    for col in cols:\n",
        "        df[col] = df[col].dt.tz_localize(tz)\n",
        "\n",
        "# Wrapper function to upload tables to snowflake\n",
        "#     data: Pandas Datatable sent to Snowflake\n",
        "#     table_title: Snowflake tablename\n",
        "def process_send(data, table_title):\n",
        "    \n",
        "    # remove special characters in columns name\n",
        "    data.columns = data.columns.str.replace(\"[' ', -]\", '_')\n",
        "    data.columns = data.columns.str.replace(\"[(, )]\", '') \n",
        "    \n",
        "    # Add timezone to any datetime type data\n",
        "    fix_date_cols(data)\n",
        "    \n",
        "    #Send data to Snowflake\n",
        "    try:\n",
        "        success, nchunks, nrows, _ = write_pandas(conn, data, table_title, quote_identifiers=False, auto_create_table=True)\n",
        "        print (\"Success: \" + str(success) + ', Chunks: '+ str (nchunks) + ', Rows uploaded: ' + str (nrows))\n",
        "    except Exception as e:\n",
        "        print(e)\n",
        "    print(\"Done.\")\n",
        "    "
      ]
    },
    {
      "cell_type": "code",
      "execution_count": 10,
      "metadata": {
        "application/vnd.databricks.v1+cell": {
          "inputWidgets": {},
          "nuid": "5f1cae0f-b4a9-4535-824f-2df462d52b45",
          "showTitle": false,
          "title": ""
        }
      },
      "outputs": [],
      "source": [
        "\n",
        "cur = conn.cursor()\n",
        "\n",
        "sql = 'select  * from  \"TEST\".\"PUBLIC\".\"APPLICATION_TRAIN\"'\n",
        "cur.execute(sql)\n",
        "application_train = cur.fetch_pandas_all()\n",
        "\n",
        "sql = 'select  * from  \"TEST\".\"PUBLIC\".\"APPLICATION_TEST\"'\n",
        "cur.execute(sql)\n",
        "application_test = cur.fetch_pandas_all()\n",
        "\n",
        "sql = 'select  * from  \"TEST\".\"PUBLIC\".\"BUREAU\"'\n",
        "cur.execute(sql)\n",
        "bureau = cur.fetch_pandas_all()\n",
        "\n",
        "sql = 'select  * from  \"TEST\".\"PUBLIC\".\"BUREAU_BALANCE\"'\n",
        "cur.execute(sql)\n",
        "bureau_balance = cur.fetch_pandas_all()\n",
        "\n",
        "sql = 'select  * from  \"TEST\".\"PUBLIC\".\"CREDIT_CARD_BALANCE\"'\n",
        "cur.execute(sql)\n",
        "credit_card_balance = cur.fetch_pandas_all()\n",
        "\n",
        "sql = 'select  * from  \"TEST\".\"PUBLIC\".\"INSTALLMENTS_PAYMENTS\"'\n",
        "cur.execute(sql)\n",
        "installments_payments = cur.fetch_pandas_all()\n",
        "\n",
        "sql = 'select  * from  \"TEST\".\"PUBLIC\".\"POS_CASH_BALANCE\"'\n",
        "cur.execute(sql)\n",
        "POS_CASH_balance = cur.fetch_pandas_all()\n",
        "\n",
        "sql = 'select  * from  \"TEST\".\"PUBLIC\".\"PREVIOUS_APPLICATION\"'\n",
        "cur.execute(sql)\n",
        "previous_application = cur.fetch_pandas_all()\n",
        "\n"
      ]
    },
    {
      "cell_type": "code",
      "execution_count": 6,
      "metadata": {
        "application/vnd.databricks.v1+cell": {
          "inputWidgets": {},
          "nuid": "fac31836-29c8-4392-bd10-083e6af0604a",
          "showTitle": false,
          "title": ""
        }
      },
      "outputs": [],
      "source": [
        "application_train = pd.read_csv('data/application_train.csv')\n",
        "application_test = pd.read_csv('data/application_test.csv')\n",
        "bureau = pd.read_csv('data/bureau.csv')\n",
        "bureau_balance = pd.read_csv('data/bureau_balance.csv')\n",
        "credit_card_balance = pd.read_csv('data/credit_card_balance.csv')\n",
        "installments_payments = pd.read_csv('data/installments_payments.csv')\n",
        "pos_cash_balance = pd.read_csv('data/POS_CASH_balance.csv')\n",
        "previous_application = pd.read_csv('data/previous_application.csv')\n"
      ]
    },
    {
      "cell_type": "markdown",
      "metadata": {
        "application/vnd.databricks.v1+cell": {
          "inputWidgets": {},
          "nuid": "db570041-437f-40f5-83a1-f0369f108cff",
          "showTitle": false,
          "title": ""
        }
      },
      "source": [
        "# 1. static features\n",
        "Top features for static feature views:\n",
        "- OCCUPATION_TYPE\n",
        "- AMT_INCOME_TOTAL\n",
        "- NAME_INCOME_TYPE\n",
        "- DAYS_LAST_PHONE_CHANGE\n",
        "- ORGANIZATION_TYPE\n",
        "- AMT_CREDIT\n",
        "- AMT_GOODS_PRICE\n",
        "- DAYS_REGISTRATION\n",
        "- AMT_ANNUITY\n",
        "- CODE_GENDER\n",
        "- DAYS_ID_PUBLISH\n",
        "- NAME_EDUCATION_TYPE\n",
        "- DAYS_EMPLOYED\n",
        "- DAYS_BIRTH\n",
        "- EXT_SOURCE_1\n",
        "- EXT_SOURCE_2\n",
        "- EXT_SOURCE_3"
      ]
    },
    {
      "cell_type": "code",
      "execution_count": 7,
      "metadata": {
        "application/vnd.databricks.v1+cell": {
          "inputWidgets": {},
          "nuid": "04d4223b-27f8-4267-a525-057441870279",
          "showTitle": false,
          "title": ""
        }
      },
      "outputs": [
        {
          "data": {
            "text/html": [
              "<div>\n",
              "<style scoped>\n",
              "    .dataframe tbody tr th:only-of-type {\n",
              "        vertical-align: middle;\n",
              "    }\n",
              "\n",
              "    .dataframe tbody tr th {\n",
              "        vertical-align: top;\n",
              "    }\n",
              "\n",
              "    .dataframe thead th {\n",
              "        text-align: right;\n",
              "    }\n",
              "</style>\n",
              "<table border=\"1\" class=\"dataframe\">\n",
              "  <thead>\n",
              "    <tr style=\"text-align: right;\">\n",
              "      <th></th>\n",
              "      <th>SK_ID_CURR</th>\n",
              "      <th>TARGET</th>\n",
              "      <th>NAME_CONTRACT_TYPE</th>\n",
              "      <th>CODE_GENDER</th>\n",
              "      <th>FLAG_OWN_CAR</th>\n",
              "      <th>FLAG_OWN_REALTY</th>\n",
              "      <th>CNT_CHILDREN</th>\n",
              "      <th>AMT_INCOME_TOTAL</th>\n",
              "      <th>AMT_CREDIT</th>\n",
              "      <th>AMT_ANNUITY</th>\n",
              "      <th>...</th>\n",
              "      <th>FLAG_DOCUMENT_20</th>\n",
              "      <th>FLAG_DOCUMENT_21</th>\n",
              "      <th>AMT_REQ_CREDIT_BUREAU_HOUR</th>\n",
              "      <th>AMT_REQ_CREDIT_BUREAU_DAY</th>\n",
              "      <th>AMT_REQ_CREDIT_BUREAU_WEEK</th>\n",
              "      <th>AMT_REQ_CREDIT_BUREAU_MON</th>\n",
              "      <th>AMT_REQ_CREDIT_BUREAU_QRT</th>\n",
              "      <th>AMT_REQ_CREDIT_BUREAU_YEAR</th>\n",
              "      <th>EVENT_TIMESTAMP</th>\n",
              "      <th>CREATED_TIMESTAMP</th>\n",
              "    </tr>\n",
              "  </thead>\n",
              "  <tbody>\n",
              "    <tr>\n",
              "      <th>0</th>\n",
              "      <td>100002</td>\n",
              "      <td>1</td>\n",
              "      <td>Cash loans</td>\n",
              "      <td>M</td>\n",
              "      <td>N</td>\n",
              "      <td>Y</td>\n",
              "      <td>0</td>\n",
              "      <td>202500.0</td>\n",
              "      <td>406597.5</td>\n",
              "      <td>24700.5</td>\n",
              "      <td>...</td>\n",
              "      <td>0</td>\n",
              "      <td>0</td>\n",
              "      <td>0.0</td>\n",
              "      <td>0.0</td>\n",
              "      <td>0.0</td>\n",
              "      <td>0.0</td>\n",
              "      <td>0.0</td>\n",
              "      <td>1.0</td>\n",
              "      <td>2022-02-24</td>\n",
              "      <td>2022-04-14 17:12:54.164671</td>\n",
              "    </tr>\n",
              "    <tr>\n",
              "      <th>1</th>\n",
              "      <td>100003</td>\n",
              "      <td>0</td>\n",
              "      <td>Cash loans</td>\n",
              "      <td>F</td>\n",
              "      <td>N</td>\n",
              "      <td>N</td>\n",
              "      <td>0</td>\n",
              "      <td>270000.0</td>\n",
              "      <td>1293502.5</td>\n",
              "      <td>35698.5</td>\n",
              "      <td>...</td>\n",
              "      <td>0</td>\n",
              "      <td>0</td>\n",
              "      <td>0.0</td>\n",
              "      <td>0.0</td>\n",
              "      <td>0.0</td>\n",
              "      <td>0.0</td>\n",
              "      <td>0.0</td>\n",
              "      <td>0.0</td>\n",
              "      <td>2022-02-24</td>\n",
              "      <td>2022-04-14 17:12:54.164671</td>\n",
              "    </tr>\n",
              "    <tr>\n",
              "      <th>2</th>\n",
              "      <td>100004</td>\n",
              "      <td>0</td>\n",
              "      <td>Revolving loans</td>\n",
              "      <td>M</td>\n",
              "      <td>Y</td>\n",
              "      <td>Y</td>\n",
              "      <td>0</td>\n",
              "      <td>67500.0</td>\n",
              "      <td>135000.0</td>\n",
              "      <td>6750.0</td>\n",
              "      <td>...</td>\n",
              "      <td>0</td>\n",
              "      <td>0</td>\n",
              "      <td>0.0</td>\n",
              "      <td>0.0</td>\n",
              "      <td>0.0</td>\n",
              "      <td>0.0</td>\n",
              "      <td>0.0</td>\n",
              "      <td>0.0</td>\n",
              "      <td>2022-02-24</td>\n",
              "      <td>2022-04-14 17:12:54.164671</td>\n",
              "    </tr>\n",
              "    <tr>\n",
              "      <th>3</th>\n",
              "      <td>100006</td>\n",
              "      <td>0</td>\n",
              "      <td>Cash loans</td>\n",
              "      <td>F</td>\n",
              "      <td>N</td>\n",
              "      <td>Y</td>\n",
              "      <td>0</td>\n",
              "      <td>135000.0</td>\n",
              "      <td>312682.5</td>\n",
              "      <td>29686.5</td>\n",
              "      <td>...</td>\n",
              "      <td>0</td>\n",
              "      <td>0</td>\n",
              "      <td>NaN</td>\n",
              "      <td>NaN</td>\n",
              "      <td>NaN</td>\n",
              "      <td>NaN</td>\n",
              "      <td>NaN</td>\n",
              "      <td>NaN</td>\n",
              "      <td>2022-02-24</td>\n",
              "      <td>2022-04-14 17:12:54.164671</td>\n",
              "    </tr>\n",
              "    <tr>\n",
              "      <th>4</th>\n",
              "      <td>100007</td>\n",
              "      <td>0</td>\n",
              "      <td>Cash loans</td>\n",
              "      <td>M</td>\n",
              "      <td>N</td>\n",
              "      <td>Y</td>\n",
              "      <td>0</td>\n",
              "      <td>121500.0</td>\n",
              "      <td>513000.0</td>\n",
              "      <td>21865.5</td>\n",
              "      <td>...</td>\n",
              "      <td>0</td>\n",
              "      <td>0</td>\n",
              "      <td>0.0</td>\n",
              "      <td>0.0</td>\n",
              "      <td>0.0</td>\n",
              "      <td>0.0</td>\n",
              "      <td>0.0</td>\n",
              "      <td>0.0</td>\n",
              "      <td>2022-02-24</td>\n",
              "      <td>2022-04-14 17:12:54.164671</td>\n",
              "    </tr>\n",
              "  </tbody>\n",
              "</table>\n",
              "<p>5 rows × 124 columns</p>\n",
              "</div>"
            ],
            "text/plain": [
              "   SK_ID_CURR  TARGET NAME_CONTRACT_TYPE CODE_GENDER FLAG_OWN_CAR  \\\n",
              "0      100002       1         Cash loans           M            N   \n",
              "1      100003       0         Cash loans           F            N   \n",
              "2      100004       0    Revolving loans           M            Y   \n",
              "3      100006       0         Cash loans           F            N   \n",
              "4      100007       0         Cash loans           M            N   \n",
              "\n",
              "  FLAG_OWN_REALTY  CNT_CHILDREN  AMT_INCOME_TOTAL  AMT_CREDIT  AMT_ANNUITY  \\\n",
              "0               Y             0          202500.0    406597.5      24700.5   \n",
              "1               N             0          270000.0   1293502.5      35698.5   \n",
              "2               Y             0           67500.0    135000.0       6750.0   \n",
              "3               Y             0          135000.0    312682.5      29686.5   \n",
              "4               Y             0          121500.0    513000.0      21865.5   \n",
              "\n",
              "   ...  FLAG_DOCUMENT_20 FLAG_DOCUMENT_21 AMT_REQ_CREDIT_BUREAU_HOUR  \\\n",
              "0  ...                 0                0                        0.0   \n",
              "1  ...                 0                0                        0.0   \n",
              "2  ...                 0                0                        0.0   \n",
              "3  ...                 0                0                        NaN   \n",
              "4  ...                 0                0                        0.0   \n",
              "\n",
              "  AMT_REQ_CREDIT_BUREAU_DAY AMT_REQ_CREDIT_BUREAU_WEEK  \\\n",
              "0                       0.0                        0.0   \n",
              "1                       0.0                        0.0   \n",
              "2                       0.0                        0.0   \n",
              "3                       NaN                        NaN   \n",
              "4                       0.0                        0.0   \n",
              "\n",
              "  AMT_REQ_CREDIT_BUREAU_MON  AMT_REQ_CREDIT_BUREAU_QRT  \\\n",
              "0                       0.0                        0.0   \n",
              "1                       0.0                        0.0   \n",
              "2                       0.0                        0.0   \n",
              "3                       NaN                        NaN   \n",
              "4                       0.0                        0.0   \n",
              "\n",
              "   AMT_REQ_CREDIT_BUREAU_YEAR  EVENT_TIMESTAMP          CREATED_TIMESTAMP  \n",
              "0                         1.0       2022-02-24 2022-04-14 17:12:54.164671  \n",
              "1                         0.0       2022-02-24 2022-04-14 17:12:54.164671  \n",
              "2                         0.0       2022-02-24 2022-04-14 17:12:54.164671  \n",
              "3                         NaN       2022-02-24 2022-04-14 17:12:54.164671  \n",
              "4                         0.0       2022-02-24 2022-04-14 17:12:54.164671  \n",
              "\n",
              "[5 rows x 124 columns]"
            ]
          },
          "execution_count": 7,
          "metadata": {},
          "output_type": "execute_result"
        }
      ],
      "source": [
        "application_train['EVENT_TIMESTAMP']=datetime.datetime(2022,2,24)\n",
        "application_train['CREATED_TIMESTAMP']=datetime.datetime.now()\n",
        "application_train.head()"
      ]
    },
    {
      "cell_type": "code",
      "execution_count": 14,
      "metadata": {
        "application/vnd.databricks.v1+cell": {
          "inputWidgets": {},
          "nuid": "40b3d9bb-74f8-41c5-94a2-6953fbd0fa21",
          "showTitle": false,
          "title": ""
        }
      },
      "outputs": [
        {
          "name": "stdout",
          "output_type": "stream",
          "text": [
            "Success: True, Chunks: 1, Rows uploaded: 307511\n",
            "Done.\n"
          ]
        }
      ],
      "source": [
        "process_send(application_train, \"STATIC_FEATURE_TABLE\")"
      ]
    },
    {
      "cell_type": "markdown",
      "metadata": {
        "application/vnd.databricks.v1+cell": {
          "inputWidgets": {},
          "nuid": "b9e60195-c8b0-43b1-824f-76c4e1b4f44d",
          "showTitle": false,
          "title": ""
        }
      },
      "source": [
        "# 2. Bureau features\n",
        "\n",
        "a. parent dataset: bureau.csv \n",
        "   - count aggregation features created\n",
        "   - average aggregation features created\n",
        "   - debt:credit ratio feature created\n",
        "   \n",
        "b. child dataset: bureau_balance.csv\n",
        "   - rolling window credit loan status feature will be created and joined to parent dataset\n",
        "   \n",
        "c. combinig/joining both datasets, which will be aggregated in line with primary key (\"SK_ID_CURR) of application_train (target dataframe) with the following features:\n",
        "   - count aggregation features created\n",
        "   - average aggregation features created\n",
        "   - debt:credit ratio feature created \n",
        "   - rolling window credit loan status feature will be created and joined to parent dataset"
      ]
    },
    {
      "cell_type": "markdown",
      "metadata": {
        "application/vnd.databricks.v1+cell": {
          "inputWidgets": {},
          "nuid": "3fc500fb-b203-47c3-a52f-0dcee94c40ce",
          "showTitle": false,
          "title": ""
        }
      },
      "source": [
        "## a. Child Dataset: bureau_balance.csv"
      ]
    },
    {
      "cell_type": "markdown",
      "metadata": {
        "application/vnd.databricks.v1+cell": {
          "inputWidgets": {},
          "nuid": "1c282216-e88c-4e18-9689-e1f7eeb82e6c",
          "showTitle": false,
          "title": ""
        }
      },
      "source": [
        "### Feature Creation: Rolling Window Credit Loan Status"
      ]
    },
    {
      "cell_type": "markdown",
      "metadata": {
        "application/vnd.databricks.v1+cell": {
          "inputWidgets": {},
          "nuid": "cecf36e2-bc53-446c-9ecf-9cab8da3d8fa",
          "showTitle": false,
          "title": ""
        }
      },
      "source": [
        "rolling window Exponential Moving Average is derived and the mean is used as the feature"
      ]
    },
    {
      "cell_type": "code",
      "execution_count": 13,
      "metadata": {
        "application/vnd.databricks.v1+cell": {
          "inputWidgets": {},
          "nuid": "42ba9616-2e83-449b-a75b-b2c1db1c4d42",
          "showTitle": false,
          "title": ""
        }
      },
      "outputs": [],
      "source": [
        "def bureauBalanceRollingCreditLoan(df):\n",
        "    df_final = df.copy()\n",
        "    df_final['STATUS'] = df_final['STATUS'].replace(['X','C'],'0')\n",
        "    df_final['STATUS'] = pd.to_numeric(df_final['STATUS'])\n",
        "    df_final = df_final.groupby(\"SK_ID_BUREAU\")['STATUS'].agg(\n",
        "        lambda x: x.ewm(span=x.shape[0], adjust=False).mean().mean()\n",
        "    )\n",
        "    df_final = df_final.reset_index(name=\"CREDIT_STATUS_EMA_AVG\")\n",
        "    df_final = df_final.set_index('SK_ID_BUREAU')\n",
        "    return df_final"
      ]
    },
    {
      "cell_type": "code",
      "execution_count": 14,
      "metadata": {
        "application/vnd.databricks.v1+cell": {
          "inputWidgets": {},
          "nuid": "614e1973-260e-42e1-8ee1-436eb167c266",
          "showTitle": false,
          "title": ""
        }
      },
      "outputs": [
        {
          "data": {
            "text/html": [
              "<div>\n",
              "<style scoped>\n",
              "    .dataframe tbody tr th:only-of-type {\n",
              "        vertical-align: middle;\n",
              "    }\n",
              "\n",
              "    .dataframe tbody tr th {\n",
              "        vertical-align: top;\n",
              "    }\n",
              "\n",
              "    .dataframe thead th {\n",
              "        text-align: right;\n",
              "    }\n",
              "</style>\n",
              "<table border=\"1\" class=\"dataframe\">\n",
              "  <thead>\n",
              "    <tr style=\"text-align: right;\">\n",
              "      <th></th>\n",
              "      <th>CREDIT_STATUS_EMA_AVG</th>\n",
              "    </tr>\n",
              "    <tr>\n",
              "      <th>SK_ID_BUREAU</th>\n",
              "      <th></th>\n",
              "    </tr>\n",
              "  </thead>\n",
              "  <tbody>\n",
              "    <tr>\n",
              "      <th>5001709</th>\n",
              "      <td>0.000000</td>\n",
              "    </tr>\n",
              "    <tr>\n",
              "      <th>5001710</th>\n",
              "      <td>0.000000</td>\n",
              "    </tr>\n",
              "    <tr>\n",
              "      <th>5001711</th>\n",
              "      <td>0.000000</td>\n",
              "    </tr>\n",
              "    <tr>\n",
              "      <th>5001712</th>\n",
              "      <td>0.000000</td>\n",
              "    </tr>\n",
              "    <tr>\n",
              "      <th>5001713</th>\n",
              "      <td>0.000000</td>\n",
              "    </tr>\n",
              "    <tr>\n",
              "      <th>...</th>\n",
              "      <td>...</td>\n",
              "    </tr>\n",
              "    <tr>\n",
              "      <th>6842884</th>\n",
              "      <td>0.000000</td>\n",
              "    </tr>\n",
              "    <tr>\n",
              "      <th>6842885</th>\n",
              "      <td>4.014966</td>\n",
              "    </tr>\n",
              "    <tr>\n",
              "      <th>6842886</th>\n",
              "      <td>0.000000</td>\n",
              "    </tr>\n",
              "    <tr>\n",
              "      <th>6842887</th>\n",
              "      <td>0.000000</td>\n",
              "    </tr>\n",
              "    <tr>\n",
              "      <th>6842888</th>\n",
              "      <td>0.001953</td>\n",
              "    </tr>\n",
              "  </tbody>\n",
              "</table>\n",
              "<p>817395 rows × 1 columns</p>\n",
              "</div>"
            ],
            "text/plain": [
              "              CREDIT_STATUS_EMA_AVG\n",
              "SK_ID_BUREAU                       \n",
              "5001709                    0.000000\n",
              "5001710                    0.000000\n",
              "5001711                    0.000000\n",
              "5001712                    0.000000\n",
              "5001713                    0.000000\n",
              "...                             ...\n",
              "6842884                    0.000000\n",
              "6842885                    4.014966\n",
              "6842886                    0.000000\n",
              "6842887                    0.000000\n",
              "6842888                    0.001953\n",
              "\n",
              "[817395 rows x 1 columns]"
            ]
          },
          "execution_count": 14,
          "metadata": {},
          "output_type": "execute_result"
        }
      ],
      "source": [
        "bureauBalanceRollingCreditLoan(bureau_balance)"
      ]
    },
    {
      "cell_type": "markdown",
      "metadata": {
        "application/vnd.databricks.v1+cell": {
          "inputWidgets": {},
          "nuid": "5926d4e2-3878-4b6c-9fd9-ec35c4314471",
          "showTitle": false,
          "title": ""
        }
      },
      "source": [
        "## b. Parent Dataset: bureau.csv"
      ]
    },
    {
      "cell_type": "markdown",
      "metadata": {
        "application/vnd.databricks.v1+cell": {
          "inputWidgets": {},
          "nuid": "4fde8d11-08e2-4ef4-bd28-c3abda2f464b",
          "showTitle": false,
          "title": ""
        }
      },
      "source": [
        "### Feature Creation: Aggregation Features - Count"
      ]
    },
    {
      "cell_type": "markdown",
      "metadata": {
        "application/vnd.databricks.v1+cell": {
          "inputWidgets": {},
          "nuid": "f8699e43-97bb-4ce6-8383-a792de1e2730",
          "showTitle": false,
          "title": ""
        }
      },
      "source": [
        "- Number of loans\n",
        "- Number of loans prolonged\n",
        "- Percentage of active loans\n",
        "- Number of type of loans"
      ]
    },
    {
      "cell_type": "code",
      "execution_count": 15,
      "metadata": {},
      "outputs": [
        {
          "data": {
            "text/plain": [
              "'1.3.4'"
            ]
          },
          "execution_count": 15,
          "metadata": {},
          "output_type": "execute_result"
        }
      ],
      "source": [
        "pd.__version__"
      ]
    },
    {
      "cell_type": "code",
      "execution_count": 16,
      "metadata": {
        "application/vnd.databricks.v1+cell": {
          "inputWidgets": {},
          "nuid": "e3b7d247-2dbe-4f3c-9fcb-a5cad1d70fc4",
          "showTitle": false,
          "title": ""
        }
      },
      "outputs": [],
      "source": [
        "def aggCountBureau(df):\n",
        "    agg = df.groupby(\"SK_ID_CURR\")\n",
        "    # count number of loans\n",
        "    df_final = pd.DataFrame(agg['SK_ID_CURR'].agg('count').reset_index(name='NUM_CREDIT_COUNT'))\n",
        "    # count number of loans prolonged\n",
        "    loans_prolonged = agg['CNT_CREDIT_PROLONG'].sum().reset_index(name='CREDIT_PROLONG_COUNT').set_index(\"SK_ID_CURR\")\n",
        "    df_final = df_final.join(loans_prolonged,on='SK_ID_CURR')\n",
        "    # count percentage of active loans\n",
        "    active_loans = agg['CREDIT_ACTIVE'].value_counts().reset_index(name='ACTIVE_LOANS_COUNT')\n",
        "    active_loans = active_loans[active_loans['CREDIT_ACTIVE'] == 'Active'][['SK_ID_CURR','ACTIVE_LOANS_COUNT']].set_index(\"SK_ID_CURR\")\n",
        "    df_final = df_final.join(active_loans,on='SK_ID_CURR')\n",
        "    df_final['ACTIVE_LOANS_PERCENT'] = df_final['ACTIVE_LOANS_COUNT']/df_final['NUM_CREDIT_COUNT']\n",
        "    df_final.drop([\"ACTIVE_LOANS_COUNT\"], axis=1, inplace=True)\n",
        "    df_final['ACTIVE_LOANS_PERCENT'] = df_final['ACTIVE_LOANS_PERCENT'].fillna(0)\n",
        "    # count credit type\n",
        "    # one hot encode\n",
        "    ohe = OneHotEncoder(sparse=False)\n",
        "    ohe_fit = ohe.fit_transform(df[[\"CREDIT_TYPE\"]])\n",
        "    credit_type = pd.DataFrame(ohe_fit, columns = ohe.get_feature_names([\"CREDIT_TYPE\"]))\n",
        "    credit_type.insert(loc=0, column='SK_ID_CURR', value=df['SK_ID_CURR'].values)\n",
        "    credit_type = credit_type.groupby(\"SK_ID_CURR\").sum()\n",
        "    df_final = df_final.join(credit_type, on=\"SK_ID_CURR\")\n",
        "    df_final = df_final.set_index(\"SK_ID_CURR\")\n",
        "    return df_final"
      ]
    },
    {
      "cell_type": "code",
      "execution_count": 17,
      "metadata": {
        "application/vnd.databricks.v1+cell": {
          "inputWidgets": {},
          "nuid": "585705c7-ee1d-4d48-8504-8876c0de80a2",
          "showTitle": false,
          "title": ""
        },
        "gather": {
          "logged": 1649055695127
        }
      },
      "outputs": [
        {
          "data": {
            "text/html": [
              "<div>\n",
              "<style scoped>\n",
              "    .dataframe tbody tr th:only-of-type {\n",
              "        vertical-align: middle;\n",
              "    }\n",
              "\n",
              "    .dataframe tbody tr th {\n",
              "        vertical-align: top;\n",
              "    }\n",
              "\n",
              "    .dataframe thead th {\n",
              "        text-align: right;\n",
              "    }\n",
              "</style>\n",
              "<table border=\"1\" class=\"dataframe\">\n",
              "  <thead>\n",
              "    <tr style=\"text-align: right;\">\n",
              "      <th></th>\n",
              "      <th>NUM_CREDIT_COUNT</th>\n",
              "      <th>CREDIT_PROLONG_COUNT</th>\n",
              "      <th>ACTIVE_LOANS_PERCENT</th>\n",
              "      <th>CREDIT_TYPE_Another type of loan</th>\n",
              "      <th>CREDIT_TYPE_Car loan</th>\n",
              "      <th>CREDIT_TYPE_Cash loan (non-earmarked)</th>\n",
              "      <th>CREDIT_TYPE_Consumer credit</th>\n",
              "      <th>CREDIT_TYPE_Credit card</th>\n",
              "      <th>CREDIT_TYPE_Interbank credit</th>\n",
              "      <th>CREDIT_TYPE_Loan for business development</th>\n",
              "      <th>CREDIT_TYPE_Loan for purchase of shares (margin lending)</th>\n",
              "      <th>CREDIT_TYPE_Loan for the purchase of equipment</th>\n",
              "      <th>CREDIT_TYPE_Loan for working capital replenishment</th>\n",
              "      <th>CREDIT_TYPE_Microloan</th>\n",
              "      <th>CREDIT_TYPE_Mobile operator loan</th>\n",
              "      <th>CREDIT_TYPE_Mortgage</th>\n",
              "      <th>CREDIT_TYPE_Real estate loan</th>\n",
              "      <th>CREDIT_TYPE_Unknown type of loan</th>\n",
              "    </tr>\n",
              "    <tr>\n",
              "      <th>SK_ID_CURR</th>\n",
              "      <th></th>\n",
              "      <th></th>\n",
              "      <th></th>\n",
              "      <th></th>\n",
              "      <th></th>\n",
              "      <th></th>\n",
              "      <th></th>\n",
              "      <th></th>\n",
              "      <th></th>\n",
              "      <th></th>\n",
              "      <th></th>\n",
              "      <th></th>\n",
              "      <th></th>\n",
              "      <th></th>\n",
              "      <th></th>\n",
              "      <th></th>\n",
              "      <th></th>\n",
              "      <th></th>\n",
              "    </tr>\n",
              "  </thead>\n",
              "  <tbody>\n",
              "    <tr>\n",
              "      <th>100001</th>\n",
              "      <td>7</td>\n",
              "      <td>0</td>\n",
              "      <td>0.428571</td>\n",
              "      <td>0.0</td>\n",
              "      <td>0.0</td>\n",
              "      <td>0.0</td>\n",
              "      <td>7.0</td>\n",
              "      <td>0.0</td>\n",
              "      <td>0.0</td>\n",
              "      <td>0.0</td>\n",
              "      <td>0.0</td>\n",
              "      <td>0.0</td>\n",
              "      <td>0.0</td>\n",
              "      <td>0.0</td>\n",
              "      <td>0.0</td>\n",
              "      <td>0.0</td>\n",
              "      <td>0.0</td>\n",
              "      <td>0.0</td>\n",
              "    </tr>\n",
              "    <tr>\n",
              "      <th>100002</th>\n",
              "      <td>8</td>\n",
              "      <td>0</td>\n",
              "      <td>0.250000</td>\n",
              "      <td>0.0</td>\n",
              "      <td>0.0</td>\n",
              "      <td>0.0</td>\n",
              "      <td>4.0</td>\n",
              "      <td>4.0</td>\n",
              "      <td>0.0</td>\n",
              "      <td>0.0</td>\n",
              "      <td>0.0</td>\n",
              "      <td>0.0</td>\n",
              "      <td>0.0</td>\n",
              "      <td>0.0</td>\n",
              "      <td>0.0</td>\n",
              "      <td>0.0</td>\n",
              "      <td>0.0</td>\n",
              "      <td>0.0</td>\n",
              "    </tr>\n",
              "    <tr>\n",
              "      <th>100003</th>\n",
              "      <td>4</td>\n",
              "      <td>0</td>\n",
              "      <td>0.250000</td>\n",
              "      <td>0.0</td>\n",
              "      <td>0.0</td>\n",
              "      <td>0.0</td>\n",
              "      <td>2.0</td>\n",
              "      <td>2.0</td>\n",
              "      <td>0.0</td>\n",
              "      <td>0.0</td>\n",
              "      <td>0.0</td>\n",
              "      <td>0.0</td>\n",
              "      <td>0.0</td>\n",
              "      <td>0.0</td>\n",
              "      <td>0.0</td>\n",
              "      <td>0.0</td>\n",
              "      <td>0.0</td>\n",
              "      <td>0.0</td>\n",
              "    </tr>\n",
              "    <tr>\n",
              "      <th>100004</th>\n",
              "      <td>2</td>\n",
              "      <td>0</td>\n",
              "      <td>0.000000</td>\n",
              "      <td>0.0</td>\n",
              "      <td>0.0</td>\n",
              "      <td>0.0</td>\n",
              "      <td>2.0</td>\n",
              "      <td>0.0</td>\n",
              "      <td>0.0</td>\n",
              "      <td>0.0</td>\n",
              "      <td>0.0</td>\n",
              "      <td>0.0</td>\n",
              "      <td>0.0</td>\n",
              "      <td>0.0</td>\n",
              "      <td>0.0</td>\n",
              "      <td>0.0</td>\n",
              "      <td>0.0</td>\n",
              "      <td>0.0</td>\n",
              "    </tr>\n",
              "    <tr>\n",
              "      <th>100005</th>\n",
              "      <td>3</td>\n",
              "      <td>0</td>\n",
              "      <td>0.666667</td>\n",
              "      <td>0.0</td>\n",
              "      <td>0.0</td>\n",
              "      <td>0.0</td>\n",
              "      <td>2.0</td>\n",
              "      <td>1.0</td>\n",
              "      <td>0.0</td>\n",
              "      <td>0.0</td>\n",
              "      <td>0.0</td>\n",
              "      <td>0.0</td>\n",
              "      <td>0.0</td>\n",
              "      <td>0.0</td>\n",
              "      <td>0.0</td>\n",
              "      <td>0.0</td>\n",
              "      <td>0.0</td>\n",
              "      <td>0.0</td>\n",
              "    </tr>\n",
              "    <tr>\n",
              "      <th>...</th>\n",
              "      <td>...</td>\n",
              "      <td>...</td>\n",
              "      <td>...</td>\n",
              "      <td>...</td>\n",
              "      <td>...</td>\n",
              "      <td>...</td>\n",
              "      <td>...</td>\n",
              "      <td>...</td>\n",
              "      <td>...</td>\n",
              "      <td>...</td>\n",
              "      <td>...</td>\n",
              "      <td>...</td>\n",
              "      <td>...</td>\n",
              "      <td>...</td>\n",
              "      <td>...</td>\n",
              "      <td>...</td>\n",
              "      <td>...</td>\n",
              "      <td>...</td>\n",
              "    </tr>\n",
              "    <tr>\n",
              "      <th>456249</th>\n",
              "      <td>13</td>\n",
              "      <td>0</td>\n",
              "      <td>0.153846</td>\n",
              "      <td>1.0</td>\n",
              "      <td>0.0</td>\n",
              "      <td>0.0</td>\n",
              "      <td>9.0</td>\n",
              "      <td>3.0</td>\n",
              "      <td>0.0</td>\n",
              "      <td>0.0</td>\n",
              "      <td>0.0</td>\n",
              "      <td>0.0</td>\n",
              "      <td>0.0</td>\n",
              "      <td>0.0</td>\n",
              "      <td>0.0</td>\n",
              "      <td>0.0</td>\n",
              "      <td>0.0</td>\n",
              "      <td>0.0</td>\n",
              "    </tr>\n",
              "    <tr>\n",
              "      <th>456250</th>\n",
              "      <td>3</td>\n",
              "      <td>0</td>\n",
              "      <td>0.666667</td>\n",
              "      <td>0.0</td>\n",
              "      <td>0.0</td>\n",
              "      <td>0.0</td>\n",
              "      <td>2.0</td>\n",
              "      <td>1.0</td>\n",
              "      <td>0.0</td>\n",
              "      <td>0.0</td>\n",
              "      <td>0.0</td>\n",
              "      <td>0.0</td>\n",
              "      <td>0.0</td>\n",
              "      <td>0.0</td>\n",
              "      <td>0.0</td>\n",
              "      <td>0.0</td>\n",
              "      <td>0.0</td>\n",
              "      <td>0.0</td>\n",
              "    </tr>\n",
              "    <tr>\n",
              "      <th>456253</th>\n",
              "      <td>4</td>\n",
              "      <td>0</td>\n",
              "      <td>0.500000</td>\n",
              "      <td>0.0</td>\n",
              "      <td>0.0</td>\n",
              "      <td>0.0</td>\n",
              "      <td>3.0</td>\n",
              "      <td>1.0</td>\n",
              "      <td>0.0</td>\n",
              "      <td>0.0</td>\n",
              "      <td>0.0</td>\n",
              "      <td>0.0</td>\n",
              "      <td>0.0</td>\n",
              "      <td>0.0</td>\n",
              "      <td>0.0</td>\n",
              "      <td>0.0</td>\n",
              "      <td>0.0</td>\n",
              "      <td>0.0</td>\n",
              "    </tr>\n",
              "    <tr>\n",
              "      <th>456254</th>\n",
              "      <td>1</td>\n",
              "      <td>0</td>\n",
              "      <td>0.000000</td>\n",
              "      <td>0.0</td>\n",
              "      <td>0.0</td>\n",
              "      <td>0.0</td>\n",
              "      <td>1.0</td>\n",
              "      <td>0.0</td>\n",
              "      <td>0.0</td>\n",
              "      <td>0.0</td>\n",
              "      <td>0.0</td>\n",
              "      <td>0.0</td>\n",
              "      <td>0.0</td>\n",
              "      <td>0.0</td>\n",
              "      <td>0.0</td>\n",
              "      <td>0.0</td>\n",
              "      <td>0.0</td>\n",
              "      <td>0.0</td>\n",
              "    </tr>\n",
              "    <tr>\n",
              "      <th>456255</th>\n",
              "      <td>11</td>\n",
              "      <td>1</td>\n",
              "      <td>0.454545</td>\n",
              "      <td>0.0</td>\n",
              "      <td>0.0</td>\n",
              "      <td>0.0</td>\n",
              "      <td>9.0</td>\n",
              "      <td>2.0</td>\n",
              "      <td>0.0</td>\n",
              "      <td>0.0</td>\n",
              "      <td>0.0</td>\n",
              "      <td>0.0</td>\n",
              "      <td>0.0</td>\n",
              "      <td>0.0</td>\n",
              "      <td>0.0</td>\n",
              "      <td>0.0</td>\n",
              "      <td>0.0</td>\n",
              "      <td>0.0</td>\n",
              "    </tr>\n",
              "  </tbody>\n",
              "</table>\n",
              "<p>305811 rows × 18 columns</p>\n",
              "</div>"
            ],
            "text/plain": [
              "            NUM_CREDIT_COUNT  CREDIT_PROLONG_COUNT  ACTIVE_LOANS_PERCENT  \\\n",
              "SK_ID_CURR                                                                 \n",
              "100001                     7                     0              0.428571   \n",
              "100002                     8                     0              0.250000   \n",
              "100003                     4                     0              0.250000   \n",
              "100004                     2                     0              0.000000   \n",
              "100005                     3                     0              0.666667   \n",
              "...                      ...                   ...                   ...   \n",
              "456249                    13                     0              0.153846   \n",
              "456250                     3                     0              0.666667   \n",
              "456253                     4                     0              0.500000   \n",
              "456254                     1                     0              0.000000   \n",
              "456255                    11                     1              0.454545   \n",
              "\n",
              "            CREDIT_TYPE_Another type of loan  CREDIT_TYPE_Car loan  \\\n",
              "SK_ID_CURR                                                           \n",
              "100001                                   0.0                   0.0   \n",
              "100002                                   0.0                   0.0   \n",
              "100003                                   0.0                   0.0   \n",
              "100004                                   0.0                   0.0   \n",
              "100005                                   0.0                   0.0   \n",
              "...                                      ...                   ...   \n",
              "456249                                   1.0                   0.0   \n",
              "456250                                   0.0                   0.0   \n",
              "456253                                   0.0                   0.0   \n",
              "456254                                   0.0                   0.0   \n",
              "456255                                   0.0                   0.0   \n",
              "\n",
              "            CREDIT_TYPE_Cash loan (non-earmarked)  \\\n",
              "SK_ID_CURR                                          \n",
              "100001                                        0.0   \n",
              "100002                                        0.0   \n",
              "100003                                        0.0   \n",
              "100004                                        0.0   \n",
              "100005                                        0.0   \n",
              "...                                           ...   \n",
              "456249                                        0.0   \n",
              "456250                                        0.0   \n",
              "456253                                        0.0   \n",
              "456254                                        0.0   \n",
              "456255                                        0.0   \n",
              "\n",
              "            CREDIT_TYPE_Consumer credit  CREDIT_TYPE_Credit card  \\\n",
              "SK_ID_CURR                                                         \n",
              "100001                              7.0                      0.0   \n",
              "100002                              4.0                      4.0   \n",
              "100003                              2.0                      2.0   \n",
              "100004                              2.0                      0.0   \n",
              "100005                              2.0                      1.0   \n",
              "...                                 ...                      ...   \n",
              "456249                              9.0                      3.0   \n",
              "456250                              2.0                      1.0   \n",
              "456253                              3.0                      1.0   \n",
              "456254                              1.0                      0.0   \n",
              "456255                              9.0                      2.0   \n",
              "\n",
              "            CREDIT_TYPE_Interbank credit  \\\n",
              "SK_ID_CURR                                 \n",
              "100001                               0.0   \n",
              "100002                               0.0   \n",
              "100003                               0.0   \n",
              "100004                               0.0   \n",
              "100005                               0.0   \n",
              "...                                  ...   \n",
              "456249                               0.0   \n",
              "456250                               0.0   \n",
              "456253                               0.0   \n",
              "456254                               0.0   \n",
              "456255                               0.0   \n",
              "\n",
              "            CREDIT_TYPE_Loan for business development  \\\n",
              "SK_ID_CURR                                              \n",
              "100001                                            0.0   \n",
              "100002                                            0.0   \n",
              "100003                                            0.0   \n",
              "100004                                            0.0   \n",
              "100005                                            0.0   \n",
              "...                                               ...   \n",
              "456249                                            0.0   \n",
              "456250                                            0.0   \n",
              "456253                                            0.0   \n",
              "456254                                            0.0   \n",
              "456255                                            0.0   \n",
              "\n",
              "            CREDIT_TYPE_Loan for purchase of shares (margin lending)  \\\n",
              "SK_ID_CURR                                                             \n",
              "100001                                                    0.0          \n",
              "100002                                                    0.0          \n",
              "100003                                                    0.0          \n",
              "100004                                                    0.0          \n",
              "100005                                                    0.0          \n",
              "...                                                       ...          \n",
              "456249                                                    0.0          \n",
              "456250                                                    0.0          \n",
              "456253                                                    0.0          \n",
              "456254                                                    0.0          \n",
              "456255                                                    0.0          \n",
              "\n",
              "            CREDIT_TYPE_Loan for the purchase of equipment  \\\n",
              "SK_ID_CURR                                                   \n",
              "100001                                                 0.0   \n",
              "100002                                                 0.0   \n",
              "100003                                                 0.0   \n",
              "100004                                                 0.0   \n",
              "100005                                                 0.0   \n",
              "...                                                    ...   \n",
              "456249                                                 0.0   \n",
              "456250                                                 0.0   \n",
              "456253                                                 0.0   \n",
              "456254                                                 0.0   \n",
              "456255                                                 0.0   \n",
              "\n",
              "            CREDIT_TYPE_Loan for working capital replenishment  \\\n",
              "SK_ID_CURR                                                       \n",
              "100001                                                    0.0    \n",
              "100002                                                    0.0    \n",
              "100003                                                    0.0    \n",
              "100004                                                    0.0    \n",
              "100005                                                    0.0    \n",
              "...                                                       ...    \n",
              "456249                                                    0.0    \n",
              "456250                                                    0.0    \n",
              "456253                                                    0.0    \n",
              "456254                                                    0.0    \n",
              "456255                                                    0.0    \n",
              "\n",
              "            CREDIT_TYPE_Microloan  CREDIT_TYPE_Mobile operator loan  \\\n",
              "SK_ID_CURR                                                            \n",
              "100001                        0.0                               0.0   \n",
              "100002                        0.0                               0.0   \n",
              "100003                        0.0                               0.0   \n",
              "100004                        0.0                               0.0   \n",
              "100005                        0.0                               0.0   \n",
              "...                           ...                               ...   \n",
              "456249                        0.0                               0.0   \n",
              "456250                        0.0                               0.0   \n",
              "456253                        0.0                               0.0   \n",
              "456254                        0.0                               0.0   \n",
              "456255                        0.0                               0.0   \n",
              "\n",
              "            CREDIT_TYPE_Mortgage  CREDIT_TYPE_Real estate loan  \\\n",
              "SK_ID_CURR                                                       \n",
              "100001                       0.0                           0.0   \n",
              "100002                       0.0                           0.0   \n",
              "100003                       0.0                           0.0   \n",
              "100004                       0.0                           0.0   \n",
              "100005                       0.0                           0.0   \n",
              "...                          ...                           ...   \n",
              "456249                       0.0                           0.0   \n",
              "456250                       0.0                           0.0   \n",
              "456253                       0.0                           0.0   \n",
              "456254                       0.0                           0.0   \n",
              "456255                       0.0                           0.0   \n",
              "\n",
              "            CREDIT_TYPE_Unknown type of loan  \n",
              "SK_ID_CURR                                    \n",
              "100001                                   0.0  \n",
              "100002                                   0.0  \n",
              "100003                                   0.0  \n",
              "100004                                   0.0  \n",
              "100005                                   0.0  \n",
              "...                                      ...  \n",
              "456249                                   0.0  \n",
              "456250                                   0.0  \n",
              "456253                                   0.0  \n",
              "456254                                   0.0  \n",
              "456255                                   0.0  \n",
              "\n",
              "[305811 rows x 18 columns]"
            ]
          },
          "execution_count": 17,
          "metadata": {},
          "output_type": "execute_result"
        }
      ],
      "source": [
        "aggCountBureau(bureau)"
      ]
    },
    {
      "cell_type": "markdown",
      "metadata": {
        "application/vnd.databricks.v1+cell": {
          "inputWidgets": {},
          "nuid": "4fb66db7-aaa3-4740-a3b3-438ba3420a45",
          "showTitle": false,
          "title": ""
        }
      },
      "source": [
        "### Feature Creation: Aggregation Features - Average"
      ]
    },
    {
      "cell_type": "markdown",
      "metadata": {
        "application/vnd.databricks.v1+cell": {
          "inputWidgets": {},
          "nuid": "da36349d-58e2-4d4e-9171-44980fd07349",
          "showTitle": false,
          "title": ""
        }
      },
      "source": [
        "- Average number of days between loans\n",
        "- Average number of overdue days of overdue loans"
      ]
    },
    {
      "cell_type": "code",
      "execution_count": 18,
      "metadata": {
        "application/vnd.databricks.v1+cell": {
          "inputWidgets": {},
          "nuid": "ff934abd-47e9-4fd0-b28d-30bd3ff99394",
          "showTitle": false,
          "title": ""
        }
      },
      "outputs": [],
      "source": [
        "def aggAvgBureau(df):\n",
        "    agg = df.groupby('SK_ID_CURR')\n",
        "    # average of CREDIT_DAY_OVERDUE\n",
        "    final_df = agg['CREDIT_DAY_OVERDUE'].mean().reset_index(name = \"CREDIT_DAY_OVERDUE_MEAN\")\n",
        "    # average of days between credits of DAYS_CREDIT\n",
        "    days_credit_between = pd.DataFrame(df['SK_ID_CURR'])\n",
        "    days_credit_between['diff'] = agg['DAYS_CREDIT'].diff().values\n",
        "    days_credit_between = days_credit_between.groupby(\"SK_ID_CURR\")['diff'].mean().reset_index(name = 'DAYS_CREDIT_BETWEEN_MEAN')\n",
        "    days_credit_between.set_index(\"SK_ID_CURR\",inplace=True)\n",
        "    final_df = final_df.join(days_credit_between, on='SK_ID_CURR')\n",
        "    final_df = final_df.set_index(\"SK_ID_CURR\")\n",
        "    return final_df"
      ]
    },
    {
      "cell_type": "code",
      "execution_count": 19,
      "metadata": {
        "application/vnd.databricks.v1+cell": {
          "inputWidgets": {},
          "nuid": "c10e3ac4-4194-4ae1-8673-64cbaecefa9d",
          "showTitle": false,
          "title": ""
        }
      },
      "outputs": [
        {
          "data": {
            "text/html": [
              "<div>\n",
              "<style scoped>\n",
              "    .dataframe tbody tr th:only-of-type {\n",
              "        vertical-align: middle;\n",
              "    }\n",
              "\n",
              "    .dataframe tbody tr th {\n",
              "        vertical-align: top;\n",
              "    }\n",
              "\n",
              "    .dataframe thead th {\n",
              "        text-align: right;\n",
              "    }\n",
              "</style>\n",
              "<table border=\"1\" class=\"dataframe\">\n",
              "  <thead>\n",
              "    <tr style=\"text-align: right;\">\n",
              "      <th></th>\n",
              "      <th>CREDIT_DAY_OVERDUE_MEAN</th>\n",
              "      <th>DAYS_CREDIT_BETWEEN_MEAN</th>\n",
              "    </tr>\n",
              "    <tr>\n",
              "      <th>SK_ID_CURR</th>\n",
              "      <th></th>\n",
              "      <th></th>\n",
              "    </tr>\n",
              "  </thead>\n",
              "  <tbody>\n",
              "    <tr>\n",
              "      <th>100001</th>\n",
              "      <td>0.0</td>\n",
              "      <td>89.500000</td>\n",
              "    </tr>\n",
              "    <tr>\n",
              "      <th>100002</th>\n",
              "      <td>0.0</td>\n",
              "      <td>11.714286</td>\n",
              "    </tr>\n",
              "    <tr>\n",
              "      <th>100003</th>\n",
              "      <td>0.0</td>\n",
              "      <td>660.000000</td>\n",
              "    </tr>\n",
              "    <tr>\n",
              "      <th>100004</th>\n",
              "      <td>0.0</td>\n",
              "      <td>918.000000</td>\n",
              "    </tr>\n",
              "    <tr>\n",
              "      <th>100005</th>\n",
              "      <td>0.0</td>\n",
              "      <td>155.500000</td>\n",
              "    </tr>\n",
              "    <tr>\n",
              "      <th>...</th>\n",
              "      <td>...</td>\n",
              "      <td>...</td>\n",
              "    </tr>\n",
              "    <tr>\n",
              "      <th>456249</th>\n",
              "      <td>0.0</td>\n",
              "      <td>45.916667</td>\n",
              "    </tr>\n",
              "    <tr>\n",
              "      <th>456250</th>\n",
              "      <td>0.0</td>\n",
              "      <td>89.000000</td>\n",
              "    </tr>\n",
              "    <tr>\n",
              "      <th>456253</th>\n",
              "      <td>0.0</td>\n",
              "      <td>68.666667</td>\n",
              "    </tr>\n",
              "    <tr>\n",
              "      <th>456254</th>\n",
              "      <td>0.0</td>\n",
              "      <td>NaN</td>\n",
              "    </tr>\n",
              "    <tr>\n",
              "      <th>456255</th>\n",
              "      <td>0.0</td>\n",
              "      <td>-131.500000</td>\n",
              "    </tr>\n",
              "  </tbody>\n",
              "</table>\n",
              "<p>305811 rows × 2 columns</p>\n",
              "</div>"
            ],
            "text/plain": [
              "            CREDIT_DAY_OVERDUE_MEAN  DAYS_CREDIT_BETWEEN_MEAN\n",
              "SK_ID_CURR                                                   \n",
              "100001                          0.0                 89.500000\n",
              "100002                          0.0                 11.714286\n",
              "100003                          0.0                660.000000\n",
              "100004                          0.0                918.000000\n",
              "100005                          0.0                155.500000\n",
              "...                             ...                       ...\n",
              "456249                          0.0                 45.916667\n",
              "456250                          0.0                 89.000000\n",
              "456253                          0.0                 68.666667\n",
              "456254                          0.0                       NaN\n",
              "456255                          0.0               -131.500000\n",
              "\n",
              "[305811 rows x 2 columns]"
            ]
          },
          "execution_count": 19,
          "metadata": {},
          "output_type": "execute_result"
        }
      ],
      "source": [
        "aggAvgBureau(bureau)"
      ]
    },
    {
      "cell_type": "markdown",
      "metadata": {
        "application/vnd.databricks.v1+cell": {
          "inputWidgets": {},
          "nuid": "481d7feb-ebca-4d34-93c4-4bd53a044036",
          "showTitle": false,
          "title": ""
        }
      },
      "source": [
        "### Feature Creation: debt credit ratio"
      ]
    },
    {
      "cell_type": "markdown",
      "metadata": {
        "application/vnd.databricks.v1+cell": {
          "inputWidgets": {},
          "nuid": "8037eacf-e2f3-4265-a314-b590fa2e33df",
          "showTitle": false,
          "title": ""
        }
      },
      "source": [
        "ratio of AMT_CREDIT_SUM_DEBT to AMT_CREDIT_SUM created"
      ]
    },
    {
      "cell_type": "code",
      "execution_count": null,
      "metadata": {
        "application/vnd.databricks.v1+cell": {
          "inputWidgets": {},
          "nuid": "0a737080-de39-4473-aa75-ac596a074118",
          "showTitle": false,
          "title": ""
        }
      },
      "outputs": [],
      "source": [
        "def debtCreditRatio(df):\n",
        "    #get debt:credit ratio\n",
        "    df['DEBT_CREDIT_RATIO'] = df['AMT_CREDIT_SUM_DEBT']/df['AMT_CREDIT_SUM']\n",
        "    df_final = df.groupby('SK_ID_CURR')['DEBT_CREDIT_RATIO'].mean().reset_index(name='DEBT_CREDIT_RATIO')\n",
        "    df_final = df_final.set_index(\"SK_ID_CURR\")   \n",
        "    return df_final"
      ]
    },
    {
      "cell_type": "code",
      "execution_count": null,
      "metadata": {
        "application/vnd.databricks.v1+cell": {
          "inputWidgets": {},
          "nuid": "e7c18cf4-c6b8-4092-9c3b-09cbaf936c28",
          "showTitle": false,
          "title": ""
        }
      },
      "outputs": [],
      "source": [
        "debtCreditRatio(bureau)"
      ]
    },
    {
      "cell_type": "markdown",
      "metadata": {
        "application/vnd.databricks.v1+cell": {
          "inputWidgets": {},
          "nuid": "7f9fce68-4aef-4dcc-98a2-967af3887742",
          "showTitle": false,
          "title": ""
        }
      },
      "source": [
        "## C. Combining bureau features:"
      ]
    },
    {
      "cell_type": "code",
      "execution_count": null,
      "metadata": {
        "application/vnd.databricks.v1+cell": {
          "inputWidgets": {},
          "nuid": "75ff740a-8ddc-41fd-956c-b345baf125f4",
          "showTitle": false,
          "title": ""
        }
      },
      "outputs": [],
      "source": [
        "def bureauFeatures(bureau, bureau_balance):\n",
        "    dfs = []\n",
        "    # handling features for bureau_balance\n",
        "    bureau_balance_rolling_loan = bureauBalanceRollingCreditLoan(bureau_balance)\n",
        "    bureau_df = bureau.copy()\n",
        "    bureau_df = bureau_df.join(bureau_balance_rolling_loan,on=\"SK_ID_BUREAU\")\n",
        "    bureau_df[\"CREDIT_STATUS_EMA_AVG\"] = bureau_df['CREDIT_STATUS_EMA_AVG'].fillna(0)\n",
        "    bureau_df = bureau_df.groupby(\"SK_ID_CURR\")[\"CREDIT_STATUS_EMA_AVG\"].mean()\n",
        "    dfs.append(bureau_df)\n",
        "    dfs.append(aggCountBureau(bureau))\n",
        "    dfs.append(aggAvgBureau(bureau))\n",
        "    dfs.append(debtCreditRatio(bureau))\n",
        "    final_df = dfs.pop()\n",
        "    while dfs:\n",
        "        final_df = final_df.join(dfs.pop(),on='SK_ID_CURR')\n",
        "    return final_df"
      ]
    },
    {
      "cell_type": "code",
      "execution_count": null,
      "metadata": {
        "application/vnd.databricks.v1+cell": {
          "inputWidgets": {},
          "nuid": "ba23c900-993b-45bc-b46a-c3b41f9b393e",
          "showTitle": false,
          "title": ""
        }
      },
      "outputs": [],
      "source": [
        "bureau_features = bureauFeatures(bureau, bureau_balance)\n",
        "bureau_features = bureau_features.reset_index()\n",
        "bureau_features['EVENT_TIMESTAMP']=datetime.datetime(2022,2,24)\n",
        "bureau_features['CREATED_TIMESTAMP']=datetime.datetime.now()"
      ]
    },
    {
      "cell_type": "code",
      "execution_count": null,
      "metadata": {
        "application/vnd.databricks.v1+cell": {
          "inputWidgets": {},
          "nuid": "2173f81e-da1b-4f8f-b11b-a8f221616b8f",
          "showTitle": false,
          "title": ""
        }
      },
      "outputs": [
        {
          "data": {
            "text/html": [
              "<style scoped>\n",
              "  .ansiout {\n",
              "    display: block;\n",
              "    unicode-bidi: embed;\n",
              "    white-space: pre-wrap;\n",
              "    word-wrap: break-word;\n",
              "    word-break: break-all;\n",
              "    font-family: \"Source Code Pro\", \"Menlo\", monospace;;\n",
              "    font-size: 13px;\n",
              "    color: #555;\n",
              "    margin-left: 4px;\n",
              "    line-height: 19px;\n",
              "  }\n",
              "</style>\n",
              "<div class=\"ansiout\"></div>"
            ]
          },
          "metadata": {
            "application/vnd.databricks.v1+output": {
              "addedWidgets": {},
              "arguments": {},
              "data": "<div class=\"ansiout\"></div>",
              "datasetInfos": [],
              "metadata": {},
              "removedWidgets": [],
              "type": "html"
            }
          },
          "output_type": "display_data"
        },
        {
          "data": {
            "text/html": [
              "<style scoped>\n",
              "  .ansiout {\n",
              "    display: block;\n",
              "    unicode-bidi: embed;\n",
              "    white-space: pre-wrap;\n",
              "    word-wrap: break-word;\n",
              "    word-break: break-all;\n",
              "    font-family: \"Source Code Pro\", \"Menlo\", monospace;;\n",
              "    font-size: 13px;\n",
              "    color: #555;\n",
              "    margin-left: 4px;\n",
              "    line-height: 19px;\n",
              "  }\n",
              "</style>\n",
              "<div class=\"ansiout\"><span class=\"ansi-red-fg\">---------------------------------------------------------------------------</span>\n",
              "<span class=\"ansi-red-fg\">NameError</span>                                 Traceback (most recent call last)\n",
              "<span class=\"ansi-green-fg\">&lt;command-4282096128748601&gt;</span> in <span class=\"ansi-cyan-fg\">&lt;module&gt;</span>\n",
              "<span class=\"ansi-green-intense-fg ansi-bold\">      1</span> <span class=\"ansi-red-fg\">#bureau_features.to_parquet(&#39;data/bureau_feature_table.parquet&#39;)</span>\n",
              "<span class=\"ansi-green-fg\">----&gt; 2</span><span class=\"ansi-red-fg\"> </span>process_send<span class=\"ansi-blue-fg\">(</span>bureau_features<span class=\"ansi-blue-fg\">,</span> <span class=\"ansi-blue-fg\">&#34;bureau_feature_table&#34;</span><span class=\"ansi-blue-fg\">)</span>\n",
              "\n",
              "<span class=\"ansi-red-fg\">NameError</span>: name &#39;bureau_features&#39; is not defined</div>"
            ]
          },
          "metadata": {
            "application/vnd.databricks.v1+output": {
              "arguments": {},
              "data": "<div class=\"ansiout\"><span class=\"ansi-red-fg\">---------------------------------------------------------------------------</span>\n<span class=\"ansi-red-fg\">NameError</span>                                 Traceback (most recent call last)\n<span class=\"ansi-green-fg\">&lt;command-4282096128748601&gt;</span> in <span class=\"ansi-cyan-fg\">&lt;module&gt;</span>\n<span class=\"ansi-green-intense-fg ansi-bold\">      1</span> <span class=\"ansi-red-fg\">#bureau_features.to_parquet(&#39;data/bureau_feature_table.parquet&#39;)</span>\n<span class=\"ansi-green-fg\">----&gt; 2</span><span class=\"ansi-red-fg\"> </span>process_send<span class=\"ansi-blue-fg\">(</span>bureau_features<span class=\"ansi-blue-fg\">,</span> <span class=\"ansi-blue-fg\">&#34;bureau_feature_table&#34;</span><span class=\"ansi-blue-fg\">)</span>\n\n<span class=\"ansi-red-fg\">NameError</span>: name &#39;bureau_features&#39; is not defined</div>",
              "errorSummary": "<span class=\"ansi-red-fg\">NameError</span>: name &#39;bureau_features&#39; is not defined",
              "errorTraceType": "html",
              "metadata": {},
              "type": "ipynbError"
            }
          },
          "output_type": "display_data"
        }
      ],
      "source": [
        "#bureau_features.to_parquet('data/bureau_feature_table.parquet')\n",
        "process_send(bureau_features, \"bureau_feature_table\")"
      ]
    },
    {
      "cell_type": "markdown",
      "metadata": {
        "application/vnd.databricks.v1+cell": {
          "inputWidgets": {},
          "nuid": "0fa28898-1ff4-4f9d-a8ad-d13947e675d8",
          "showTitle": false,
          "title": ""
        }
      },
      "source": [
        "## 3 Previous loan feature view\n",
        "### a. Installments_payments.csv"
      ]
    },
    {
      "cell_type": "markdown",
      "metadata": {
        "application/vnd.databricks.v1+cell": {
          "inputWidgets": {},
          "nuid": "54f04202-7eff-420b-80cb-36a4c9e9dc59",
          "showTitle": false,
          "title": ""
        }
      },
      "source": [
        "The following features are created and used from installments_payments.csv:\n",
        "- percentage of missed installments payments\n",
        "- Average percentage of unpaid payments for each missed payment\n",
        "- Average of unpaid payments for each missed payment"
      ]
    },
    {
      "cell_type": "markdown",
      "metadata": {
        "application/vnd.databricks.v1+cell": {
          "inputWidgets": {},
          "nuid": "6052fbfa-d293-4795-a264-9d640ff1e975",
          "showTitle": false,
          "title": ""
        }
      },
      "source": [
        "### Feature Creation: Installment Payments Features"
      ]
    },
    {
      "cell_type": "code",
      "execution_count": null,
      "metadata": {
        "application/vnd.databricks.v1+cell": {
          "inputWidgets": {},
          "nuid": "c2135693-13cf-4d4b-8712-981ac6d4e507",
          "showTitle": false,
          "title": ""
        }
      },
      "outputs": [
        {
          "data": {
            "text/html": [
              "<style scoped>\n",
              "  .ansiout {\n",
              "    display: block;\n",
              "    unicode-bidi: embed;\n",
              "    white-space: pre-wrap;\n",
              "    word-wrap: break-word;\n",
              "    word-break: break-all;\n",
              "    font-family: \"Source Code Pro\", \"Menlo\", monospace;;\n",
              "    font-size: 13px;\n",
              "    color: #555;\n",
              "    margin-left: 4px;\n",
              "    line-height: 19px;\n",
              "  }\n",
              "</style>\n",
              "<div class=\"ansiout\"></div>"
            ]
          },
          "metadata": {
            "application/vnd.databricks.v1+output": {
              "addedWidgets": {},
              "arguments": {},
              "data": "<div class=\"ansiout\"></div>",
              "datasetInfos": [],
              "metadata": {},
              "removedWidgets": [],
              "type": "html"
            }
          },
          "output_type": "display_data"
        }
      ],
      "source": [
        "def aggAvgInstalments(df):\n",
        "    df_ = df.copy()\n",
        "    df_['INSTALMENT_MISSED'] = (df_['AMT_INSTALMENT'] > df_['AMT_PAYMENT']).astype(int)\n",
        "    df_['AMT_UNPAID'] = df_['AMT_INSTALMENT'] - df_['AMT_PAYMENT']\n",
        "    df_['PERC_UNPAID'] = df_['AMT_UNPAID']/df_['AMT_INSTALMENT']\n",
        "    df_ = df_.fillna(0)\n",
        "    agg = df_.groupby(\"SK_ID_CURR\")\n",
        "    # percentage of missed payments\n",
        "    missed_instalments = agg['INSTALMENT_MISSED'].agg(lambda x: x.sum()/x.count()). \\\n",
        "        reset_index().set_index(\"SK_ID_CURR\")\n",
        "    # percentage of payments difference for each missed payment\n",
        "    avg_percent_unpaid = agg['PERC_UNPAID'].mean().reset_index().set_index(\"SK_ID_CURR\")\n",
        "    # average payments difference for each missed payment\n",
        "    avg_unpaid = agg['AMT_UNPAID'].mean().reset_index().set_index(\"SK_ID_CURR\")\n",
        "    final_df = missed_instalments\n",
        "    final_df = final_df.join(avg_percent_unpaid, on='SK_ID_CURR')\n",
        "    final_df = final_df.join(avg_unpaid,on=\"SK_ID_CURR\")\n",
        "    return final_df"
      ]
    },
    {
      "cell_type": "code",
      "execution_count": null,
      "metadata": {
        "application/vnd.databricks.v1+cell": {
          "inputWidgets": {},
          "nuid": "6d166b38-ba13-49e1-94f4-19fedb82a45e",
          "showTitle": false,
          "title": ""
        }
      },
      "outputs": [
        {
          "data": {
            "text/html": [
              "<style scoped>\n",
              "  .ansiout {\n",
              "    display: block;\n",
              "    unicode-bidi: embed;\n",
              "    white-space: pre-wrap;\n",
              "    word-wrap: break-word;\n",
              "    word-break: break-all;\n",
              "    font-family: \"Source Code Pro\", \"Menlo\", monospace;;\n",
              "    font-size: 13px;\n",
              "    color: #555;\n",
              "    margin-left: 4px;\n",
              "    line-height: 19px;\n",
              "  }\n",
              "</style>\n",
              "<div class=\"ansiout\">Out[20]: </div>"
            ]
          },
          "metadata": {
            "application/vnd.databricks.v1+output": {
              "addedWidgets": {},
              "arguments": {},
              "data": "<div class=\"ansiout\">Out[20]: </div>",
              "datasetInfos": [],
              "metadata": {},
              "removedWidgets": [],
              "type": "html"
            }
          },
          "output_type": "display_data"
        },
        {
          "data": {
            "text/html": [
              "<div>\n",
              "<style scoped>\n",
              "    .dataframe tbody tr th:only-of-type {\n",
              "        vertical-align: middle;\n",
              "    }\n",
              "\n",
              "    .dataframe tbody tr th {\n",
              "        vertical-align: top;\n",
              "    }\n",
              "\n",
              "    .dataframe thead th {\n",
              "        text-align: right;\n",
              "    }\n",
              "</style>\n",
              "<table border=\"1\" class=\"dataframe\">\n",
              "  <thead>\n",
              "    <tr style=\"text-align: right;\">\n",
              "      <th></th>\n",
              "      <th>INSTALMENT_MISSED</th>\n",
              "      <th>PERC_UNPAID</th>\n",
              "      <th>AMT_UNPAID</th>\n",
              "    </tr>\n",
              "    <tr>\n",
              "      <th>SK_ID_CURR</th>\n",
              "      <th></th>\n",
              "      <th></th>\n",
              "      <th></th>\n",
              "    </tr>\n",
              "  </thead>\n",
              "  <tbody>\n",
              "    <tr>\n",
              "      <th>100001</th>\n",
              "      <td>0.000000</td>\n",
              "      <td>0.000000</td>\n",
              "      <td>0.00000</td>\n",
              "    </tr>\n",
              "    <tr>\n",
              "      <th>100002</th>\n",
              "      <td>0.000000</td>\n",
              "      <td>0.000000</td>\n",
              "      <td>0.00000</td>\n",
              "    </tr>\n",
              "    <tr>\n",
              "      <th>100003</th>\n",
              "      <td>0.000000</td>\n",
              "      <td>0.000000</td>\n",
              "      <td>0.00000</td>\n",
              "    </tr>\n",
              "    <tr>\n",
              "      <th>100004</th>\n",
              "      <td>0.000000</td>\n",
              "      <td>0.000000</td>\n",
              "      <td>0.00000</td>\n",
              "    </tr>\n",
              "    <tr>\n",
              "      <th>100005</th>\n",
              "      <td>0.000000</td>\n",
              "      <td>0.000000</td>\n",
              "      <td>0.00000</td>\n",
              "    </tr>\n",
              "    <tr>\n",
              "      <th>...</th>\n",
              "      <td>...</td>\n",
              "      <td>...</td>\n",
              "      <td>...</td>\n",
              "    </tr>\n",
              "    <tr>\n",
              "      <th>456251</th>\n",
              "      <td>0.000000</td>\n",
              "      <td>0.000000</td>\n",
              "      <td>0.00000</td>\n",
              "    </tr>\n",
              "    <tr>\n",
              "      <th>456252</th>\n",
              "      <td>0.000000</td>\n",
              "      <td>0.000000</td>\n",
              "      <td>0.00000</td>\n",
              "    </tr>\n",
              "    <tr>\n",
              "      <th>456253</th>\n",
              "      <td>0.142857</td>\n",
              "      <td>0.071429</td>\n",
              "      <td>283.79250</td>\n",
              "    </tr>\n",
              "    <tr>\n",
              "      <th>456254</th>\n",
              "      <td>0.000000</td>\n",
              "      <td>0.000000</td>\n",
              "      <td>0.00000</td>\n",
              "    </tr>\n",
              "    <tr>\n",
              "      <th>456255</th>\n",
              "      <td>0.243243</td>\n",
              "      <td>-0.033463</td>\n",
              "      <td>-6181.50223</td>\n",
              "    </tr>\n",
              "  </tbody>\n",
              "</table>\n",
              "<p>339587 rows × 3 columns</p>\n",
              "</div>"
            ]
          },
          "metadata": {
            "application/vnd.databricks.v1+output": {
              "addedWidgets": {},
              "arguments": {},
              "data": "<div>\n<style scoped>\n    .dataframe tbody tr th:only-of-type {\n        vertical-align: middle;\n    }\n\n    .dataframe tbody tr th {\n        vertical-align: top;\n    }\n\n    .dataframe thead th {\n        text-align: right;\n    }\n</style>\n<table border=\"1\" class=\"dataframe\">\n  <thead>\n    <tr style=\"text-align: right;\">\n      <th></th>\n      <th>INSTALMENT_MISSED</th>\n      <th>PERC_UNPAID</th>\n      <th>AMT_UNPAID</th>\n    </tr>\n    <tr>\n      <th>SK_ID_CURR</th>\n      <th></th>\n      <th></th>\n      <th></th>\n    </tr>\n  </thead>\n  <tbody>\n    <tr>\n      <th>100001</th>\n      <td>0.000000</td>\n      <td>0.000000</td>\n      <td>0.00000</td>\n    </tr>\n    <tr>\n      <th>100002</th>\n      <td>0.000000</td>\n      <td>0.000000</td>\n      <td>0.00000</td>\n    </tr>\n    <tr>\n      <th>100003</th>\n      <td>0.000000</td>\n      <td>0.000000</td>\n      <td>0.00000</td>\n    </tr>\n    <tr>\n      <th>100004</th>\n      <td>0.000000</td>\n      <td>0.000000</td>\n      <td>0.00000</td>\n    </tr>\n    <tr>\n      <th>100005</th>\n      <td>0.000000</td>\n      <td>0.000000</td>\n      <td>0.00000</td>\n    </tr>\n    <tr>\n      <th>...</th>\n      <td>...</td>\n      <td>...</td>\n      <td>...</td>\n    </tr>\n    <tr>\n      <th>456251</th>\n      <td>0.000000</td>\n      <td>0.000000</td>\n      <td>0.00000</td>\n    </tr>\n    <tr>\n      <th>456252</th>\n      <td>0.000000</td>\n      <td>0.000000</td>\n      <td>0.00000</td>\n    </tr>\n    <tr>\n      <th>456253</th>\n      <td>0.142857</td>\n      <td>0.071429</td>\n      <td>283.79250</td>\n    </tr>\n    <tr>\n      <th>456254</th>\n      <td>0.000000</td>\n      <td>0.000000</td>\n      <td>0.00000</td>\n    </tr>\n    <tr>\n      <th>456255</th>\n      <td>0.243243</td>\n      <td>-0.033463</td>\n      <td>-6181.50223</td>\n    </tr>\n  </tbody>\n</table>\n<p>339587 rows × 3 columns</p>\n</div>",
              "datasetInfos": [],
              "metadata": {},
              "removedWidgets": [],
              "textData": null,
              "type": "htmlSandbox"
            }
          },
          "output_type": "display_data"
        }
      ],
      "source": [
        "installment_payments_features = aggAvgInstalments(installments_payments)\n",
        "installment_payments_features"
      ]
    },
    {
      "cell_type": "markdown",
      "metadata": {
        "application/vnd.databricks.v1+cell": {
          "inputWidgets": {},
          "nuid": "82c9b851-8bc7-40e4-a584-d935318a4752",
          "showTitle": false,
          "title": ""
        }
      },
      "source": [
        "### b. Credit_Card_Balance.csv"
      ]
    },
    {
      "cell_type": "markdown",
      "metadata": {
        "application/vnd.databricks.v1+cell": {
          "inputWidgets": {},
          "nuid": "5dfe7951-0971-4190-a594-bfb5acd46e47",
          "showTitle": false,
          "title": ""
        }
      },
      "source": [
        "The following features are created and used from credit_card_balance.csv\n",
        "- Average credit balance\n",
        "- rolling window credit balance mean"
      ]
    },
    {
      "cell_type": "markdown",
      "metadata": {
        "application/vnd.databricks.v1+cell": {
          "inputWidgets": {},
          "nuid": "2a7d67e1-8616-4332-8fc9-5c5b9ab7a776",
          "showTitle": false,
          "title": ""
        }
      },
      "source": [
        "### Feature Creation: Average Credit Balance"
      ]
    },
    {
      "cell_type": "code",
      "execution_count": null,
      "metadata": {
        "application/vnd.databricks.v1+cell": {
          "inputWidgets": {},
          "nuid": "aa420685-441d-4302-b7be-2e3ba41f856b",
          "showTitle": false,
          "title": ""
        }
      },
      "outputs": [
        {
          "data": {
            "text/html": [
              "<style scoped>\n",
              "  .ansiout {\n",
              "    display: block;\n",
              "    unicode-bidi: embed;\n",
              "    white-space: pre-wrap;\n",
              "    word-wrap: break-word;\n",
              "    word-break: break-all;\n",
              "    font-family: \"Source Code Pro\", \"Menlo\", monospace;;\n",
              "    font-size: 13px;\n",
              "    color: #555;\n",
              "    margin-left: 4px;\n",
              "    line-height: 19px;\n",
              "  }\n",
              "</style>\n",
              "<div class=\"ansiout\"></div>"
            ]
          },
          "metadata": {
            "application/vnd.databricks.v1+output": {
              "addedWidgets": {},
              "arguments": {},
              "data": "<div class=\"ansiout\"></div>",
              "datasetInfos": [],
              "metadata": {},
              "removedWidgets": [],
              "type": "html"
            }
          },
          "output_type": "display_data"
        }
      ],
      "source": [
        "def avgCreditBalance(df):\n",
        "    return df.groupby('SK_ID_CURR')['AMT_BALANCE'].mean()"
      ]
    },
    {
      "cell_type": "code",
      "execution_count": null,
      "metadata": {
        "application/vnd.databricks.v1+cell": {
          "inputWidgets": {},
          "nuid": "6d33cb56-cfa7-4cdc-9083-a336282e0f42",
          "showTitle": false,
          "title": ""
        }
      },
      "outputs": [
        {
          "data": {
            "text/html": [
              "<style scoped>\n",
              "  .ansiout {\n",
              "    display: block;\n",
              "    unicode-bidi: embed;\n",
              "    white-space: pre-wrap;\n",
              "    word-wrap: break-word;\n",
              "    word-break: break-all;\n",
              "    font-family: \"Source Code Pro\", \"Menlo\", monospace;;\n",
              "    font-size: 13px;\n",
              "    color: #555;\n",
              "    margin-left: 4px;\n",
              "    line-height: 19px;\n",
              "  }\n",
              "</style>\n",
              "<div class=\"ansiout\">Out[22]: SK_ID_CURR\n",
              "100006         0.000000\n",
              "100011     54482.111149\n",
              "100013     18159.919219\n",
              "100021         0.000000\n",
              "100023         0.000000\n",
              "              ...      \n",
              "456244    131834.730732\n",
              "456246     13136.731875\n",
              "456247     23216.396211\n",
              "456248         0.000000\n",
              "456250    173589.326250\n",
              "Name: AMT_BALANCE, Length: 103558, dtype: float64</div>"
            ]
          },
          "metadata": {
            "application/vnd.databricks.v1+output": {
              "addedWidgets": {},
              "arguments": {},
              "data": "<div class=\"ansiout\">Out[22]: SK_ID_CURR\n100006         0.000000\n100011     54482.111149\n100013     18159.919219\n100021         0.000000\n100023         0.000000\n              ...      \n456244    131834.730732\n456246     13136.731875\n456247     23216.396211\n456248         0.000000\n456250    173589.326250\nName: AMT_BALANCE, Length: 103558, dtype: float64</div>",
              "datasetInfos": [],
              "metadata": {},
              "removedWidgets": [],
              "type": "html"
            }
          },
          "output_type": "display_data"
        }
      ],
      "source": [
        "avgCreditBalance(credit_card_balance)"
      ]
    },
    {
      "cell_type": "markdown",
      "metadata": {
        "application/vnd.databricks.v1+cell": {
          "inputWidgets": {},
          "nuid": "926f489d-184c-4804-9ef2-030e70ad4446",
          "showTitle": false,
          "title": ""
        }
      },
      "source": [
        "### Feature Creation: Rolling Window EMA Credit Balance Mean"
      ]
    },
    {
      "cell_type": "code",
      "execution_count": null,
      "metadata": {
        "application/vnd.databricks.v1+cell": {
          "inputWidgets": {},
          "nuid": "20243c05-3116-4499-9629-104f7a9d0959",
          "showTitle": false,
          "title": ""
        }
      },
      "outputs": [
        {
          "data": {
            "text/html": [
              "<style scoped>\n",
              "  .ansiout {\n",
              "    display: block;\n",
              "    unicode-bidi: embed;\n",
              "    white-space: pre-wrap;\n",
              "    word-wrap: break-word;\n",
              "    word-break: break-all;\n",
              "    font-family: \"Source Code Pro\", \"Menlo\", monospace;;\n",
              "    font-size: 13px;\n",
              "    color: #555;\n",
              "    margin-left: 4px;\n",
              "    line-height: 19px;\n",
              "  }\n",
              "</style>\n",
              "<div class=\"ansiout\"></div>"
            ]
          },
          "metadata": {
            "application/vnd.databricks.v1+output": {
              "addedWidgets": {},
              "arguments": {},
              "data": "<div class=\"ansiout\"></div>",
              "datasetInfos": [],
              "metadata": {},
              "removedWidgets": [],
              "type": "html"
            }
          },
          "output_type": "display_data"
        }
      ],
      "source": [
        "def creditCardBalanceRollingBalance(df):\n",
        "    df_final = df.copy()\n",
        "    df_final = df_final.sort_values(by=\"MONTHS_BALANCE\")\n",
        "    df_final = df_final.groupby(\"SK_ID_CURR\")['AMT_BALANCE'].agg(\n",
        "        lambda x: x.ewm(span=x.shape[0], adjust=False).mean().mean()\n",
        "    )\n",
        "    df_final = df_final.reset_index(name=\"CREDIT_CARD_BALANCE_EMA_AVG\")\n",
        "    df_final = df_final.set_index('SK_ID_CURR')\n",
        "    return df_final"
      ]
    },
    {
      "cell_type": "code",
      "execution_count": null,
      "metadata": {
        "application/vnd.databricks.v1+cell": {
          "inputWidgets": {},
          "nuid": "cbb08fcd-cb99-40b1-9b01-d6ef9fb54ab1",
          "showTitle": false,
          "title": ""
        }
      },
      "outputs": [
        {
          "data": {
            "text/html": [
              "<style scoped>\n",
              "  .ansiout {\n",
              "    display: block;\n",
              "    unicode-bidi: embed;\n",
              "    white-space: pre-wrap;\n",
              "    word-wrap: break-word;\n",
              "    word-break: break-all;\n",
              "    font-family: \"Source Code Pro\", \"Menlo\", monospace;;\n",
              "    font-size: 13px;\n",
              "    color: #555;\n",
              "    margin-left: 4px;\n",
              "    line-height: 19px;\n",
              "  }\n",
              "</style>\n",
              "<div class=\"ansiout\">Out[24]: </div>"
            ]
          },
          "metadata": {
            "application/vnd.databricks.v1+output": {
              "addedWidgets": {},
              "arguments": {},
              "data": "<div class=\"ansiout\">Out[24]: </div>",
              "datasetInfos": [],
              "metadata": {},
              "removedWidgets": [],
              "type": "html"
            }
          },
          "output_type": "display_data"
        },
        {
          "data": {
            "text/html": [
              "<div>\n",
              "<style scoped>\n",
              "    .dataframe tbody tr th:only-of-type {\n",
              "        vertical-align: middle;\n",
              "    }\n",
              "\n",
              "    .dataframe tbody tr th {\n",
              "        vertical-align: top;\n",
              "    }\n",
              "\n",
              "    .dataframe thead th {\n",
              "        text-align: right;\n",
              "    }\n",
              "</style>\n",
              "<table border=\"1\" class=\"dataframe\">\n",
              "  <thead>\n",
              "    <tr style=\"text-align: right;\">\n",
              "      <th></th>\n",
              "      <th>CREDIT_CARD_BALANCE_EMA_AVG</th>\n",
              "    </tr>\n",
              "    <tr>\n",
              "      <th>SK_ID_CURR</th>\n",
              "      <th></th>\n",
              "    </tr>\n",
              "  </thead>\n",
              "  <tbody>\n",
              "    <tr>\n",
              "      <th>100006</th>\n",
              "      <td>0.000000</td>\n",
              "    </tr>\n",
              "    <tr>\n",
              "      <th>100011</th>\n",
              "      <td>124432.830831</td>\n",
              "    </tr>\n",
              "    <tr>\n",
              "      <th>100013</th>\n",
              "      <td>14663.956505</td>\n",
              "    </tr>\n",
              "    <tr>\n",
              "      <th>100021</th>\n",
              "      <td>0.000000</td>\n",
              "    </tr>\n",
              "    <tr>\n",
              "      <th>100023</th>\n",
              "      <td>0.000000</td>\n",
              "    </tr>\n",
              "    <tr>\n",
              "      <th>...</th>\n",
              "      <td>...</td>\n",
              "    </tr>\n",
              "    <tr>\n",
              "      <th>456244</th>\n",
              "      <td>235885.879933</td>\n",
              "    </tr>\n",
              "    <tr>\n",
              "      <th>456246</th>\n",
              "      <td>20346.726563</td>\n",
              "    </tr>\n",
              "    <tr>\n",
              "      <th>456247</th>\n",
              "      <td>59190.301167</td>\n",
              "    </tr>\n",
              "    <tr>\n",
              "      <th>456248</th>\n",
              "      <td>0.000000</td>\n",
              "    </tr>\n",
              "    <tr>\n",
              "      <th>456250</th>\n",
              "      <td>179428.368579</td>\n",
              "    </tr>\n",
              "  </tbody>\n",
              "</table>\n",
              "<p>103558 rows × 1 columns</p>\n",
              "</div>"
            ]
          },
          "metadata": {
            "application/vnd.databricks.v1+output": {
              "addedWidgets": {},
              "arguments": {},
              "data": "<div>\n<style scoped>\n    .dataframe tbody tr th:only-of-type {\n        vertical-align: middle;\n    }\n\n    .dataframe tbody tr th {\n        vertical-align: top;\n    }\n\n    .dataframe thead th {\n        text-align: right;\n    }\n</style>\n<table border=\"1\" class=\"dataframe\">\n  <thead>\n    <tr style=\"text-align: right;\">\n      <th></th>\n      <th>CREDIT_CARD_BALANCE_EMA_AVG</th>\n    </tr>\n    <tr>\n      <th>SK_ID_CURR</th>\n      <th></th>\n    </tr>\n  </thead>\n  <tbody>\n    <tr>\n      <th>100006</th>\n      <td>0.000000</td>\n    </tr>\n    <tr>\n      <th>100011</th>\n      <td>124432.830831</td>\n    </tr>\n    <tr>\n      <th>100013</th>\n      <td>14663.956505</td>\n    </tr>\n    <tr>\n      <th>100021</th>\n      <td>0.000000</td>\n    </tr>\n    <tr>\n      <th>100023</th>\n      <td>0.000000</td>\n    </tr>\n    <tr>\n      <th>...</th>\n      <td>...</td>\n    </tr>\n    <tr>\n      <th>456244</th>\n      <td>235885.879933</td>\n    </tr>\n    <tr>\n      <th>456246</th>\n      <td>20346.726563</td>\n    </tr>\n    <tr>\n      <th>456247</th>\n      <td>59190.301167</td>\n    </tr>\n    <tr>\n      <th>456248</th>\n      <td>0.000000</td>\n    </tr>\n    <tr>\n      <th>456250</th>\n      <td>179428.368579</td>\n    </tr>\n  </tbody>\n</table>\n<p>103558 rows × 1 columns</p>\n</div>",
              "datasetInfos": [],
              "metadata": {},
              "removedWidgets": [],
              "textData": null,
              "type": "htmlSandbox"
            }
          },
          "output_type": "display_data"
        }
      ],
      "source": [
        "creditCardBalanceRollingBalance(credit_card_balance)"
      ]
    },
    {
      "cell_type": "markdown",
      "metadata": {
        "application/vnd.databricks.v1+cell": {
          "inputWidgets": {},
          "nuid": "9d57b02f-244f-4c75-8004-10a54e08099e",
          "showTitle": false,
          "title": ""
        }
      },
      "source": [
        "### c. Combining Features for Credit Card Balance"
      ]
    },
    {
      "cell_type": "code",
      "execution_count": null,
      "metadata": {
        "application/vnd.databricks.v1+cell": {
          "inputWidgets": {},
          "nuid": "30267623-640a-4d7d-a9f6-cf8e4e6505be",
          "showTitle": false,
          "title": ""
        }
      },
      "outputs": [
        {
          "data": {
            "text/html": [
              "<style scoped>\n",
              "  .ansiout {\n",
              "    display: block;\n",
              "    unicode-bidi: embed;\n",
              "    white-space: pre-wrap;\n",
              "    word-wrap: break-word;\n",
              "    word-break: break-all;\n",
              "    font-family: \"Source Code Pro\", \"Menlo\", monospace;;\n",
              "    font-size: 13px;\n",
              "    color: #555;\n",
              "    margin-left: 4px;\n",
              "    line-height: 19px;\n",
              "  }\n",
              "</style>\n",
              "<div class=\"ansiout\"></div>"
            ]
          },
          "metadata": {
            "application/vnd.databricks.v1+output": {
              "addedWidgets": {},
              "arguments": {},
              "data": "<div class=\"ansiout\"></div>",
              "datasetInfos": [],
              "metadata": {},
              "removedWidgets": [],
              "type": "html"
            }
          },
          "output_type": "display_data"
        }
      ],
      "source": [
        "def creditCardFeatures(credit_card_balance):\n",
        "    dfs = []\n",
        "    dfs.append(avgCreditBalance(credit_card_balance))\n",
        "    dfs.append(creditCardBalanceRollingBalance(credit_card_balance))\n",
        "    final_df = dfs.pop()\n",
        "    while dfs:\n",
        "        final_df = final_df.join(dfs.pop(),on='SK_ID_CURR')\n",
        "    return final_df"
      ]
    },
    {
      "cell_type": "code",
      "execution_count": null,
      "metadata": {
        "application/vnd.databricks.v1+cell": {
          "inputWidgets": {},
          "nuid": "c028ebd9-8da6-419d-a28a-ee982c789557",
          "showTitle": false,
          "title": ""
        }
      },
      "outputs": [
        {
          "data": {
            "text/html": [
              "<style scoped>\n",
              "  .ansiout {\n",
              "    display: block;\n",
              "    unicode-bidi: embed;\n",
              "    white-space: pre-wrap;\n",
              "    word-wrap: break-word;\n",
              "    word-break: break-all;\n",
              "    font-family: \"Source Code Pro\", \"Menlo\", monospace;;\n",
              "    font-size: 13px;\n",
              "    color: #555;\n",
              "    margin-left: 4px;\n",
              "    line-height: 19px;\n",
              "  }\n",
              "</style>\n",
              "<div class=\"ansiout\">Out[26]: </div>"
            ]
          },
          "metadata": {
            "application/vnd.databricks.v1+output": {
              "addedWidgets": {},
              "arguments": {},
              "data": "<div class=\"ansiout\">Out[26]: </div>",
              "datasetInfos": [],
              "metadata": {},
              "removedWidgets": [],
              "type": "html"
            }
          },
          "output_type": "display_data"
        },
        {
          "data": {
            "text/html": [
              "<div>\n",
              "<style scoped>\n",
              "    .dataframe tbody tr th:only-of-type {\n",
              "        vertical-align: middle;\n",
              "    }\n",
              "\n",
              "    .dataframe tbody tr th {\n",
              "        vertical-align: top;\n",
              "    }\n",
              "\n",
              "    .dataframe thead th {\n",
              "        text-align: right;\n",
              "    }\n",
              "</style>\n",
              "<table border=\"1\" class=\"dataframe\">\n",
              "  <thead>\n",
              "    <tr style=\"text-align: right;\">\n",
              "      <th></th>\n",
              "      <th>CREDIT_CARD_BALANCE_EMA_AVG</th>\n",
              "      <th>AMT_BALANCE</th>\n",
              "    </tr>\n",
              "    <tr>\n",
              "      <th>SK_ID_CURR</th>\n",
              "      <th></th>\n",
              "      <th></th>\n",
              "    </tr>\n",
              "  </thead>\n",
              "  <tbody>\n",
              "    <tr>\n",
              "      <th>100006</th>\n",
              "      <td>0.000000</td>\n",
              "      <td>0.000000</td>\n",
              "    </tr>\n",
              "    <tr>\n",
              "      <th>100011</th>\n",
              "      <td>124432.830831</td>\n",
              "      <td>54482.111149</td>\n",
              "    </tr>\n",
              "    <tr>\n",
              "      <th>100013</th>\n",
              "      <td>14663.956505</td>\n",
              "      <td>18159.919219</td>\n",
              "    </tr>\n",
              "    <tr>\n",
              "      <th>100021</th>\n",
              "      <td>0.000000</td>\n",
              "      <td>0.000000</td>\n",
              "    </tr>\n",
              "    <tr>\n",
              "      <th>100023</th>\n",
              "      <td>0.000000</td>\n",
              "      <td>0.000000</td>\n",
              "    </tr>\n",
              "    <tr>\n",
              "      <th>...</th>\n",
              "      <td>...</td>\n",
              "      <td>...</td>\n",
              "    </tr>\n",
              "    <tr>\n",
              "      <th>456244</th>\n",
              "      <td>235885.879933</td>\n",
              "      <td>131834.730732</td>\n",
              "    </tr>\n",
              "    <tr>\n",
              "      <th>456246</th>\n",
              "      <td>20346.726563</td>\n",
              "      <td>13136.731875</td>\n",
              "    </tr>\n",
              "    <tr>\n",
              "      <th>456247</th>\n",
              "      <td>59190.301167</td>\n",
              "      <td>23216.396211</td>\n",
              "    </tr>\n",
              "    <tr>\n",
              "      <th>456248</th>\n",
              "      <td>0.000000</td>\n",
              "      <td>0.000000</td>\n",
              "    </tr>\n",
              "    <tr>\n",
              "      <th>456250</th>\n",
              "      <td>179428.368579</td>\n",
              "      <td>173589.326250</td>\n",
              "    </tr>\n",
              "  </tbody>\n",
              "</table>\n",
              "<p>103558 rows × 2 columns</p>\n",
              "</div>"
            ]
          },
          "metadata": {
            "application/vnd.databricks.v1+output": {
              "addedWidgets": {},
              "arguments": {},
              "data": "<div>\n<style scoped>\n    .dataframe tbody tr th:only-of-type {\n        vertical-align: middle;\n    }\n\n    .dataframe tbody tr th {\n        vertical-align: top;\n    }\n\n    .dataframe thead th {\n        text-align: right;\n    }\n</style>\n<table border=\"1\" class=\"dataframe\">\n  <thead>\n    <tr style=\"text-align: right;\">\n      <th></th>\n      <th>CREDIT_CARD_BALANCE_EMA_AVG</th>\n      <th>AMT_BALANCE</th>\n    </tr>\n    <tr>\n      <th>SK_ID_CURR</th>\n      <th></th>\n      <th></th>\n    </tr>\n  </thead>\n  <tbody>\n    <tr>\n      <th>100006</th>\n      <td>0.000000</td>\n      <td>0.000000</td>\n    </tr>\n    <tr>\n      <th>100011</th>\n      <td>124432.830831</td>\n      <td>54482.111149</td>\n    </tr>\n    <tr>\n      <th>100013</th>\n      <td>14663.956505</td>\n      <td>18159.919219</td>\n    </tr>\n    <tr>\n      <th>100021</th>\n      <td>0.000000</td>\n      <td>0.000000</td>\n    </tr>\n    <tr>\n      <th>100023</th>\n      <td>0.000000</td>\n      <td>0.000000</td>\n    </tr>\n    <tr>\n      <th>...</th>\n      <td>...</td>\n      <td>...</td>\n    </tr>\n    <tr>\n      <th>456244</th>\n      <td>235885.879933</td>\n      <td>131834.730732</td>\n    </tr>\n    <tr>\n      <th>456246</th>\n      <td>20346.726563</td>\n      <td>13136.731875</td>\n    </tr>\n    <tr>\n      <th>456247</th>\n      <td>59190.301167</td>\n      <td>23216.396211</td>\n    </tr>\n    <tr>\n      <th>456248</th>\n      <td>0.000000</td>\n      <td>0.000000</td>\n    </tr>\n    <tr>\n      <th>456250</th>\n      <td>179428.368579</td>\n      <td>173589.326250</td>\n    </tr>\n  </tbody>\n</table>\n<p>103558 rows × 2 columns</p>\n</div>",
              "datasetInfos": [],
              "metadata": {},
              "removedWidgets": [],
              "textData": null,
              "type": "htmlSandbox"
            }
          },
          "output_type": "display_data"
        }
      ],
      "source": [
        "credit_card_balance_features = creditCardFeatures(credit_card_balance)\n",
        "credit_card_balance_features"
      ]
    },
    {
      "cell_type": "code",
      "execution_count": null,
      "metadata": {
        "application/vnd.databricks.v1+cell": {
          "inputWidgets": {},
          "nuid": "facb6e89-108d-4bc9-b125-7dd087403919",
          "showTitle": false,
          "title": ""
        }
      },
      "outputs": [
        {
          "data": {
            "text/html": [
              "<style scoped>\n",
              "  .ansiout {\n",
              "    display: block;\n",
              "    unicode-bidi: embed;\n",
              "    white-space: pre-wrap;\n",
              "    word-wrap: break-word;\n",
              "    word-break: break-all;\n",
              "    font-family: \"Source Code Pro\", \"Menlo\", monospace;;\n",
              "    font-size: 13px;\n",
              "    color: #555;\n",
              "    margin-left: 4px;\n",
              "    line-height: 19px;\n",
              "  }\n",
              "</style>\n",
              "<div class=\"ansiout\">Out[27]: </div>"
            ]
          },
          "metadata": {
            "application/vnd.databricks.v1+output": {
              "addedWidgets": {},
              "arguments": {},
              "data": "<div class=\"ansiout\">Out[27]: </div>",
              "datasetInfos": [],
              "metadata": {},
              "removedWidgets": [],
              "type": "html"
            }
          },
          "output_type": "display_data"
        },
        {
          "data": {
            "text/html": [
              "<div>\n",
              "<style scoped>\n",
              "    .dataframe tbody tr th:only-of-type {\n",
              "        vertical-align: middle;\n",
              "    }\n",
              "\n",
              "    .dataframe tbody tr th {\n",
              "        vertical-align: top;\n",
              "    }\n",
              "\n",
              "    .dataframe thead th {\n",
              "        text-align: right;\n",
              "    }\n",
              "</style>\n",
              "<table border=\"1\" class=\"dataframe\">\n",
              "  <thead>\n",
              "    <tr style=\"text-align: right;\">\n",
              "      <th></th>\n",
              "      <th>SK_ID_CURR</th>\n",
              "      <th>INSTALMENT_MISSED</th>\n",
              "      <th>PERC_UNPAID</th>\n",
              "      <th>AMT_UNPAID</th>\n",
              "      <th>CREDIT_CARD_BALANCE_EMA_AVG</th>\n",
              "      <th>AMT_BALANCE</th>\n",
              "      <th>EVENT_TIMESTAMP</th>\n",
              "    </tr>\n",
              "  </thead>\n",
              "  <tbody>\n",
              "    <tr>\n",
              "      <th>0</th>\n",
              "      <td>100001</td>\n",
              "      <td>0.0</td>\n",
              "      <td>0.0</td>\n",
              "      <td>0.0</td>\n",
              "      <td>0.0</td>\n",
              "      <td>0.0</td>\n",
              "      <td>2022-03-24 08:20:27.038622</td>\n",
              "    </tr>\n",
              "    <tr>\n",
              "      <th>1</th>\n",
              "      <td>100002</td>\n",
              "      <td>0.0</td>\n",
              "      <td>0.0</td>\n",
              "      <td>0.0</td>\n",
              "      <td>0.0</td>\n",
              "      <td>0.0</td>\n",
              "      <td>2022-03-24 08:20:27.038622</td>\n",
              "    </tr>\n",
              "    <tr>\n",
              "      <th>2</th>\n",
              "      <td>100003</td>\n",
              "      <td>0.0</td>\n",
              "      <td>0.0</td>\n",
              "      <td>0.0</td>\n",
              "      <td>0.0</td>\n",
              "      <td>0.0</td>\n",
              "      <td>2022-03-24 08:20:27.038622</td>\n",
              "    </tr>\n",
              "    <tr>\n",
              "      <th>3</th>\n",
              "      <td>100004</td>\n",
              "      <td>0.0</td>\n",
              "      <td>0.0</td>\n",
              "      <td>0.0</td>\n",
              "      <td>0.0</td>\n",
              "      <td>0.0</td>\n",
              "      <td>2022-03-24 08:20:27.038622</td>\n",
              "    </tr>\n",
              "    <tr>\n",
              "      <th>4</th>\n",
              "      <td>100005</td>\n",
              "      <td>0.0</td>\n",
              "      <td>0.0</td>\n",
              "      <td>0.0</td>\n",
              "      <td>0.0</td>\n",
              "      <td>0.0</td>\n",
              "      <td>2022-03-24 08:20:27.038622</td>\n",
              "    </tr>\n",
              "  </tbody>\n",
              "</table>\n",
              "</div>"
            ]
          },
          "metadata": {
            "application/vnd.databricks.v1+output": {
              "addedWidgets": {},
              "arguments": {},
              "data": "<div>\n<style scoped>\n    .dataframe tbody tr th:only-of-type {\n        vertical-align: middle;\n    }\n\n    .dataframe tbody tr th {\n        vertical-align: top;\n    }\n\n    .dataframe thead th {\n        text-align: right;\n    }\n</style>\n<table border=\"1\" class=\"dataframe\">\n  <thead>\n    <tr style=\"text-align: right;\">\n      <th></th>\n      <th>SK_ID_CURR</th>\n      <th>INSTALMENT_MISSED</th>\n      <th>PERC_UNPAID</th>\n      <th>AMT_UNPAID</th>\n      <th>CREDIT_CARD_BALANCE_EMA_AVG</th>\n      <th>AMT_BALANCE</th>\n      <th>EVENT_TIMESTAMP</th>\n    </tr>\n  </thead>\n  <tbody>\n    <tr>\n      <th>0</th>\n      <td>100001</td>\n      <td>0.0</td>\n      <td>0.0</td>\n      <td>0.0</td>\n      <td>0.0</td>\n      <td>0.0</td>\n      <td>2022-03-24 08:20:27.038622</td>\n    </tr>\n    <tr>\n      <th>1</th>\n      <td>100002</td>\n      <td>0.0</td>\n      <td>0.0</td>\n      <td>0.0</td>\n      <td>0.0</td>\n      <td>0.0</td>\n      <td>2022-03-24 08:20:27.038622</td>\n    </tr>\n    <tr>\n      <th>2</th>\n      <td>100003</td>\n      <td>0.0</td>\n      <td>0.0</td>\n      <td>0.0</td>\n      <td>0.0</td>\n      <td>0.0</td>\n      <td>2022-03-24 08:20:27.038622</td>\n    </tr>\n    <tr>\n      <th>3</th>\n      <td>100004</td>\n      <td>0.0</td>\n      <td>0.0</td>\n      <td>0.0</td>\n      <td>0.0</td>\n      <td>0.0</td>\n      <td>2022-03-24 08:20:27.038622</td>\n    </tr>\n    <tr>\n      <th>4</th>\n      <td>100005</td>\n      <td>0.0</td>\n      <td>0.0</td>\n      <td>0.0</td>\n      <td>0.0</td>\n      <td>0.0</td>\n      <td>2022-03-24 08:20:27.038622</td>\n    </tr>\n  </tbody>\n</table>\n</div>",
              "datasetInfos": [],
              "metadata": {},
              "removedWidgets": [],
              "textData": null,
              "type": "htmlSandbox"
            }
          },
          "output_type": "display_data"
        }
      ],
      "source": [
        "prev_loan_features = installment_payments_features.join(credit_card_balance_features,on=\"SK_ID_CURR\").reset_index()\n",
        "prev_loan_features = prev_loan_features.fillna(0)\n",
        "prev_loan_features['EVENT_TIMESTAMP']=datetime.datetime(2022,2,24)\n",
        "prev_loan_features['CREATED_TIMESTAMP']=datetime.datetime.now()\n",
        "prev_loan_features.head()"
      ]
    },
    {
      "cell_type": "code",
      "execution_count": null,
      "metadata": {
        "application/vnd.databricks.v1+cell": {
          "inputWidgets": {},
          "nuid": "5a31458b-c11d-4c8c-83f1-2b5e0edbca25",
          "showTitle": false,
          "title": ""
        }
      },
      "outputs": [
        {
          "data": {
            "text/html": [
              "<style scoped>\n",
              "  .ansiout {\n",
              "    display: block;\n",
              "    unicode-bidi: embed;\n",
              "    white-space: pre-wrap;\n",
              "    word-wrap: break-word;\n",
              "    word-break: break-all;\n",
              "    font-family: \"Source Code Pro\", \"Menlo\", monospace;;\n",
              "    font-size: 13px;\n",
              "    color: #555;\n",
              "    margin-left: 4px;\n",
              "    line-height: 19px;\n",
              "  }\n",
              "</style>\n",
              "<div class=\"ansiout\">Success: True, Chunks: 1, Rows uploaded: 339587\n",
              "Done.\n",
              "</div>"
            ]
          },
          "metadata": {
            "application/vnd.databricks.v1+output": {
              "addedWidgets": {},
              "arguments": {},
              "data": "<div class=\"ansiout\">Success: True, Chunks: 1, Rows uploaded: 339587\nDone.\n</div>",
              "datasetInfos": [],
              "metadata": {},
              "removedWidgets": [],
              "type": "html"
            }
          },
          "output_type": "display_data"
        }
      ],
      "source": [
        "\n",
        "# prev_loan_features.to_parquet('data/previous_loan_features_table.parquet')\n",
        "process_send(prev_loan_features, \"previous_loan_features_table\")"
      ]
    }
  ],
  "metadata": {
    "application/vnd.databricks.v1+notebook": {
      "dashboards": [],
      "language": "python",
      "notebookMetadata": {
        "pythonIndentUnit": 4
      },
      "notebookName": "Feature engineering",
      "notebookOrigID": 4282096128748541,
      "widgets": {}
    },
    "kernel_info": {
      "name": "python38-azureml"
    },
    "kernelspec": {
      "display_name": "Python 3.8.9 64-bit",
      "language": "python",
      "name": "python3"
    },
    "language_info": {
      "codemirror_mode": {
        "name": "ipython",
        "version": 3
      },
      "file_extension": ".py",
      "mimetype": "text/x-python",
      "name": "python",
      "nbconvert_exporter": "python",
      "pygments_lexer": "ipython3",
      "version": "3.8.9"
    },
    "nteract": {
      "version": "nteract-front-end@1.0.0"
    },
    "vscode": {
      "interpreter": {
        "hash": "31f2aee4e71d21fbe5cf8b01ff0e069b9275f58929596ceb00d14d90e3e16cd6"
      }
    }
  },
  "nbformat": 4,
  "nbformat_minor": 4
}
